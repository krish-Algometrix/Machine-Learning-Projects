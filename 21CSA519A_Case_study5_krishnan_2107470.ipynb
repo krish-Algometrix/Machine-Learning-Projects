{
  "nbformat": 4,
  "nbformat_minor": 0,
  "metadata": {
    "colab": {
      "name": "21CSA519A_Case study5_krishnan_2107470.ipynb",
      "provenance": [],
      "collapsed_sections": [],
      "mount_file_id": "1Sk5d1F3FtwSm2sWB0OftMjADatCoxl_h",
      "authorship_tag": "ABX9TyPvszT+Uuf8+tgkEsCVzXbj",
      "include_colab_link": true
    },
    "kernelspec": {
      "name": "python3",
      "display_name": "Python 3"
    },
    "language_info": {
      "name": "python"
    }
  },
  "cells": [
    {
      "cell_type": "markdown",
      "metadata": {
        "id": "view-in-github",
        "colab_type": "text"
      },
      "source": [
        "<a href=\"https://colab.research.google.com/github/krish-hayagriva/Machine-Learning-Projects/blob/main/21CSA519A_Case_study5_krishnan_2107470.ipynb\" target=\"_parent\"><img src=\"https://colab.research.google.com/assets/colab-badge.svg\" alt=\"Open In Colab\"/></a>"
      ]
    },
    {
      "cell_type": "markdown",
      "source": [
        "This  sheet contains program code for Logistic Regression used for classification of rice data into binary class Gonen and Jasmine "
      ],
      "metadata": {
        "id": "MOKgBsC1OYZh"
      }
    },
    {
      "cell_type": "markdown",
      "source": [
        "Importing Libraries"
      ],
      "metadata": {
        "id": "oRj98Zo8OoCj"
      }
    },
    {
      "cell_type": "code",
      "execution_count": null,
      "metadata": {
        "id": "P9OWqOHmyqds"
      },
      "outputs": [],
      "source": [
        "import pandas as pd"
      ]
    },
    {
      "cell_type": "code",
      "source": [
        "import numpy as np\n",
        "import matplotlib.pyplot as plt\n",
        "import seaborn as sns\n",
        "import scipy as sp"
      ],
      "metadata": {
        "id": "G-tJEvuB0FxH"
      },
      "execution_count": null,
      "outputs": []
    },
    {
      "cell_type": "code",
      "source": [
        "pip install -U scikit-learn"
      ],
      "metadata": {
        "colab": {
          "base_uri": "https://localhost:8080/"
        },
        "id": "OzqqP9qg06DO",
        "outputId": "7a44176b-9dfe-4604-ba98-a27dcc842b47"
      },
      "execution_count": null,
      "outputs": [
        {
          "output_type": "stream",
          "name": "stdout",
          "text": [
            "Requirement already satisfied: scikit-learn in /usr/local/lib/python3.7/dist-packages (1.0.2)\n",
            "Requirement already satisfied: numpy>=1.14.6 in /usr/local/lib/python3.7/dist-packages (from scikit-learn) (1.21.5)\n",
            "Requirement already satisfied: threadpoolctl>=2.0.0 in /usr/local/lib/python3.7/dist-packages (from scikit-learn) (3.1.0)\n",
            "Requirement already satisfied: scipy>=1.1.0 in /usr/local/lib/python3.7/dist-packages (from scikit-learn) (1.4.1)\n",
            "Requirement already satisfied: joblib>=0.11 in /usr/local/lib/python3.7/dist-packages (from scikit-learn) (1.1.0)\n"
          ]
        }
      ]
    },
    {
      "cell_type": "markdown",
      "source": [
        "Importing and reading the dataset"
      ],
      "metadata": {
        "id": "bdESkARnOgv2"
      }
    },
    {
      "cell_type": "code",
      "source": [
        "from google.colab import drive\n",
        "drive.mount('/content/drive')"
      ],
      "metadata": {
        "colab": {
          "base_uri": "https://localhost:8080/"
        },
        "id": "IJRKr52EPt27",
        "outputId": "ccce0c33-88f3-431c-dad2-459cf8673e9c"
      },
      "execution_count": null,
      "outputs": [
        {
          "output_type": "stream",
          "name": "stdout",
          "text": [
            "Mounted at /content/drive\n"
          ]
        }
      ]
    },
    {
      "cell_type": "code",
      "source": [
        "\n",
        "ricedata = pd.read_csv(\"/content/drive/My Drive/rice.csv\")\n"
      ],
      "metadata": {
        "id": "F-KoIVFhQsr0"
      },
      "execution_count": null,
      "outputs": []
    },
    {
      "cell_type": "markdown",
      "source": [
        "Reading the rice dataframe"
      ],
      "metadata": {
        "id": "sVx0u499RaBZ"
      }
    },
    {
      "cell_type": "code",
      "source": [
        "ricedata\n"
      ],
      "metadata": {
        "colab": {
          "base_uri": "https://localhost:8080/",
          "height": 424
        },
        "id": "YAXCeJmRa22q",
        "outputId": "8ebf4a38-b2e0-43b2-cf6d-c17dad9cdb12"
      },
      "execution_count": null,
      "outputs": [
        {
          "output_type": "execute_result",
          "data": {
            "text/plain": [
              "          id  Area  MajorAxisLength  MinorAxisLength  Eccentricity  \\\n",
              "0          1  4537            92.23            64.01          0.72   \n",
              "1          2  2872            74.69            51.40          0.73   \n",
              "2          3  3048            76.29            52.04          0.73   \n",
              "3          4  3073            77.03            51.93          0.74   \n",
              "4          5  3693            85.12            56.37          0.75   \n",
              "...      ...   ...              ...              ...           ...   \n",
              "18180  18181  5853           148.62            51.03          0.94   \n",
              "18181  18182  7585           169.59            58.14          0.94   \n",
              "18182  18183  6365           154.78            52.91          0.94   \n",
              "18183  18184  5960           151.40            51.47          0.94   \n",
              "18184  18185  6134           153.08            51.59          0.94   \n",
              "\n",
              "       ConvexArea  EquivDiameter  Extent  Perimeter  Roundness  AspectRation  \\\n",
              "0            4677          76.00    0.66     273.09       0.76          1.44   \n",
              "1            3015          60.47    0.71     208.32       0.83          1.45   \n",
              "2            3132          62.30    0.76     210.01       0.87          1.47   \n",
              "3            3157          62.55    0.78     210.66       0.87          1.48   \n",
              "4            3802          68.57    0.77     230.33       0.87          1.51   \n",
              "...           ...            ...     ...        ...        ...           ...   \n",
              "18180        6008          86.33    0.50     332.96       0.66          2.91   \n",
              "18181        7806          98.27    0.65     385.51       0.64          2.92   \n",
              "18182        6531          90.02    0.56     342.25       0.68          2.93   \n",
              "18183        6189          87.11    0.49     343.37       0.64          2.94   \n",
              "18184        6283          88.37    0.49     338.61       0.67          2.97   \n",
              "\n",
              "         Class  \n",
              "0      jasmine  \n",
              "1      jasmine  \n",
              "2      jasmine  \n",
              "3      jasmine  \n",
              "4      jasmine  \n",
              "...        ...  \n",
              "18180    Gonen  \n",
              "18181    Gonen  \n",
              "18182    Gonen  \n",
              "18183    Gonen  \n",
              "18184    Gonen  \n",
              "\n",
              "[18185 rows x 12 columns]"
            ],
            "text/html": [
              "\n",
              "  <div id=\"df-a88b76a4-1c18-493b-b3e8-bf6bf01ef7af\">\n",
              "    <div class=\"colab-df-container\">\n",
              "      <div>\n",
              "<style scoped>\n",
              "    .dataframe tbody tr th:only-of-type {\n",
              "        vertical-align: middle;\n",
              "    }\n",
              "\n",
              "    .dataframe tbody tr th {\n",
              "        vertical-align: top;\n",
              "    }\n",
              "\n",
              "    .dataframe thead th {\n",
              "        text-align: right;\n",
              "    }\n",
              "</style>\n",
              "<table border=\"1\" class=\"dataframe\">\n",
              "  <thead>\n",
              "    <tr style=\"text-align: right;\">\n",
              "      <th></th>\n",
              "      <th>id</th>\n",
              "      <th>Area</th>\n",
              "      <th>MajorAxisLength</th>\n",
              "      <th>MinorAxisLength</th>\n",
              "      <th>Eccentricity</th>\n",
              "      <th>ConvexArea</th>\n",
              "      <th>EquivDiameter</th>\n",
              "      <th>Extent</th>\n",
              "      <th>Perimeter</th>\n",
              "      <th>Roundness</th>\n",
              "      <th>AspectRation</th>\n",
              "      <th>Class</th>\n",
              "    </tr>\n",
              "  </thead>\n",
              "  <tbody>\n",
              "    <tr>\n",
              "      <th>0</th>\n",
              "      <td>1</td>\n",
              "      <td>4537</td>\n",
              "      <td>92.23</td>\n",
              "      <td>64.01</td>\n",
              "      <td>0.72</td>\n",
              "      <td>4677</td>\n",
              "      <td>76.00</td>\n",
              "      <td>0.66</td>\n",
              "      <td>273.09</td>\n",
              "      <td>0.76</td>\n",
              "      <td>1.44</td>\n",
              "      <td>jasmine</td>\n",
              "    </tr>\n",
              "    <tr>\n",
              "      <th>1</th>\n",
              "      <td>2</td>\n",
              "      <td>2872</td>\n",
              "      <td>74.69</td>\n",
              "      <td>51.40</td>\n",
              "      <td>0.73</td>\n",
              "      <td>3015</td>\n",
              "      <td>60.47</td>\n",
              "      <td>0.71</td>\n",
              "      <td>208.32</td>\n",
              "      <td>0.83</td>\n",
              "      <td>1.45</td>\n",
              "      <td>jasmine</td>\n",
              "    </tr>\n",
              "    <tr>\n",
              "      <th>2</th>\n",
              "      <td>3</td>\n",
              "      <td>3048</td>\n",
              "      <td>76.29</td>\n",
              "      <td>52.04</td>\n",
              "      <td>0.73</td>\n",
              "      <td>3132</td>\n",
              "      <td>62.30</td>\n",
              "      <td>0.76</td>\n",
              "      <td>210.01</td>\n",
              "      <td>0.87</td>\n",
              "      <td>1.47</td>\n",
              "      <td>jasmine</td>\n",
              "    </tr>\n",
              "    <tr>\n",
              "      <th>3</th>\n",
              "      <td>4</td>\n",
              "      <td>3073</td>\n",
              "      <td>77.03</td>\n",
              "      <td>51.93</td>\n",
              "      <td>0.74</td>\n",
              "      <td>3157</td>\n",
              "      <td>62.55</td>\n",
              "      <td>0.78</td>\n",
              "      <td>210.66</td>\n",
              "      <td>0.87</td>\n",
              "      <td>1.48</td>\n",
              "      <td>jasmine</td>\n",
              "    </tr>\n",
              "    <tr>\n",
              "      <th>4</th>\n",
              "      <td>5</td>\n",
              "      <td>3693</td>\n",
              "      <td>85.12</td>\n",
              "      <td>56.37</td>\n",
              "      <td>0.75</td>\n",
              "      <td>3802</td>\n",
              "      <td>68.57</td>\n",
              "      <td>0.77</td>\n",
              "      <td>230.33</td>\n",
              "      <td>0.87</td>\n",
              "      <td>1.51</td>\n",
              "      <td>jasmine</td>\n",
              "    </tr>\n",
              "    <tr>\n",
              "      <th>...</th>\n",
              "      <td>...</td>\n",
              "      <td>...</td>\n",
              "      <td>...</td>\n",
              "      <td>...</td>\n",
              "      <td>...</td>\n",
              "      <td>...</td>\n",
              "      <td>...</td>\n",
              "      <td>...</td>\n",
              "      <td>...</td>\n",
              "      <td>...</td>\n",
              "      <td>...</td>\n",
              "      <td>...</td>\n",
              "    </tr>\n",
              "    <tr>\n",
              "      <th>18180</th>\n",
              "      <td>18181</td>\n",
              "      <td>5853</td>\n",
              "      <td>148.62</td>\n",
              "      <td>51.03</td>\n",
              "      <td>0.94</td>\n",
              "      <td>6008</td>\n",
              "      <td>86.33</td>\n",
              "      <td>0.50</td>\n",
              "      <td>332.96</td>\n",
              "      <td>0.66</td>\n",
              "      <td>2.91</td>\n",
              "      <td>Gonen</td>\n",
              "    </tr>\n",
              "    <tr>\n",
              "      <th>18181</th>\n",
              "      <td>18182</td>\n",
              "      <td>7585</td>\n",
              "      <td>169.59</td>\n",
              "      <td>58.14</td>\n",
              "      <td>0.94</td>\n",
              "      <td>7806</td>\n",
              "      <td>98.27</td>\n",
              "      <td>0.65</td>\n",
              "      <td>385.51</td>\n",
              "      <td>0.64</td>\n",
              "      <td>2.92</td>\n",
              "      <td>Gonen</td>\n",
              "    </tr>\n",
              "    <tr>\n",
              "      <th>18182</th>\n",
              "      <td>18183</td>\n",
              "      <td>6365</td>\n",
              "      <td>154.78</td>\n",
              "      <td>52.91</td>\n",
              "      <td>0.94</td>\n",
              "      <td>6531</td>\n",
              "      <td>90.02</td>\n",
              "      <td>0.56</td>\n",
              "      <td>342.25</td>\n",
              "      <td>0.68</td>\n",
              "      <td>2.93</td>\n",
              "      <td>Gonen</td>\n",
              "    </tr>\n",
              "    <tr>\n",
              "      <th>18183</th>\n",
              "      <td>18184</td>\n",
              "      <td>5960</td>\n",
              "      <td>151.40</td>\n",
              "      <td>51.47</td>\n",
              "      <td>0.94</td>\n",
              "      <td>6189</td>\n",
              "      <td>87.11</td>\n",
              "      <td>0.49</td>\n",
              "      <td>343.37</td>\n",
              "      <td>0.64</td>\n",
              "      <td>2.94</td>\n",
              "      <td>Gonen</td>\n",
              "    </tr>\n",
              "    <tr>\n",
              "      <th>18184</th>\n",
              "      <td>18185</td>\n",
              "      <td>6134</td>\n",
              "      <td>153.08</td>\n",
              "      <td>51.59</td>\n",
              "      <td>0.94</td>\n",
              "      <td>6283</td>\n",
              "      <td>88.37</td>\n",
              "      <td>0.49</td>\n",
              "      <td>338.61</td>\n",
              "      <td>0.67</td>\n",
              "      <td>2.97</td>\n",
              "      <td>Gonen</td>\n",
              "    </tr>\n",
              "  </tbody>\n",
              "</table>\n",
              "<p>18185 rows × 12 columns</p>\n",
              "</div>\n",
              "      <button class=\"colab-df-convert\" onclick=\"convertToInteractive('df-a88b76a4-1c18-493b-b3e8-bf6bf01ef7af')\"\n",
              "              title=\"Convert this dataframe to an interactive table.\"\n",
              "              style=\"display:none;\">\n",
              "        \n",
              "  <svg xmlns=\"http://www.w3.org/2000/svg\" height=\"24px\"viewBox=\"0 0 24 24\"\n",
              "       width=\"24px\">\n",
              "    <path d=\"M0 0h24v24H0V0z\" fill=\"none\"/>\n",
              "    <path d=\"M18.56 5.44l.94 2.06.94-2.06 2.06-.94-2.06-.94-.94-2.06-.94 2.06-2.06.94zm-11 1L8.5 8.5l.94-2.06 2.06-.94-2.06-.94L8.5 2.5l-.94 2.06-2.06.94zm10 10l.94 2.06.94-2.06 2.06-.94-2.06-.94-.94-2.06-.94 2.06-2.06.94z\"/><path d=\"M17.41 7.96l-1.37-1.37c-.4-.4-.92-.59-1.43-.59-.52 0-1.04.2-1.43.59L10.3 9.45l-7.72 7.72c-.78.78-.78 2.05 0 2.83L4 21.41c.39.39.9.59 1.41.59.51 0 1.02-.2 1.41-.59l7.78-7.78 2.81-2.81c.8-.78.8-2.07 0-2.86zM5.41 20L4 18.59l7.72-7.72 1.47 1.35L5.41 20z\"/>\n",
              "  </svg>\n",
              "      </button>\n",
              "      \n",
              "  <style>\n",
              "    .colab-df-container {\n",
              "      display:flex;\n",
              "      flex-wrap:wrap;\n",
              "      gap: 12px;\n",
              "    }\n",
              "\n",
              "    .colab-df-convert {\n",
              "      background-color: #E8F0FE;\n",
              "      border: none;\n",
              "      border-radius: 50%;\n",
              "      cursor: pointer;\n",
              "      display: none;\n",
              "      fill: #1967D2;\n",
              "      height: 32px;\n",
              "      padding: 0 0 0 0;\n",
              "      width: 32px;\n",
              "    }\n",
              "\n",
              "    .colab-df-convert:hover {\n",
              "      background-color: #E2EBFA;\n",
              "      box-shadow: 0px 1px 2px rgba(60, 64, 67, 0.3), 0px 1px 3px 1px rgba(60, 64, 67, 0.15);\n",
              "      fill: #174EA6;\n",
              "    }\n",
              "\n",
              "    [theme=dark] .colab-df-convert {\n",
              "      background-color: #3B4455;\n",
              "      fill: #D2E3FC;\n",
              "    }\n",
              "\n",
              "    [theme=dark] .colab-df-convert:hover {\n",
              "      background-color: #434B5C;\n",
              "      box-shadow: 0px 1px 3px 1px rgba(0, 0, 0, 0.15);\n",
              "      filter: drop-shadow(0px 1px 2px rgba(0, 0, 0, 0.3));\n",
              "      fill: #FFFFFF;\n",
              "    }\n",
              "  </style>\n",
              "\n",
              "      <script>\n",
              "        const buttonEl =\n",
              "          document.querySelector('#df-a88b76a4-1c18-493b-b3e8-bf6bf01ef7af button.colab-df-convert');\n",
              "        buttonEl.style.display =\n",
              "          google.colab.kernel.accessAllowed ? 'block' : 'none';\n",
              "\n",
              "        async function convertToInteractive(key) {\n",
              "          const element = document.querySelector('#df-a88b76a4-1c18-493b-b3e8-bf6bf01ef7af');\n",
              "          const dataTable =\n",
              "            await google.colab.kernel.invokeFunction('convertToInteractive',\n",
              "                                                     [key], {});\n",
              "          if (!dataTable) return;\n",
              "\n",
              "          const docLinkHtml = 'Like what you see? Visit the ' +\n",
              "            '<a target=\"_blank\" href=https://colab.research.google.com/notebooks/data_table.ipynb>data table notebook</a>'\n",
              "            + ' to learn more about interactive tables.';\n",
              "          element.innerHTML = '';\n",
              "          dataTable['output_type'] = 'display_data';\n",
              "          await google.colab.output.renderOutput(dataTable, element);\n",
              "          const docLink = document.createElement('div');\n",
              "          docLink.innerHTML = docLinkHtml;\n",
              "          element.appendChild(docLink);\n",
              "        }\n",
              "      </script>\n",
              "    </div>\n",
              "  </div>\n",
              "  "
            ]
          },
          "metadata": {},
          "execution_count": 11
        }
      ]
    },
    {
      "cell_type": "code",
      "source": [
        "ricedata.isnull().sum()"
      ],
      "metadata": {
        "id": "kiPEj030YZM6",
        "colab": {
          "base_uri": "https://localhost:8080/"
        },
        "outputId": "44a130d5-4967-4bd7-8848-e2d7ca6507d6"
      },
      "execution_count": null,
      "outputs": [
        {
          "output_type": "execute_result",
          "data": {
            "text/plain": [
              "id                 0\n",
              "Area               0\n",
              "MajorAxisLength    0\n",
              "MinorAxisLength    0\n",
              "Eccentricity       0\n",
              "ConvexArea         0\n",
              "EquivDiameter      0\n",
              "Extent             0\n",
              "Perimeter          0\n",
              "Roundness          0\n",
              "AspectRation       0\n",
              "Class              0\n",
              "dtype: int64"
            ]
          },
          "metadata": {},
          "execution_count": 12
        }
      ]
    },
    {
      "cell_type": "code",
      "source": [
        "ricedata = ricedata[[\"Area\",\"MajorAxisLength\",\"MinorAxisLength\",\"Eccentricity\",\"ConvexArea\",\"EquivDiameter\",\"Extent\",\"Perimeter\",\"Roundness\",\"AspectRation\",\"Class\" ]]"
      ],
      "metadata": {
        "id": "1OsUfVyFeZNa"
      },
      "execution_count": null,
      "outputs": []
    },
    {
      "cell_type": "code",
      "source": [
        "ricedata = ricedata.rename(columns={'Area': 'area', 'MajorAxisLength': 'maxis', 'MinorAxisLength':'minaxis','Eccentricity':'ecc','ConvexArea':'cvarea','EquivDiameter':'ediam','Extent':'extnt','Perimeter':'pmeter','AspectRation':'aspectr','Class':'ricetyp'})\n"
      ],
      "metadata": {
        "id": "oGZdeiBzpKNE"
      },
      "execution_count": null,
      "outputs": []
    },
    {
      "cell_type": "code",
      "source": [
        "ricedata.info()"
      ],
      "metadata": {
        "id": "Wj0MfoIxq7J4",
        "colab": {
          "base_uri": "https://localhost:8080/"
        },
        "outputId": "94ea5082-3eb2-43cd-83f2-50562dbd3bdb"
      },
      "execution_count": null,
      "outputs": [
        {
          "output_type": "stream",
          "name": "stdout",
          "text": [
            "<class 'pandas.core.frame.DataFrame'>\n",
            "RangeIndex: 18185 entries, 0 to 18184\n",
            "Data columns (total 11 columns):\n",
            " #   Column     Non-Null Count  Dtype  \n",
            "---  ------     --------------  -----  \n",
            " 0   area       18185 non-null  int64  \n",
            " 1   maxis      18185 non-null  float64\n",
            " 2   minaxis    18185 non-null  float64\n",
            " 3   ecc        18185 non-null  float64\n",
            " 4   cvarea     18185 non-null  int64  \n",
            " 5   ediam      18185 non-null  float64\n",
            " 6   extnt      18185 non-null  float64\n",
            " 7   pmeter     18185 non-null  float64\n",
            " 8   Roundness  18185 non-null  float64\n",
            " 9   aspectr    18185 non-null  float64\n",
            " 10  ricetyp    18185 non-null  object \n",
            "dtypes: float64(8), int64(2), object(1)\n",
            "memory usage: 1.5+ MB\n"
          ]
        }
      ]
    },
    {
      "cell_type": "code",
      "source": [
        "ricedata.describe()"
      ],
      "metadata": {
        "id": "cA3P9ErSrVPw",
        "colab": {
          "base_uri": "https://localhost:8080/",
          "height": 300
        },
        "outputId": "6039b0ff-80f4-4f16-e757-c1334d0c97d7"
      },
      "execution_count": null,
      "outputs": [
        {
          "output_type": "execute_result",
          "data": {
            "text/plain": [
              "               area         maxis       minaxis           ecc        cvarea  \\\n",
              "count  18185.000000  18185.000000  18185.000000  18185.000000  18185.000000   \n",
              "mean    7036.492989    151.680764     59.807854      0.915399   7225.817872   \n",
              "std     1467.197150     12.376392     10.061659      0.030720   1502.006571   \n",
              "min     2522.000000     74.130000     34.410000      0.680000   2579.000000   \n",
              "25%     5962.000000    145.680000     51.390000      0.890000   6125.000000   \n",
              "50%     6660.000000    153.880000     55.720000      0.920000   6843.000000   \n",
              "75%     8423.000000    160.060000     70.160000      0.940000   8645.000000   \n",
              "max    10210.000000    183.210000     82.550000      0.970000  11008.000000   \n",
              "\n",
              "              ediam         extnt        pmeter     Roundness       aspectr  \n",
              "count  18185.000000  18185.000000  18185.000000  18185.000000  18185.000000  \n",
              "mean      94.132967      0.616651    351.607424      0.707996      2.599092  \n",
              "std        9.906275      0.104400     29.500635      0.067363      0.434875  \n",
              "min       56.670000      0.380000    197.020000      0.170000      1.360000  \n",
              "25%       87.130000      0.540000    333.990000      0.650000      2.210000  \n",
              "50%       92.090000      0.600000    353.090000      0.700000      2.600000  \n",
              "75%      103.560000      0.700000    373.000000      0.770000      2.960000  \n",
              "max      114.020000      0.890000    508.510000      0.900000      3.910000  "
            ],
            "text/html": [
              "\n",
              "  <div id=\"df-e363a419-aabe-4ce4-8aeb-fc113369ebc8\">\n",
              "    <div class=\"colab-df-container\">\n",
              "      <div>\n",
              "<style scoped>\n",
              "    .dataframe tbody tr th:only-of-type {\n",
              "        vertical-align: middle;\n",
              "    }\n",
              "\n",
              "    .dataframe tbody tr th {\n",
              "        vertical-align: top;\n",
              "    }\n",
              "\n",
              "    .dataframe thead th {\n",
              "        text-align: right;\n",
              "    }\n",
              "</style>\n",
              "<table border=\"1\" class=\"dataframe\">\n",
              "  <thead>\n",
              "    <tr style=\"text-align: right;\">\n",
              "      <th></th>\n",
              "      <th>area</th>\n",
              "      <th>maxis</th>\n",
              "      <th>minaxis</th>\n",
              "      <th>ecc</th>\n",
              "      <th>cvarea</th>\n",
              "      <th>ediam</th>\n",
              "      <th>extnt</th>\n",
              "      <th>pmeter</th>\n",
              "      <th>Roundness</th>\n",
              "      <th>aspectr</th>\n",
              "    </tr>\n",
              "  </thead>\n",
              "  <tbody>\n",
              "    <tr>\n",
              "      <th>count</th>\n",
              "      <td>18185.000000</td>\n",
              "      <td>18185.000000</td>\n",
              "      <td>18185.000000</td>\n",
              "      <td>18185.000000</td>\n",
              "      <td>18185.000000</td>\n",
              "      <td>18185.000000</td>\n",
              "      <td>18185.000000</td>\n",
              "      <td>18185.000000</td>\n",
              "      <td>18185.000000</td>\n",
              "      <td>18185.000000</td>\n",
              "    </tr>\n",
              "    <tr>\n",
              "      <th>mean</th>\n",
              "      <td>7036.492989</td>\n",
              "      <td>151.680764</td>\n",
              "      <td>59.807854</td>\n",
              "      <td>0.915399</td>\n",
              "      <td>7225.817872</td>\n",
              "      <td>94.132967</td>\n",
              "      <td>0.616651</td>\n",
              "      <td>351.607424</td>\n",
              "      <td>0.707996</td>\n",
              "      <td>2.599092</td>\n",
              "    </tr>\n",
              "    <tr>\n",
              "      <th>std</th>\n",
              "      <td>1467.197150</td>\n",
              "      <td>12.376392</td>\n",
              "      <td>10.061659</td>\n",
              "      <td>0.030720</td>\n",
              "      <td>1502.006571</td>\n",
              "      <td>9.906275</td>\n",
              "      <td>0.104400</td>\n",
              "      <td>29.500635</td>\n",
              "      <td>0.067363</td>\n",
              "      <td>0.434875</td>\n",
              "    </tr>\n",
              "    <tr>\n",
              "      <th>min</th>\n",
              "      <td>2522.000000</td>\n",
              "      <td>74.130000</td>\n",
              "      <td>34.410000</td>\n",
              "      <td>0.680000</td>\n",
              "      <td>2579.000000</td>\n",
              "      <td>56.670000</td>\n",
              "      <td>0.380000</td>\n",
              "      <td>197.020000</td>\n",
              "      <td>0.170000</td>\n",
              "      <td>1.360000</td>\n",
              "    </tr>\n",
              "    <tr>\n",
              "      <th>25%</th>\n",
              "      <td>5962.000000</td>\n",
              "      <td>145.680000</td>\n",
              "      <td>51.390000</td>\n",
              "      <td>0.890000</td>\n",
              "      <td>6125.000000</td>\n",
              "      <td>87.130000</td>\n",
              "      <td>0.540000</td>\n",
              "      <td>333.990000</td>\n",
              "      <td>0.650000</td>\n",
              "      <td>2.210000</td>\n",
              "    </tr>\n",
              "    <tr>\n",
              "      <th>50%</th>\n",
              "      <td>6660.000000</td>\n",
              "      <td>153.880000</td>\n",
              "      <td>55.720000</td>\n",
              "      <td>0.920000</td>\n",
              "      <td>6843.000000</td>\n",
              "      <td>92.090000</td>\n",
              "      <td>0.600000</td>\n",
              "      <td>353.090000</td>\n",
              "      <td>0.700000</td>\n",
              "      <td>2.600000</td>\n",
              "    </tr>\n",
              "    <tr>\n",
              "      <th>75%</th>\n",
              "      <td>8423.000000</td>\n",
              "      <td>160.060000</td>\n",
              "      <td>70.160000</td>\n",
              "      <td>0.940000</td>\n",
              "      <td>8645.000000</td>\n",
              "      <td>103.560000</td>\n",
              "      <td>0.700000</td>\n",
              "      <td>373.000000</td>\n",
              "      <td>0.770000</td>\n",
              "      <td>2.960000</td>\n",
              "    </tr>\n",
              "    <tr>\n",
              "      <th>max</th>\n",
              "      <td>10210.000000</td>\n",
              "      <td>183.210000</td>\n",
              "      <td>82.550000</td>\n",
              "      <td>0.970000</td>\n",
              "      <td>11008.000000</td>\n",
              "      <td>114.020000</td>\n",
              "      <td>0.890000</td>\n",
              "      <td>508.510000</td>\n",
              "      <td>0.900000</td>\n",
              "      <td>3.910000</td>\n",
              "    </tr>\n",
              "  </tbody>\n",
              "</table>\n",
              "</div>\n",
              "      <button class=\"colab-df-convert\" onclick=\"convertToInteractive('df-e363a419-aabe-4ce4-8aeb-fc113369ebc8')\"\n",
              "              title=\"Convert this dataframe to an interactive table.\"\n",
              "              style=\"display:none;\">\n",
              "        \n",
              "  <svg xmlns=\"http://www.w3.org/2000/svg\" height=\"24px\"viewBox=\"0 0 24 24\"\n",
              "       width=\"24px\">\n",
              "    <path d=\"M0 0h24v24H0V0z\" fill=\"none\"/>\n",
              "    <path d=\"M18.56 5.44l.94 2.06.94-2.06 2.06-.94-2.06-.94-.94-2.06-.94 2.06-2.06.94zm-11 1L8.5 8.5l.94-2.06 2.06-.94-2.06-.94L8.5 2.5l-.94 2.06-2.06.94zm10 10l.94 2.06.94-2.06 2.06-.94-2.06-.94-.94-2.06-.94 2.06-2.06.94z\"/><path d=\"M17.41 7.96l-1.37-1.37c-.4-.4-.92-.59-1.43-.59-.52 0-1.04.2-1.43.59L10.3 9.45l-7.72 7.72c-.78.78-.78 2.05 0 2.83L4 21.41c.39.39.9.59 1.41.59.51 0 1.02-.2 1.41-.59l7.78-7.78 2.81-2.81c.8-.78.8-2.07 0-2.86zM5.41 20L4 18.59l7.72-7.72 1.47 1.35L5.41 20z\"/>\n",
              "  </svg>\n",
              "      </button>\n",
              "      \n",
              "  <style>\n",
              "    .colab-df-container {\n",
              "      display:flex;\n",
              "      flex-wrap:wrap;\n",
              "      gap: 12px;\n",
              "    }\n",
              "\n",
              "    .colab-df-convert {\n",
              "      background-color: #E8F0FE;\n",
              "      border: none;\n",
              "      border-radius: 50%;\n",
              "      cursor: pointer;\n",
              "      display: none;\n",
              "      fill: #1967D2;\n",
              "      height: 32px;\n",
              "      padding: 0 0 0 0;\n",
              "      width: 32px;\n",
              "    }\n",
              "\n",
              "    .colab-df-convert:hover {\n",
              "      background-color: #E2EBFA;\n",
              "      box-shadow: 0px 1px 2px rgba(60, 64, 67, 0.3), 0px 1px 3px 1px rgba(60, 64, 67, 0.15);\n",
              "      fill: #174EA6;\n",
              "    }\n",
              "\n",
              "    [theme=dark] .colab-df-convert {\n",
              "      background-color: #3B4455;\n",
              "      fill: #D2E3FC;\n",
              "    }\n",
              "\n",
              "    [theme=dark] .colab-df-convert:hover {\n",
              "      background-color: #434B5C;\n",
              "      box-shadow: 0px 1px 3px 1px rgba(0, 0, 0, 0.15);\n",
              "      filter: drop-shadow(0px 1px 2px rgba(0, 0, 0, 0.3));\n",
              "      fill: #FFFFFF;\n",
              "    }\n",
              "  </style>\n",
              "\n",
              "      <script>\n",
              "        const buttonEl =\n",
              "          document.querySelector('#df-e363a419-aabe-4ce4-8aeb-fc113369ebc8 button.colab-df-convert');\n",
              "        buttonEl.style.display =\n",
              "          google.colab.kernel.accessAllowed ? 'block' : 'none';\n",
              "\n",
              "        async function convertToInteractive(key) {\n",
              "          const element = document.querySelector('#df-e363a419-aabe-4ce4-8aeb-fc113369ebc8');\n",
              "          const dataTable =\n",
              "            await google.colab.kernel.invokeFunction('convertToInteractive',\n",
              "                                                     [key], {});\n",
              "          if (!dataTable) return;\n",
              "\n",
              "          const docLinkHtml = 'Like what you see? Visit the ' +\n",
              "            '<a target=\"_blank\" href=https://colab.research.google.com/notebooks/data_table.ipynb>data table notebook</a>'\n",
              "            + ' to learn more about interactive tables.';\n",
              "          element.innerHTML = '';\n",
              "          dataTable['output_type'] = 'display_data';\n",
              "          await google.colab.output.renderOutput(dataTable, element);\n",
              "          const docLink = document.createElement('div');\n",
              "          docLink.innerHTML = docLinkHtml;\n",
              "          element.appendChild(docLink);\n",
              "        }\n",
              "      </script>\n",
              "    </div>\n",
              "  </div>\n",
              "  "
            ]
          },
          "metadata": {},
          "execution_count": 16
        }
      ]
    },
    {
      "cell_type": "code",
      "source": [
        "x = pd.DataFrame(ricedata.iloc[:, 0:9])\n",
        "y = pd.DataFrame(ricedata.iloc[:,10])\n",
        "print(x.tail(10))\n"
      ],
      "metadata": {
        "id": "46gUnxkNsVKw",
        "colab": {
          "base_uri": "https://localhost:8080/"
        },
        "outputId": "493b61c7-f2d7-43a4-bc69-e6083135f60b"
      },
      "execution_count": null,
      "outputs": [
        {
          "output_type": "stream",
          "name": "stdout",
          "text": [
            "       area   maxis  minaxis   ecc  cvarea   ediam  extnt  pmeter  Roundness\n",
            "18175  9101  183.21    65.03  0.93    9431  107.65   0.47  414.05       0.67\n",
            "18176  7595  166.37    59.05  0.93    7734   98.34   0.48  371.32       0.69\n",
            "18177  5865  146.17    51.62  0.94    6011   86.41   0.55  326.86       0.69\n",
            "18178  6165  149.40    52.69  0.94    6295   88.60   0.66  339.23       0.67\n",
            "18179  5757  146.51    50.65  0.94    5859   85.62   0.48  326.51       0.68\n",
            "18180  5853  148.62    51.03  0.94    6008   86.33   0.50  332.96       0.66\n",
            "18181  7585  169.59    58.14  0.94    7806   98.27   0.65  385.51       0.64\n",
            "18182  6365  154.78    52.91  0.94    6531   90.02   0.56  342.25       0.68\n",
            "18183  5960  151.40    51.47  0.94    6189   87.11   0.49  343.37       0.64\n",
            "18184  6134  153.08    51.59  0.94    6283   88.37   0.49  338.61       0.67\n"
          ]
        }
      ]
    },
    {
      "cell_type": "markdown",
      "source": [
        "Before we begin any analzis , we standardize the data across all variables. This is necessary as we see that data is very skewed between features acmong the two classes Jasmine and Gonen rice types."
      ],
      "metadata": {
        "id": "2RpNvU2S1-lK"
      }
    },
    {
      "cell_type": "code",
      "source": [
        "type(x)\n",
        "type(y)"
      ],
      "metadata": {
        "id": "CMHnVaepDzUZ",
        "colab": {
          "base_uri": "https://localhost:8080/"
        },
        "outputId": "51e95a43-0d90-4660-a7fe-49f7533f698b"
      },
      "execution_count": null,
      "outputs": [
        {
          "output_type": "execute_result",
          "data": {
            "text/plain": [
              "pandas.core.frame.DataFrame"
            ]
          },
          "metadata": {},
          "execution_count": 18
        }
      ]
    },
    {
      "cell_type": "code",
      "source": [
        "ctendency = ricedata.groupby(['ricetyp']).mean()\n",
        "ricedata['ricetyp'].value_counts()"
      ],
      "metadata": {
        "colab": {
          "base_uri": "https://localhost:8080/"
        },
        "id": "bnW2L3GLNm4C",
        "outputId": "8b8d2b84-638e-46ca-dd9f-acca7145ccd4"
      },
      "execution_count": null,
      "outputs": [
        {
          "output_type": "execute_result",
          "data": {
            "text/plain": [
              "jasmine    9985\n",
              "Gonen      8200\n",
              "Name: ricetyp, dtype: int64"
            ]
          },
          "metadata": {},
          "execution_count": 19
        }
      ]
    },
    {
      "cell_type": "markdown",
      "source": [
        "One hot encoding of rice type column can be done as below. However since we are going to solve the problem of classification using Decision Tree, we need not one hot encode the column ricetype."
      ],
      "metadata": {
        "id": "h9tgvEsL83a3"
      }
    },
    {
      "cell_type": "markdown",
      "source": [
        "coding the rice type column as one hot codes"
      ],
      "metadata": {
        "id": "yIirmSo99H4b"
      }
    },
    {
      "cell_type": "markdown",
      "source": [
        ""
      ],
      "metadata": {
        "id": "UZjpyQfLOW4k"
      }
    },
    {
      "cell_type": "markdown",
      "source": [
        "One hot encoding of rice type column can be done as below. However since we are going to solve the problem of classification using Decision Tree, we need not one hot encode the column ricetype."
      ],
      "metadata": {
        "id": "Hi841rHuBB6M"
      }
    },
    {
      "cell_type": "code",
      "source": [
        "ricedata.head(3)"
      ],
      "metadata": {
        "colab": {
          "base_uri": "https://localhost:8080/",
          "height": 143
        },
        "id": "ydiY61L24YPI",
        "outputId": "de468205-b557-43cb-b7d2-0bf9221cf67f"
      },
      "execution_count": null,
      "outputs": [
        {
          "output_type": "execute_result",
          "data": {
            "text/plain": [
              "   area  maxis  minaxis   ecc  cvarea  ediam  extnt  pmeter  Roundness  \\\n",
              "0  4537  92.23    64.01  0.72    4677  76.00   0.66  273.09       0.76   \n",
              "1  2872  74.69    51.40  0.73    3015  60.47   0.71  208.32       0.83   \n",
              "2  3048  76.29    52.04  0.73    3132  62.30   0.76  210.01       0.87   \n",
              "\n",
              "   aspectr  ricetyp  \n",
              "0     1.44  jasmine  \n",
              "1     1.45  jasmine  \n",
              "2     1.47  jasmine  "
            ],
            "text/html": [
              "\n",
              "  <div id=\"df-8445d724-1972-48fa-b338-d9dbc1343e97\">\n",
              "    <div class=\"colab-df-container\">\n",
              "      <div>\n",
              "<style scoped>\n",
              "    .dataframe tbody tr th:only-of-type {\n",
              "        vertical-align: middle;\n",
              "    }\n",
              "\n",
              "    .dataframe tbody tr th {\n",
              "        vertical-align: top;\n",
              "    }\n",
              "\n",
              "    .dataframe thead th {\n",
              "        text-align: right;\n",
              "    }\n",
              "</style>\n",
              "<table border=\"1\" class=\"dataframe\">\n",
              "  <thead>\n",
              "    <tr style=\"text-align: right;\">\n",
              "      <th></th>\n",
              "      <th>area</th>\n",
              "      <th>maxis</th>\n",
              "      <th>minaxis</th>\n",
              "      <th>ecc</th>\n",
              "      <th>cvarea</th>\n",
              "      <th>ediam</th>\n",
              "      <th>extnt</th>\n",
              "      <th>pmeter</th>\n",
              "      <th>Roundness</th>\n",
              "      <th>aspectr</th>\n",
              "      <th>ricetyp</th>\n",
              "    </tr>\n",
              "  </thead>\n",
              "  <tbody>\n",
              "    <tr>\n",
              "      <th>0</th>\n",
              "      <td>4537</td>\n",
              "      <td>92.23</td>\n",
              "      <td>64.01</td>\n",
              "      <td>0.72</td>\n",
              "      <td>4677</td>\n",
              "      <td>76.00</td>\n",
              "      <td>0.66</td>\n",
              "      <td>273.09</td>\n",
              "      <td>0.76</td>\n",
              "      <td>1.44</td>\n",
              "      <td>jasmine</td>\n",
              "    </tr>\n",
              "    <tr>\n",
              "      <th>1</th>\n",
              "      <td>2872</td>\n",
              "      <td>74.69</td>\n",
              "      <td>51.40</td>\n",
              "      <td>0.73</td>\n",
              "      <td>3015</td>\n",
              "      <td>60.47</td>\n",
              "      <td>0.71</td>\n",
              "      <td>208.32</td>\n",
              "      <td>0.83</td>\n",
              "      <td>1.45</td>\n",
              "      <td>jasmine</td>\n",
              "    </tr>\n",
              "    <tr>\n",
              "      <th>2</th>\n",
              "      <td>3048</td>\n",
              "      <td>76.29</td>\n",
              "      <td>52.04</td>\n",
              "      <td>0.73</td>\n",
              "      <td>3132</td>\n",
              "      <td>62.30</td>\n",
              "      <td>0.76</td>\n",
              "      <td>210.01</td>\n",
              "      <td>0.87</td>\n",
              "      <td>1.47</td>\n",
              "      <td>jasmine</td>\n",
              "    </tr>\n",
              "  </tbody>\n",
              "</table>\n",
              "</div>\n",
              "      <button class=\"colab-df-convert\" onclick=\"convertToInteractive('df-8445d724-1972-48fa-b338-d9dbc1343e97')\"\n",
              "              title=\"Convert this dataframe to an interactive table.\"\n",
              "              style=\"display:none;\">\n",
              "        \n",
              "  <svg xmlns=\"http://www.w3.org/2000/svg\" height=\"24px\"viewBox=\"0 0 24 24\"\n",
              "       width=\"24px\">\n",
              "    <path d=\"M0 0h24v24H0V0z\" fill=\"none\"/>\n",
              "    <path d=\"M18.56 5.44l.94 2.06.94-2.06 2.06-.94-2.06-.94-.94-2.06-.94 2.06-2.06.94zm-11 1L8.5 8.5l.94-2.06 2.06-.94-2.06-.94L8.5 2.5l-.94 2.06-2.06.94zm10 10l.94 2.06.94-2.06 2.06-.94-2.06-.94-.94-2.06-.94 2.06-2.06.94z\"/><path d=\"M17.41 7.96l-1.37-1.37c-.4-.4-.92-.59-1.43-.59-.52 0-1.04.2-1.43.59L10.3 9.45l-7.72 7.72c-.78.78-.78 2.05 0 2.83L4 21.41c.39.39.9.59 1.41.59.51 0 1.02-.2 1.41-.59l7.78-7.78 2.81-2.81c.8-.78.8-2.07 0-2.86zM5.41 20L4 18.59l7.72-7.72 1.47 1.35L5.41 20z\"/>\n",
              "  </svg>\n",
              "      </button>\n",
              "      \n",
              "  <style>\n",
              "    .colab-df-container {\n",
              "      display:flex;\n",
              "      flex-wrap:wrap;\n",
              "      gap: 12px;\n",
              "    }\n",
              "\n",
              "    .colab-df-convert {\n",
              "      background-color: #E8F0FE;\n",
              "      border: none;\n",
              "      border-radius: 50%;\n",
              "      cursor: pointer;\n",
              "      display: none;\n",
              "      fill: #1967D2;\n",
              "      height: 32px;\n",
              "      padding: 0 0 0 0;\n",
              "      width: 32px;\n",
              "    }\n",
              "\n",
              "    .colab-df-convert:hover {\n",
              "      background-color: #E2EBFA;\n",
              "      box-shadow: 0px 1px 2px rgba(60, 64, 67, 0.3), 0px 1px 3px 1px rgba(60, 64, 67, 0.15);\n",
              "      fill: #174EA6;\n",
              "    }\n",
              "\n",
              "    [theme=dark] .colab-df-convert {\n",
              "      background-color: #3B4455;\n",
              "      fill: #D2E3FC;\n",
              "    }\n",
              "\n",
              "    [theme=dark] .colab-df-convert:hover {\n",
              "      background-color: #434B5C;\n",
              "      box-shadow: 0px 1px 3px 1px rgba(0, 0, 0, 0.15);\n",
              "      filter: drop-shadow(0px 1px 2px rgba(0, 0, 0, 0.3));\n",
              "      fill: #FFFFFF;\n",
              "    }\n",
              "  </style>\n",
              "\n",
              "      <script>\n",
              "        const buttonEl =\n",
              "          document.querySelector('#df-8445d724-1972-48fa-b338-d9dbc1343e97 button.colab-df-convert');\n",
              "        buttonEl.style.display =\n",
              "          google.colab.kernel.accessAllowed ? 'block' : 'none';\n",
              "\n",
              "        async function convertToInteractive(key) {\n",
              "          const element = document.querySelector('#df-8445d724-1972-48fa-b338-d9dbc1343e97');\n",
              "          const dataTable =\n",
              "            await google.colab.kernel.invokeFunction('convertToInteractive',\n",
              "                                                     [key], {});\n",
              "          if (!dataTable) return;\n",
              "\n",
              "          const docLinkHtml = 'Like what you see? Visit the ' +\n",
              "            '<a target=\"_blank\" href=https://colab.research.google.com/notebooks/data_table.ipynb>data table notebook</a>'\n",
              "            + ' to learn more about interactive tables.';\n",
              "          element.innerHTML = '';\n",
              "          dataTable['output_type'] = 'display_data';\n",
              "          await google.colab.output.renderOutput(dataTable, element);\n",
              "          const docLink = document.createElement('div');\n",
              "          docLink.innerHTML = docLinkHtml;\n",
              "          element.appendChild(docLink);\n",
              "        }\n",
              "      </script>\n",
              "    </div>\n",
              "  </div>\n",
              "  "
            ]
          },
          "metadata": {},
          "execution_count": 58
        }
      ]
    },
    {
      "cell_type": "code",
      "source": [
        "from sklearn import preprocessing\n",
        "from sklearn.preprocessing import StandardScaler\n",
        "sclr = StandardScaler() # defining the standard scaler\n",
        "X_scaled = pd.DataFrame(sclr.fit_transform(x),columns =x.columns) # transforming all features into a standardized form\n",
        "(X_scaled).head(5)"
      ],
      "metadata": {
        "id": "emIjmTfotCN1",
        "colab": {
          "base_uri": "https://localhost:8080/",
          "height": 206
        },
        "outputId": "c897c778-36a6-4ade-ca72-7304e1448cd3"
      },
      "execution_count": null,
      "outputs": [
        {
          "output_type": "execute_result",
          "data": {
            "text/plain": [
              "       area     maxis   minaxis       ecc    cvarea     ediam     extnt  \\\n",
              "0 -1.703630 -4.803694  0.417651 -6.360715 -1.696989 -1.830503  0.415237   \n",
              "1 -2.838478 -6.220947 -0.835656 -6.035191 -2.803539 -3.398239  0.894178   \n",
              "2 -2.718519 -6.091665 -0.772046 -6.035191 -2.725641 -3.213503  1.373119   \n",
              "3 -2.701479 -6.031872 -0.782979 -5.709666 -2.708996 -3.188265  1.564696   \n",
              "4 -2.278893 -5.378191 -0.341688 -5.384142 -2.279559 -2.580553  1.468907   \n",
              "\n",
              "     pmeter  Roundness  \n",
              "0 -2.661624   0.772015  \n",
              "1 -4.857230   1.811189  \n",
              "2 -4.799941   2.405003  \n",
              "3 -4.777907   2.405003  \n",
              "4 -4.111124   2.405003  "
            ],
            "text/html": [
              "\n",
              "  <div id=\"df-22364e8e-23cb-42d0-bff0-ca3b30d40d28\">\n",
              "    <div class=\"colab-df-container\">\n",
              "      <div>\n",
              "<style scoped>\n",
              "    .dataframe tbody tr th:only-of-type {\n",
              "        vertical-align: middle;\n",
              "    }\n",
              "\n",
              "    .dataframe tbody tr th {\n",
              "        vertical-align: top;\n",
              "    }\n",
              "\n",
              "    .dataframe thead th {\n",
              "        text-align: right;\n",
              "    }\n",
              "</style>\n",
              "<table border=\"1\" class=\"dataframe\">\n",
              "  <thead>\n",
              "    <tr style=\"text-align: right;\">\n",
              "      <th></th>\n",
              "      <th>area</th>\n",
              "      <th>maxis</th>\n",
              "      <th>minaxis</th>\n",
              "      <th>ecc</th>\n",
              "      <th>cvarea</th>\n",
              "      <th>ediam</th>\n",
              "      <th>extnt</th>\n",
              "      <th>pmeter</th>\n",
              "      <th>Roundness</th>\n",
              "    </tr>\n",
              "  </thead>\n",
              "  <tbody>\n",
              "    <tr>\n",
              "      <th>0</th>\n",
              "      <td>-1.703630</td>\n",
              "      <td>-4.803694</td>\n",
              "      <td>0.417651</td>\n",
              "      <td>-6.360715</td>\n",
              "      <td>-1.696989</td>\n",
              "      <td>-1.830503</td>\n",
              "      <td>0.415237</td>\n",
              "      <td>-2.661624</td>\n",
              "      <td>0.772015</td>\n",
              "    </tr>\n",
              "    <tr>\n",
              "      <th>1</th>\n",
              "      <td>-2.838478</td>\n",
              "      <td>-6.220947</td>\n",
              "      <td>-0.835656</td>\n",
              "      <td>-6.035191</td>\n",
              "      <td>-2.803539</td>\n",
              "      <td>-3.398239</td>\n",
              "      <td>0.894178</td>\n",
              "      <td>-4.857230</td>\n",
              "      <td>1.811189</td>\n",
              "    </tr>\n",
              "    <tr>\n",
              "      <th>2</th>\n",
              "      <td>-2.718519</td>\n",
              "      <td>-6.091665</td>\n",
              "      <td>-0.772046</td>\n",
              "      <td>-6.035191</td>\n",
              "      <td>-2.725641</td>\n",
              "      <td>-3.213503</td>\n",
              "      <td>1.373119</td>\n",
              "      <td>-4.799941</td>\n",
              "      <td>2.405003</td>\n",
              "    </tr>\n",
              "    <tr>\n",
              "      <th>3</th>\n",
              "      <td>-2.701479</td>\n",
              "      <td>-6.031872</td>\n",
              "      <td>-0.782979</td>\n",
              "      <td>-5.709666</td>\n",
              "      <td>-2.708996</td>\n",
              "      <td>-3.188265</td>\n",
              "      <td>1.564696</td>\n",
              "      <td>-4.777907</td>\n",
              "      <td>2.405003</td>\n",
              "    </tr>\n",
              "    <tr>\n",
              "      <th>4</th>\n",
              "      <td>-2.278893</td>\n",
              "      <td>-5.378191</td>\n",
              "      <td>-0.341688</td>\n",
              "      <td>-5.384142</td>\n",
              "      <td>-2.279559</td>\n",
              "      <td>-2.580553</td>\n",
              "      <td>1.468907</td>\n",
              "      <td>-4.111124</td>\n",
              "      <td>2.405003</td>\n",
              "    </tr>\n",
              "  </tbody>\n",
              "</table>\n",
              "</div>\n",
              "      <button class=\"colab-df-convert\" onclick=\"convertToInteractive('df-22364e8e-23cb-42d0-bff0-ca3b30d40d28')\"\n",
              "              title=\"Convert this dataframe to an interactive table.\"\n",
              "              style=\"display:none;\">\n",
              "        \n",
              "  <svg xmlns=\"http://www.w3.org/2000/svg\" height=\"24px\"viewBox=\"0 0 24 24\"\n",
              "       width=\"24px\">\n",
              "    <path d=\"M0 0h24v24H0V0z\" fill=\"none\"/>\n",
              "    <path d=\"M18.56 5.44l.94 2.06.94-2.06 2.06-.94-2.06-.94-.94-2.06-.94 2.06-2.06.94zm-11 1L8.5 8.5l.94-2.06 2.06-.94-2.06-.94L8.5 2.5l-.94 2.06-2.06.94zm10 10l.94 2.06.94-2.06 2.06-.94-2.06-.94-.94-2.06-.94 2.06-2.06.94z\"/><path d=\"M17.41 7.96l-1.37-1.37c-.4-.4-.92-.59-1.43-.59-.52 0-1.04.2-1.43.59L10.3 9.45l-7.72 7.72c-.78.78-.78 2.05 0 2.83L4 21.41c.39.39.9.59 1.41.59.51 0 1.02-.2 1.41-.59l7.78-7.78 2.81-2.81c.8-.78.8-2.07 0-2.86zM5.41 20L4 18.59l7.72-7.72 1.47 1.35L5.41 20z\"/>\n",
              "  </svg>\n",
              "      </button>\n",
              "      \n",
              "  <style>\n",
              "    .colab-df-container {\n",
              "      display:flex;\n",
              "      flex-wrap:wrap;\n",
              "      gap: 12px;\n",
              "    }\n",
              "\n",
              "    .colab-df-convert {\n",
              "      background-color: #E8F0FE;\n",
              "      border: none;\n",
              "      border-radius: 50%;\n",
              "      cursor: pointer;\n",
              "      display: none;\n",
              "      fill: #1967D2;\n",
              "      height: 32px;\n",
              "      padding: 0 0 0 0;\n",
              "      width: 32px;\n",
              "    }\n",
              "\n",
              "    .colab-df-convert:hover {\n",
              "      background-color: #E2EBFA;\n",
              "      box-shadow: 0px 1px 2px rgba(60, 64, 67, 0.3), 0px 1px 3px 1px rgba(60, 64, 67, 0.15);\n",
              "      fill: #174EA6;\n",
              "    }\n",
              "\n",
              "    [theme=dark] .colab-df-convert {\n",
              "      background-color: #3B4455;\n",
              "      fill: #D2E3FC;\n",
              "    }\n",
              "\n",
              "    [theme=dark] .colab-df-convert:hover {\n",
              "      background-color: #434B5C;\n",
              "      box-shadow: 0px 1px 3px 1px rgba(0, 0, 0, 0.15);\n",
              "      filter: drop-shadow(0px 1px 2px rgba(0, 0, 0, 0.3));\n",
              "      fill: #FFFFFF;\n",
              "    }\n",
              "  </style>\n",
              "\n",
              "      <script>\n",
              "        const buttonEl =\n",
              "          document.querySelector('#df-22364e8e-23cb-42d0-bff0-ca3b30d40d28 button.colab-df-convert');\n",
              "        buttonEl.style.display =\n",
              "          google.colab.kernel.accessAllowed ? 'block' : 'none';\n",
              "\n",
              "        async function convertToInteractive(key) {\n",
              "          const element = document.querySelector('#df-22364e8e-23cb-42d0-bff0-ca3b30d40d28');\n",
              "          const dataTable =\n",
              "            await google.colab.kernel.invokeFunction('convertToInteractive',\n",
              "                                                     [key], {});\n",
              "          if (!dataTable) return;\n",
              "\n",
              "          const docLinkHtml = 'Like what you see? Visit the ' +\n",
              "            '<a target=\"_blank\" href=https://colab.research.google.com/notebooks/data_table.ipynb>data table notebook</a>'\n",
              "            + ' to learn more about interactive tables.';\n",
              "          element.innerHTML = '';\n",
              "          dataTable['output_type'] = 'display_data';\n",
              "          await google.colab.output.renderOutput(dataTable, element);\n",
              "          const docLink = document.createElement('div');\n",
              "          docLink.innerHTML = docLinkHtml;\n",
              "          element.appendChild(docLink);\n",
              "        }\n",
              "      </script>\n",
              "    </div>\n",
              "  </div>\n",
              "  "
            ]
          },
          "metadata": {},
          "execution_count": 21
        }
      ]
    },
    {
      "cell_type": "code",
      "source": [
        "corr_matrix = ricedata.corr()\n",
        "print(corr_matrix)\n",
        "type(ricedata)"
      ],
      "metadata": {
        "id": "6aBSM4gpoolX",
        "colab": {
          "base_uri": "https://localhost:8080/"
        },
        "outputId": "32539fe5-d274-4b83-edea-fb494e76b1cf"
      },
      "execution_count": null,
      "outputs": [
        {
          "output_type": "stream",
          "name": "stdout",
          "text": [
            "               area     maxis   minaxis       ecc    cvarea     ediam  \\\n",
            "area       1.000000  0.599936  0.930215 -0.547336  0.999362  0.998158   \n",
            "maxis      0.599936  1.000000  0.273210  0.294857  0.602058  0.617999   \n",
            "minaxis    0.930215  0.273210  1.000000 -0.804891  0.928992  0.923791   \n",
            "ecc       -0.547336  0.294857 -0.804891  1.000000 -0.545176 -0.532027   \n",
            "cvarea     0.999362  0.602058  0.928992 -0.545176  1.000000  0.997403   \n",
            "ediam      0.998158  0.617999  0.923791 -0.532027  0.997403  1.000000   \n",
            "extnt      0.230947 -0.073161  0.308867 -0.328809  0.227771  0.226355   \n",
            "pmeter     0.881541  0.870176  0.674252 -0.164807  0.886988  0.891567   \n",
            "Roundness  0.620078 -0.202128  0.833680 -0.898622  0.609832  0.607035   \n",
            "aspectr   -0.623985  0.240445 -0.860509  0.946209 -0.621476 -0.609964   \n",
            "\n",
            "              extnt    pmeter  Roundness   aspectr  \n",
            "area       0.230947  0.881541   0.620078 -0.623985  \n",
            "maxis     -0.073161  0.870176  -0.202128  0.240445  \n",
            "minaxis    0.308867  0.674252   0.833680 -0.860509  \n",
            "ecc       -0.328809 -0.164807  -0.898622  0.946209  \n",
            "cvarea     0.227771  0.886988   0.609832 -0.621476  \n",
            "ediam      0.226355  0.891567   0.607035 -0.609964  \n",
            "extnt      1.000000  0.073697   0.366648 -0.351017  \n",
            "pmeter     0.073697  1.000000   0.186079 -0.227275  \n",
            "Roundness  0.366648  0.186079   1.000000 -0.946959  \n",
            "aspectr   -0.351017 -0.227275  -0.946959  1.000000  \n"
          ]
        },
        {
          "output_type": "execute_result",
          "data": {
            "text/plain": [
              "pandas.core.frame.DataFrame"
            ]
          },
          "metadata": {},
          "execution_count": 22
        }
      ]
    },
    {
      "cell_type": "code",
      "source": [
        "import seaborn as sns\n",
        "rice_plot = sns.pairplot(ricedata, hue ='ricetyp')"
      ],
      "metadata": {
        "id": "ocfmZqtexjKP",
        "colab": {
          "base_uri": "https://localhost:8080/",
          "height": 1000
        },
        "outputId": "147bade5-4fed-4956-a713-cb5718a90b8c"
      },
      "execution_count": null,
      "outputs": []
    },
    {
      "cell_type": "code",
      "source": [
        "from sklearn.model_selection import train_test_split\n",
        "x_train,x_test,y_train,y_test = train_test_split(X_scaled , y, random_state=0)\n",
        "x_train.head(3)"
      ],
      "metadata": {
        "colab": {
          "base_uri": "https://localhost:8080/",
          "height": 143
        },
        "id": "13fUhaNHN8kW",
        "outputId": "e07440aa-6472-4649-81cd-a96c242f6740"
      },
      "execution_count": null,
      "outputs": [
        {
          "output_type": "execute_result",
          "data": {
            "text/plain": [
              "           area     maxis   minaxis       ecc    cvarea     ediam     extnt  \\\n",
              "8656  -0.570146  0.658468 -0.924113  1.126349 -0.554485 -0.533310  1.373119   \n",
              "7129  -0.789618  0.187397 -0.931070  0.800824 -0.737579 -0.769530 -1.500528   \n",
              "14175  1.151552  0.462929  1.149161 -0.826798  1.113995  1.138404 -0.255281   \n",
              "\n",
              "         pmeter  Roundness  \n",
              "8656  -0.083642  -1.009426  \n",
              "7129  -0.310084  -1.157880  \n",
              "14175  0.764838   1.068922  "
            ],
            "text/html": [
              "\n",
              "  <div id=\"df-5aa307cb-d2c9-473f-9b8a-55c126471e01\">\n",
              "    <div class=\"colab-df-container\">\n",
              "      <div>\n",
              "<style scoped>\n",
              "    .dataframe tbody tr th:only-of-type {\n",
              "        vertical-align: middle;\n",
              "    }\n",
              "\n",
              "    .dataframe tbody tr th {\n",
              "        vertical-align: top;\n",
              "    }\n",
              "\n",
              "    .dataframe thead th {\n",
              "        text-align: right;\n",
              "    }\n",
              "</style>\n",
              "<table border=\"1\" class=\"dataframe\">\n",
              "  <thead>\n",
              "    <tr style=\"text-align: right;\">\n",
              "      <th></th>\n",
              "      <th>area</th>\n",
              "      <th>maxis</th>\n",
              "      <th>minaxis</th>\n",
              "      <th>ecc</th>\n",
              "      <th>cvarea</th>\n",
              "      <th>ediam</th>\n",
              "      <th>extnt</th>\n",
              "      <th>pmeter</th>\n",
              "      <th>Roundness</th>\n",
              "    </tr>\n",
              "  </thead>\n",
              "  <tbody>\n",
              "    <tr>\n",
              "      <th>8656</th>\n",
              "      <td>-0.570146</td>\n",
              "      <td>0.658468</td>\n",
              "      <td>-0.924113</td>\n",
              "      <td>1.126349</td>\n",
              "      <td>-0.554485</td>\n",
              "      <td>-0.533310</td>\n",
              "      <td>1.373119</td>\n",
              "      <td>-0.083642</td>\n",
              "      <td>-1.009426</td>\n",
              "    </tr>\n",
              "    <tr>\n",
              "      <th>7129</th>\n",
              "      <td>-0.789618</td>\n",
              "      <td>0.187397</td>\n",
              "      <td>-0.931070</td>\n",
              "      <td>0.800824</td>\n",
              "      <td>-0.737579</td>\n",
              "      <td>-0.769530</td>\n",
              "      <td>-1.500528</td>\n",
              "      <td>-0.310084</td>\n",
              "      <td>-1.157880</td>\n",
              "    </tr>\n",
              "    <tr>\n",
              "      <th>14175</th>\n",
              "      <td>1.151552</td>\n",
              "      <td>0.462929</td>\n",
              "      <td>1.149161</td>\n",
              "      <td>-0.826798</td>\n",
              "      <td>1.113995</td>\n",
              "      <td>1.138404</td>\n",
              "      <td>-0.255281</td>\n",
              "      <td>0.764838</td>\n",
              "      <td>1.068922</td>\n",
              "    </tr>\n",
              "  </tbody>\n",
              "</table>\n",
              "</div>\n",
              "      <button class=\"colab-df-convert\" onclick=\"convertToInteractive('df-5aa307cb-d2c9-473f-9b8a-55c126471e01')\"\n",
              "              title=\"Convert this dataframe to an interactive table.\"\n",
              "              style=\"display:none;\">\n",
              "        \n",
              "  <svg xmlns=\"http://www.w3.org/2000/svg\" height=\"24px\"viewBox=\"0 0 24 24\"\n",
              "       width=\"24px\">\n",
              "    <path d=\"M0 0h24v24H0V0z\" fill=\"none\"/>\n",
              "    <path d=\"M18.56 5.44l.94 2.06.94-2.06 2.06-.94-2.06-.94-.94-2.06-.94 2.06-2.06.94zm-11 1L8.5 8.5l.94-2.06 2.06-.94-2.06-.94L8.5 2.5l-.94 2.06-2.06.94zm10 10l.94 2.06.94-2.06 2.06-.94-2.06-.94-.94-2.06-.94 2.06-2.06.94z\"/><path d=\"M17.41 7.96l-1.37-1.37c-.4-.4-.92-.59-1.43-.59-.52 0-1.04.2-1.43.59L10.3 9.45l-7.72 7.72c-.78.78-.78 2.05 0 2.83L4 21.41c.39.39.9.59 1.41.59.51 0 1.02-.2 1.41-.59l7.78-7.78 2.81-2.81c.8-.78.8-2.07 0-2.86zM5.41 20L4 18.59l7.72-7.72 1.47 1.35L5.41 20z\"/>\n",
              "  </svg>\n",
              "      </button>\n",
              "      \n",
              "  <style>\n",
              "    .colab-df-container {\n",
              "      display:flex;\n",
              "      flex-wrap:wrap;\n",
              "      gap: 12px;\n",
              "    }\n",
              "\n",
              "    .colab-df-convert {\n",
              "      background-color: #E8F0FE;\n",
              "      border: none;\n",
              "      border-radius: 50%;\n",
              "      cursor: pointer;\n",
              "      display: none;\n",
              "      fill: #1967D2;\n",
              "      height: 32px;\n",
              "      padding: 0 0 0 0;\n",
              "      width: 32px;\n",
              "    }\n",
              "\n",
              "    .colab-df-convert:hover {\n",
              "      background-color: #E2EBFA;\n",
              "      box-shadow: 0px 1px 2px rgba(60, 64, 67, 0.3), 0px 1px 3px 1px rgba(60, 64, 67, 0.15);\n",
              "      fill: #174EA6;\n",
              "    }\n",
              "\n",
              "    [theme=dark] .colab-df-convert {\n",
              "      background-color: #3B4455;\n",
              "      fill: #D2E3FC;\n",
              "    }\n",
              "\n",
              "    [theme=dark] .colab-df-convert:hover {\n",
              "      background-color: #434B5C;\n",
              "      box-shadow: 0px 1px 3px 1px rgba(0, 0, 0, 0.15);\n",
              "      filter: drop-shadow(0px 1px 2px rgba(0, 0, 0, 0.3));\n",
              "      fill: #FFFFFF;\n",
              "    }\n",
              "  </style>\n",
              "\n",
              "      <script>\n",
              "        const buttonEl =\n",
              "          document.querySelector('#df-5aa307cb-d2c9-473f-9b8a-55c126471e01 button.colab-df-convert');\n",
              "        buttonEl.style.display =\n",
              "          google.colab.kernel.accessAllowed ? 'block' : 'none';\n",
              "\n",
              "        async function convertToInteractive(key) {\n",
              "          const element = document.querySelector('#df-5aa307cb-d2c9-473f-9b8a-55c126471e01');\n",
              "          const dataTable =\n",
              "            await google.colab.kernel.invokeFunction('convertToInteractive',\n",
              "                                                     [key], {});\n",
              "          if (!dataTable) return;\n",
              "\n",
              "          const docLinkHtml = 'Like what you see? Visit the ' +\n",
              "            '<a target=\"_blank\" href=https://colab.research.google.com/notebooks/data_table.ipynb>data table notebook</a>'\n",
              "            + ' to learn more about interactive tables.';\n",
              "          element.innerHTML = '';\n",
              "          dataTable['output_type'] = 'display_data';\n",
              "          await google.colab.output.renderOutput(dataTable, element);\n",
              "          const docLink = document.createElement('div');\n",
              "          docLink.innerHTML = docLinkHtml;\n",
              "          element.appendChild(docLink);\n",
              "        }\n",
              "      </script>\n",
              "    </div>\n",
              "  </div>\n",
              "  "
            ]
          },
          "metadata": {},
          "execution_count": 23
        }
      ]
    },
    {
      "cell_type": "code",
      "source": [
        "x_test.head(3)"
      ],
      "metadata": {
        "colab": {
          "base_uri": "https://localhost:8080/",
          "height": 143
        },
        "id": "0p_HBOeRu7Fn",
        "outputId": "a9a5aae0-5bb0-414b-9ade-7c3424d09d84"
      },
      "execution_count": null,
      "outputs": [
        {
          "output_type": "execute_result",
          "data": {
            "text/plain": [
              "           area     maxis   minaxis       ecc    cvarea     ediam     extnt  \\\n",
              "12333  1.157686  0.309407  1.268429 -1.152323  1.155274  1.143451  1.181543   \n",
              "10385  1.875401  0.837039  1.840915 -1.152323  1.882322  1.767316 -0.159493   \n",
              "12105  0.588558 -0.360435  0.913607 -1.152323  0.571373  0.621546 -0.159493   \n",
              "\n",
              "         pmeter  Roundness  \n",
              "12333  0.867550   0.920468  \n",
              "10385  1.623826   0.920468  \n",
              "12105  0.151614   1.068922  "
            ],
            "text/html": [
              "\n",
              "  <div id=\"df-72da604f-1ab1-4cbd-a564-dc1f5e33685b\">\n",
              "    <div class=\"colab-df-container\">\n",
              "      <div>\n",
              "<style scoped>\n",
              "    .dataframe tbody tr th:only-of-type {\n",
              "        vertical-align: middle;\n",
              "    }\n",
              "\n",
              "    .dataframe tbody tr th {\n",
              "        vertical-align: top;\n",
              "    }\n",
              "\n",
              "    .dataframe thead th {\n",
              "        text-align: right;\n",
              "    }\n",
              "</style>\n",
              "<table border=\"1\" class=\"dataframe\">\n",
              "  <thead>\n",
              "    <tr style=\"text-align: right;\">\n",
              "      <th></th>\n",
              "      <th>area</th>\n",
              "      <th>maxis</th>\n",
              "      <th>minaxis</th>\n",
              "      <th>ecc</th>\n",
              "      <th>cvarea</th>\n",
              "      <th>ediam</th>\n",
              "      <th>extnt</th>\n",
              "      <th>pmeter</th>\n",
              "      <th>Roundness</th>\n",
              "    </tr>\n",
              "  </thead>\n",
              "  <tbody>\n",
              "    <tr>\n",
              "      <th>12333</th>\n",
              "      <td>1.157686</td>\n",
              "      <td>0.309407</td>\n",
              "      <td>1.268429</td>\n",
              "      <td>-1.152323</td>\n",
              "      <td>1.155274</td>\n",
              "      <td>1.143451</td>\n",
              "      <td>1.181543</td>\n",
              "      <td>0.867550</td>\n",
              "      <td>0.920468</td>\n",
              "    </tr>\n",
              "    <tr>\n",
              "      <th>10385</th>\n",
              "      <td>1.875401</td>\n",
              "      <td>0.837039</td>\n",
              "      <td>1.840915</td>\n",
              "      <td>-1.152323</td>\n",
              "      <td>1.882322</td>\n",
              "      <td>1.767316</td>\n",
              "      <td>-0.159493</td>\n",
              "      <td>1.623826</td>\n",
              "      <td>0.920468</td>\n",
              "    </tr>\n",
              "    <tr>\n",
              "      <th>12105</th>\n",
              "      <td>0.588558</td>\n",
              "      <td>-0.360435</td>\n",
              "      <td>0.913607</td>\n",
              "      <td>-1.152323</td>\n",
              "      <td>0.571373</td>\n",
              "      <td>0.621546</td>\n",
              "      <td>-0.159493</td>\n",
              "      <td>0.151614</td>\n",
              "      <td>1.068922</td>\n",
              "    </tr>\n",
              "  </tbody>\n",
              "</table>\n",
              "</div>\n",
              "      <button class=\"colab-df-convert\" onclick=\"convertToInteractive('df-72da604f-1ab1-4cbd-a564-dc1f5e33685b')\"\n",
              "              title=\"Convert this dataframe to an interactive table.\"\n",
              "              style=\"display:none;\">\n",
              "        \n",
              "  <svg xmlns=\"http://www.w3.org/2000/svg\" height=\"24px\"viewBox=\"0 0 24 24\"\n",
              "       width=\"24px\">\n",
              "    <path d=\"M0 0h24v24H0V0z\" fill=\"none\"/>\n",
              "    <path d=\"M18.56 5.44l.94 2.06.94-2.06 2.06-.94-2.06-.94-.94-2.06-.94 2.06-2.06.94zm-11 1L8.5 8.5l.94-2.06 2.06-.94-2.06-.94L8.5 2.5l-.94 2.06-2.06.94zm10 10l.94 2.06.94-2.06 2.06-.94-2.06-.94-.94-2.06-.94 2.06-2.06.94z\"/><path d=\"M17.41 7.96l-1.37-1.37c-.4-.4-.92-.59-1.43-.59-.52 0-1.04.2-1.43.59L10.3 9.45l-7.72 7.72c-.78.78-.78 2.05 0 2.83L4 21.41c.39.39.9.59 1.41.59.51 0 1.02-.2 1.41-.59l7.78-7.78 2.81-2.81c.8-.78.8-2.07 0-2.86zM5.41 20L4 18.59l7.72-7.72 1.47 1.35L5.41 20z\"/>\n",
              "  </svg>\n",
              "      </button>\n",
              "      \n",
              "  <style>\n",
              "    .colab-df-container {\n",
              "      display:flex;\n",
              "      flex-wrap:wrap;\n",
              "      gap: 12px;\n",
              "    }\n",
              "\n",
              "    .colab-df-convert {\n",
              "      background-color: #E8F0FE;\n",
              "      border: none;\n",
              "      border-radius: 50%;\n",
              "      cursor: pointer;\n",
              "      display: none;\n",
              "      fill: #1967D2;\n",
              "      height: 32px;\n",
              "      padding: 0 0 0 0;\n",
              "      width: 32px;\n",
              "    }\n",
              "\n",
              "    .colab-df-convert:hover {\n",
              "      background-color: #E2EBFA;\n",
              "      box-shadow: 0px 1px 2px rgba(60, 64, 67, 0.3), 0px 1px 3px 1px rgba(60, 64, 67, 0.15);\n",
              "      fill: #174EA6;\n",
              "    }\n",
              "\n",
              "    [theme=dark] .colab-df-convert {\n",
              "      background-color: #3B4455;\n",
              "      fill: #D2E3FC;\n",
              "    }\n",
              "\n",
              "    [theme=dark] .colab-df-convert:hover {\n",
              "      background-color: #434B5C;\n",
              "      box-shadow: 0px 1px 3px 1px rgba(0, 0, 0, 0.15);\n",
              "      filter: drop-shadow(0px 1px 2px rgba(0, 0, 0, 0.3));\n",
              "      fill: #FFFFFF;\n",
              "    }\n",
              "  </style>\n",
              "\n",
              "      <script>\n",
              "        const buttonEl =\n",
              "          document.querySelector('#df-72da604f-1ab1-4cbd-a564-dc1f5e33685b button.colab-df-convert');\n",
              "        buttonEl.style.display =\n",
              "          google.colab.kernel.accessAllowed ? 'block' : 'none';\n",
              "\n",
              "        async function convertToInteractive(key) {\n",
              "          const element = document.querySelector('#df-72da604f-1ab1-4cbd-a564-dc1f5e33685b');\n",
              "          const dataTable =\n",
              "            await google.colab.kernel.invokeFunction('convertToInteractive',\n",
              "                                                     [key], {});\n",
              "          if (!dataTable) return;\n",
              "\n",
              "          const docLinkHtml = 'Like what you see? Visit the ' +\n",
              "            '<a target=\"_blank\" href=https://colab.research.google.com/notebooks/data_table.ipynb>data table notebook</a>'\n",
              "            + ' to learn more about interactive tables.';\n",
              "          element.innerHTML = '';\n",
              "          dataTable['output_type'] = 'display_data';\n",
              "          await google.colab.output.renderOutput(dataTable, element);\n",
              "          const docLink = document.createElement('div');\n",
              "          docLink.innerHTML = docLinkHtml;\n",
              "          element.appendChild(docLink);\n",
              "        }\n",
              "      </script>\n",
              "    </div>\n",
              "  </div>\n",
              "  "
            ]
          },
          "metadata": {},
          "execution_count": 24
        }
      ]
    },
    {
      "cell_type": "code",
      "source": [
        "x_train.head(3)\n",
        "type(x_train)"
      ],
      "metadata": {
        "colab": {
          "base_uri": "https://localhost:8080/"
        },
        "id": "_aXC1V_jSbOb",
        "outputId": "e9e7338d-a307-4ac7-c528-86333714ff88"
      },
      "execution_count": null,
      "outputs": [
        {
          "output_type": "execute_result",
          "data": {
            "text/plain": [
              "pandas.core.frame.DataFrame"
            ]
          },
          "metadata": {},
          "execution_count": 31
        }
      ]
    },
    {
      "cell_type": "code",
      "source": [
        "from sklearn.linear_model import LogisticRegressionCV\n",
        "clf = LogisticRegressionCV(cv=10, random_state=0,verbose = 1, n_jobs= -1, Cs =8).fit(x_train, y_train)\n",
        "\n",
        "\n"
      ],
      "metadata": {
        "id": "x304oLxxEnZ7",
        "colab": {
          "base_uri": "https://localhost:8080/"
        },
        "outputId": "b2700394-9512-4ad6-952f-c3bc94ba6302"
      },
      "execution_count": null,
      "outputs": [
        {
          "output_type": "stream",
          "name": "stderr",
          "text": [
            "/usr/local/lib/python3.7/dist-packages/sklearn/utils/validation.py:993: DataConversionWarning: A column-vector y was passed when a 1d array was expected. Please change the shape of y to (n_samples, ), for example using ravel().\n",
            "  y = column_or_1d(y, warn=True)\n",
            "[Parallel(n_jobs=-1)]: Using backend LokyBackend with 2 concurrent workers.\n",
            "[Parallel(n_jobs=-1)]: Done  10 out of  10 | elapsed:    8.4s finished\n"
          ]
        }
      ]
    },
    {
      "cell_type": "code",
      "source": [
        "train_model = pd.DataFrame(clf.predict(x_train), columns = ['predicted'])\n",
        "train_model['actual'] = y_train.values\n",
        "train_model.head(3)"
      ],
      "metadata": {
        "colab": {
          "base_uri": "https://localhost:8080/",
          "height": 143
        },
        "id": "uDsFKtpAxsoS",
        "outputId": "ea7b204c-dbd3-4576-975f-17ce45d9623f"
      },
      "execution_count": null,
      "outputs": [
        {
          "output_type": "execute_result",
          "data": {
            "text/plain": [
              "  predicted   actual\n",
              "0   jasmine  jasmine\n",
              "1   jasmine  jasmine\n",
              "2     Gonen    Gonen"
            ],
            "text/html": [
              "\n",
              "  <div id=\"df-617edbee-151b-4bd6-8d6e-e06ba4808832\">\n",
              "    <div class=\"colab-df-container\">\n",
              "      <div>\n",
              "<style scoped>\n",
              "    .dataframe tbody tr th:only-of-type {\n",
              "        vertical-align: middle;\n",
              "    }\n",
              "\n",
              "    .dataframe tbody tr th {\n",
              "        vertical-align: top;\n",
              "    }\n",
              "\n",
              "    .dataframe thead th {\n",
              "        text-align: right;\n",
              "    }\n",
              "</style>\n",
              "<table border=\"1\" class=\"dataframe\">\n",
              "  <thead>\n",
              "    <tr style=\"text-align: right;\">\n",
              "      <th></th>\n",
              "      <th>predicted</th>\n",
              "      <th>actual</th>\n",
              "    </tr>\n",
              "  </thead>\n",
              "  <tbody>\n",
              "    <tr>\n",
              "      <th>0</th>\n",
              "      <td>jasmine</td>\n",
              "      <td>jasmine</td>\n",
              "    </tr>\n",
              "    <tr>\n",
              "      <th>1</th>\n",
              "      <td>jasmine</td>\n",
              "      <td>jasmine</td>\n",
              "    </tr>\n",
              "    <tr>\n",
              "      <th>2</th>\n",
              "      <td>Gonen</td>\n",
              "      <td>Gonen</td>\n",
              "    </tr>\n",
              "  </tbody>\n",
              "</table>\n",
              "</div>\n",
              "      <button class=\"colab-df-convert\" onclick=\"convertToInteractive('df-617edbee-151b-4bd6-8d6e-e06ba4808832')\"\n",
              "              title=\"Convert this dataframe to an interactive table.\"\n",
              "              style=\"display:none;\">\n",
              "        \n",
              "  <svg xmlns=\"http://www.w3.org/2000/svg\" height=\"24px\"viewBox=\"0 0 24 24\"\n",
              "       width=\"24px\">\n",
              "    <path d=\"M0 0h24v24H0V0z\" fill=\"none\"/>\n",
              "    <path d=\"M18.56 5.44l.94 2.06.94-2.06 2.06-.94-2.06-.94-.94-2.06-.94 2.06-2.06.94zm-11 1L8.5 8.5l.94-2.06 2.06-.94-2.06-.94L8.5 2.5l-.94 2.06-2.06.94zm10 10l.94 2.06.94-2.06 2.06-.94-2.06-.94-.94-2.06-.94 2.06-2.06.94z\"/><path d=\"M17.41 7.96l-1.37-1.37c-.4-.4-.92-.59-1.43-.59-.52 0-1.04.2-1.43.59L10.3 9.45l-7.72 7.72c-.78.78-.78 2.05 0 2.83L4 21.41c.39.39.9.59 1.41.59.51 0 1.02-.2 1.41-.59l7.78-7.78 2.81-2.81c.8-.78.8-2.07 0-2.86zM5.41 20L4 18.59l7.72-7.72 1.47 1.35L5.41 20z\"/>\n",
              "  </svg>\n",
              "      </button>\n",
              "      \n",
              "  <style>\n",
              "    .colab-df-container {\n",
              "      display:flex;\n",
              "      flex-wrap:wrap;\n",
              "      gap: 12px;\n",
              "    }\n",
              "\n",
              "    .colab-df-convert {\n",
              "      background-color: #E8F0FE;\n",
              "      border: none;\n",
              "      border-radius: 50%;\n",
              "      cursor: pointer;\n",
              "      display: none;\n",
              "      fill: #1967D2;\n",
              "      height: 32px;\n",
              "      padding: 0 0 0 0;\n",
              "      width: 32px;\n",
              "    }\n",
              "\n",
              "    .colab-df-convert:hover {\n",
              "      background-color: #E2EBFA;\n",
              "      box-shadow: 0px 1px 2px rgba(60, 64, 67, 0.3), 0px 1px 3px 1px rgba(60, 64, 67, 0.15);\n",
              "      fill: #174EA6;\n",
              "    }\n",
              "\n",
              "    [theme=dark] .colab-df-convert {\n",
              "      background-color: #3B4455;\n",
              "      fill: #D2E3FC;\n",
              "    }\n",
              "\n",
              "    [theme=dark] .colab-df-convert:hover {\n",
              "      background-color: #434B5C;\n",
              "      box-shadow: 0px 1px 3px 1px rgba(0, 0, 0, 0.15);\n",
              "      filter: drop-shadow(0px 1px 2px rgba(0, 0, 0, 0.3));\n",
              "      fill: #FFFFFF;\n",
              "    }\n",
              "  </style>\n",
              "\n",
              "      <script>\n",
              "        const buttonEl =\n",
              "          document.querySelector('#df-617edbee-151b-4bd6-8d6e-e06ba4808832 button.colab-df-convert');\n",
              "        buttonEl.style.display =\n",
              "          google.colab.kernel.accessAllowed ? 'block' : 'none';\n",
              "\n",
              "        async function convertToInteractive(key) {\n",
              "          const element = document.querySelector('#df-617edbee-151b-4bd6-8d6e-e06ba4808832');\n",
              "          const dataTable =\n",
              "            await google.colab.kernel.invokeFunction('convertToInteractive',\n",
              "                                                     [key], {});\n",
              "          if (!dataTable) return;\n",
              "\n",
              "          const docLinkHtml = 'Like what you see? Visit the ' +\n",
              "            '<a target=\"_blank\" href=https://colab.research.google.com/notebooks/data_table.ipynb>data table notebook</a>'\n",
              "            + ' to learn more about interactive tables.';\n",
              "          element.innerHTML = '';\n",
              "          dataTable['output_type'] = 'display_data';\n",
              "          await google.colab.output.renderOutput(dataTable, element);\n",
              "          const docLink = document.createElement('div');\n",
              "          docLink.innerHTML = docLinkHtml;\n",
              "          element.appendChild(docLink);\n",
              "        }\n",
              "      </script>\n",
              "    </div>\n",
              "  </div>\n",
              "  "
            ]
          },
          "metadata": {},
          "execution_count": 87
        }
      ]
    },
    {
      "cell_type": "code",
      "source": [
        "from sklearn import metrics\n",
        "from sklearn.metrics import confusion_matrix\n",
        "from sklearn.metrics import plot_confusion_matrix\n",
        "cf = plot_confusion_matrix(clf,x_train,y_train) "
      ],
      "metadata": {
        "colab": {
          "base_uri": "https://localhost:8080/",
          "height": 334
        },
        "id": "PK49un6u5GQ1",
        "outputId": "62fd849c-d89f-47f0-fca8-343720b303e1"
      },
      "execution_count": null,
      "outputs": [
        {
          "output_type": "stream",
          "name": "stderr",
          "text": [
            "/usr/local/lib/python3.7/dist-packages/sklearn/utils/deprecation.py:87: FutureWarning: Function plot_confusion_matrix is deprecated; Function `plot_confusion_matrix` is deprecated in 1.0 and will be removed in 1.2. Use one of the class methods: ConfusionMatrixDisplay.from_predictions or ConfusionMatrixDisplay.from_estimator.\n",
            "  warnings.warn(msg, category=FutureWarning)\n"
          ]
        },
        {
          "output_type": "display_data",
          "data": {
            "text/plain": [
              "<Figure size 432x288 with 2 Axes>"
            ],
            "image/png": "[encoded data removed]"
          },
          "metadata": {
            "needs_background": "light"
          }
        }
      ]
    },
    {
      "cell_type": "code",
      "source": [
        "from sklearn.metrics import classification_report\n",
        "print(classification_report(train_model['actual'],train_model['predicted']))"
      ],
      "metadata": {
        "colab": {
          "base_uri": "https://localhost:8080/"
        },
        "id": "D-E4222k6qWw",
        "outputId": "38d14887-9f9c-4ee6-9065-aadd7e2a0ae5"
      },
      "execution_count": null,
      "outputs": [
        {
          "output_type": "stream",
          "name": "stdout",
          "text": [
            "              precision    recall  f1-score   support\n",
            "\n",
            "       Gonen       0.99      0.99      0.99      6136\n",
            "     jasmine       0.99      0.99      0.99      7502\n",
            "\n",
            "    accuracy                           0.99     13638\n",
            "   macro avg       0.99      0.99      0.99     13638\n",
            "weighted avg       0.99      0.99      0.99     13638\n",
            "\n"
          ]
        }
      ]
    },
    {
      "cell_type": "code",
      "source": [
        "test_model = pd.DataFrame(clf.predict(x_test), columns = ['predicted'])\n",
        "test_model['actual'] = y_test.values\n",
        "test_model.head(3)"
      ],
      "metadata": {
        "colab": {
          "base_uri": "https://localhost:8080/",
          "height": 143
        },
        "id": "FB9TH1L4ROSj",
        "outputId": "1065db42-0114-4b7b-9bff-dc5e560a375d"
      },
      "execution_count": null,
      "outputs": [
        {
          "output_type": "execute_result",
          "data": {
            "text/plain": [
              "  predicted actual\n",
              "0     Gonen  Gonen\n",
              "1     Gonen  Gonen\n",
              "2     Gonen  Gonen"
            ],
            "text/html": [
              "\n",
              "  <div id=\"df-8e91227c-e398-4f5c-b9dc-0cce07c0d94c\">\n",
              "    <div class=\"colab-df-container\">\n",
              "      <div>\n",
              "<style scoped>\n",
              "    .dataframe tbody tr th:only-of-type {\n",
              "        vertical-align: middle;\n",
              "    }\n",
              "\n",
              "    .dataframe tbody tr th {\n",
              "        vertical-align: top;\n",
              "    }\n",
              "\n",
              "    .dataframe thead th {\n",
              "        text-align: right;\n",
              "    }\n",
              "</style>\n",
              "<table border=\"1\" class=\"dataframe\">\n",
              "  <thead>\n",
              "    <tr style=\"text-align: right;\">\n",
              "      <th></th>\n",
              "      <th>predicted</th>\n",
              "      <th>actual</th>\n",
              "    </tr>\n",
              "  </thead>\n",
              "  <tbody>\n",
              "    <tr>\n",
              "      <th>0</th>\n",
              "      <td>Gonen</td>\n",
              "      <td>Gonen</td>\n",
              "    </tr>\n",
              "    <tr>\n",
              "      <th>1</th>\n",
              "      <td>Gonen</td>\n",
              "      <td>Gonen</td>\n",
              "    </tr>\n",
              "    <tr>\n",
              "      <th>2</th>\n",
              "      <td>Gonen</td>\n",
              "      <td>Gonen</td>\n",
              "    </tr>\n",
              "  </tbody>\n",
              "</table>\n",
              "</div>\n",
              "      <button class=\"colab-df-convert\" onclick=\"convertToInteractive('df-8e91227c-e398-4f5c-b9dc-0cce07c0d94c')\"\n",
              "              title=\"Convert this dataframe to an interactive table.\"\n",
              "              style=\"display:none;\">\n",
              "        \n",
              "  <svg xmlns=\"http://www.w3.org/2000/svg\" height=\"24px\"viewBox=\"0 0 24 24\"\n",
              "       width=\"24px\">\n",
              "    <path d=\"M0 0h24v24H0V0z\" fill=\"none\"/>\n",
              "    <path d=\"M18.56 5.44l.94 2.06.94-2.06 2.06-.94-2.06-.94-.94-2.06-.94 2.06-2.06.94zm-11 1L8.5 8.5l.94-2.06 2.06-.94-2.06-.94L8.5 2.5l-.94 2.06-2.06.94zm10 10l.94 2.06.94-2.06 2.06-.94-2.06-.94-.94-2.06-.94 2.06-2.06.94z\"/><path d=\"M17.41 7.96l-1.37-1.37c-.4-.4-.92-.59-1.43-.59-.52 0-1.04.2-1.43.59L10.3 9.45l-7.72 7.72c-.78.78-.78 2.05 0 2.83L4 21.41c.39.39.9.59 1.41.59.51 0 1.02-.2 1.41-.59l7.78-7.78 2.81-2.81c.8-.78.8-2.07 0-2.86zM5.41 20L4 18.59l7.72-7.72 1.47 1.35L5.41 20z\"/>\n",
              "  </svg>\n",
              "      </button>\n",
              "      \n",
              "  <style>\n",
              "    .colab-df-container {\n",
              "      display:flex;\n",
              "      flex-wrap:wrap;\n",
              "      gap: 12px;\n",
              "    }\n",
              "\n",
              "    .colab-df-convert {\n",
              "      background-color: #E8F0FE;\n",
              "      border: none;\n",
              "      border-radius: 50%;\n",
              "      cursor: pointer;\n",
              "      display: none;\n",
              "      fill: #1967D2;\n",
              "      height: 32px;\n",
              "      padding: 0 0 0 0;\n",
              "      width: 32px;\n",
              "    }\n",
              "\n",
              "    .colab-df-convert:hover {\n",
              "      background-color: #E2EBFA;\n",
              "      box-shadow: 0px 1px 2px rgba(60, 64, 67, 0.3), 0px 1px 3px 1px rgba(60, 64, 67, 0.15);\n",
              "      fill: #174EA6;\n",
              "    }\n",
              "\n",
              "    [theme=dark] .colab-df-convert {\n",
              "      background-color: #3B4455;\n",
              "      fill: #D2E3FC;\n",
              "    }\n",
              "\n",
              "    [theme=dark] .colab-df-convert:hover {\n",
              "      background-color: #434B5C;\n",
              "      box-shadow: 0px 1px 3px 1px rgba(0, 0, 0, 0.15);\n",
              "      filter: drop-shadow(0px 1px 2px rgba(0, 0, 0, 0.3));\n",
              "      fill: #FFFFFF;\n",
              "    }\n",
              "  </style>\n",
              "\n",
              "      <script>\n",
              "        const buttonEl =\n",
              "          document.querySelector('#df-8e91227c-e398-4f5c-b9dc-0cce07c0d94c button.colab-df-convert');\n",
              "        buttonEl.style.display =\n",
              "          google.colab.kernel.accessAllowed ? 'block' : 'none';\n",
              "\n",
              "        async function convertToInteractive(key) {\n",
              "          const element = document.querySelector('#df-8e91227c-e398-4f5c-b9dc-0cce07c0d94c');\n",
              "          const dataTable =\n",
              "            await google.colab.kernel.invokeFunction('convertToInteractive',\n",
              "                                                     [key], {});\n",
              "          if (!dataTable) return;\n",
              "\n",
              "          const docLinkHtml = 'Like what you see? Visit the ' +\n",
              "            '<a target=\"_blank\" href=https://colab.research.google.com/notebooks/data_table.ipynb>data table notebook</a>'\n",
              "            + ' to learn more about interactive tables.';\n",
              "          element.innerHTML = '';\n",
              "          dataTable['output_type'] = 'display_data';\n",
              "          await google.colab.output.renderOutput(dataTable, element);\n",
              "          const docLink = document.createElement('div');\n",
              "          docLink.innerHTML = docLinkHtml;\n",
              "          element.appendChild(docLink);\n",
              "        }\n",
              "      </script>\n",
              "    </div>\n",
              "  </div>\n",
              "  "
            ]
          },
          "metadata": {},
          "execution_count": 91
        }
      ]
    },
    {
      "cell_type": "code",
      "source": [
        "cf_test = plot_confusion_matrix(clf,x_test,y_test) "
      ],
      "metadata": {
        "colab": {
          "base_uri": "https://localhost:8080/",
          "height": 334
        },
        "id": "Mr5BadMz8uBk",
        "outputId": "2617b282-3034-43ed-ce1d-94d83edac384"
      },
      "execution_count": null,
      "outputs": [
        {
          "output_type": "stream",
          "name": "stderr",
          "text": [
            "/usr/local/lib/python3.7/dist-packages/sklearn/utils/deprecation.py:87: FutureWarning: Function plot_confusion_matrix is deprecated; Function `plot_confusion_matrix` is deprecated in 1.0 and will be removed in 1.2. Use one of the class methods: ConfusionMatrixDisplay.from_predictions or ConfusionMatrixDisplay.from_estimator.\n",
            "  warnings.warn(msg, category=FutureWarning)\n"
          ]
        },
        {
          "output_type": "display_data",
          "data": {
            "text/plain": [
              "<Figure size 432x288 with 2 Axes>"
            ],
            "image/png": "[encoded data removed]"
          },
          "metadata": {
            "needs_background": "light"
          }
        }
      ]
    },
    {
      "cell_type": "code",
      "source": [
        "print(classification_report(test_model['actual'],test_model['predicted']))"
      ],
      "metadata": {
        "colab": {
          "base_uri": "https://localhost:8080/"
        },
        "id": "MdExsDfq9LWR",
        "outputId": "d9b92928-defd-4ba3-d666-9f6b97d44406"
      },
      "execution_count": null,
      "outputs": [
        {
          "output_type": "stream",
          "name": "stdout",
          "text": [
            "              precision    recall  f1-score   support\n",
            "\n",
            "       Gonen       0.99      0.99      0.99      2064\n",
            "     jasmine       0.99      0.99      0.99      2483\n",
            "\n",
            "    accuracy                           0.99      4547\n",
            "   macro avg       0.99      0.99      0.99      4547\n",
            "weighted avg       0.99      0.99      0.99      4547\n",
            "\n"
          ]
        }
      ]
    },
    {
      "cell_type": "code",
      "source": [
        " from sklearn.metrics import RocCurveDisplay\n",
        " RocCurveDisplay.from_estimator(clf, x_test, y_test)"
      ],
      "metadata": {
        "colab": {
          "base_uri": "https://localhost:8080/",
          "height": 296
        },
        "id": "_MwgoFtc9cDx",
        "outputId": "2c255146-000b-46a0-bf93-593fffe5c1a9"
      },
      "execution_count": null,
      "outputs": [
        {
          "output_type": "execute_result",
          "data": {
            "text/plain": [
              "<sklearn.metrics._plot.roc_curve.RocCurveDisplay at 0x7f08037dbe90>"
            ]
          },
          "metadata": {},
          "execution_count": 94
        },
        {
          "output_type": "display_data",
          "data": {
            "text/plain": [
              "<Figure size 432x288 with 1 Axes>"
            ],
            "image/png": "[encoded data removed]"
          },
          "metadata": {
            "needs_background": "light"
          }
        }
      ]
    }
  ]
}