{
  "nbformat": 4,
  "nbformat_minor": 0,
  "metadata": {
    "colab": {
      "provenance": [],
      "gpuType": "T4",
      "authorship_tag": "ABX9TyNgiam1vp1h1S+4IUjIMhEA",
      "include_colab_link": true
    },
    "kernelspec": {
      "name": "python3",
      "display_name": "Python 3"
    },
    "language_info": {
      "name": "python"
    },
    "accelerator": "GPU"
  },
  "cells": [
    {
      "cell_type": "markdown",
      "metadata": {
        "id": "view-in-github",
        "colab_type": "text"
      },
      "source": [
        "<a href=\"https://colab.research.google.com/github/krish-Algometrix/Machine-Learning-Projects/blob/main/VIX_2_Indiv_minorproject_Sem3_part_2_AA_SC_P2MCA2107470.ipynb\" target=\"_parent\"><img src=\"https://colab.research.google.com/assets/colab-badge.svg\" alt=\"Open In Colab\"/></a>"
      ]
    },
    {
      "cell_type": "code",
      "execution_count": null,
      "metadata": {
        "id": "B1jzHapTyRoi"
      },
      "outputs": [],
      "source": [
        "import os\n",
        "import pandas as pd\n",
        "import numpy as np\n",
        "import matplotlib.pyplot as plt\n",
        "import datetime\n",
        "from keras.models import Sequential\n",
        "from keras.layers import Dense, LSTM, Dropout\n",
        "from keras.callbacks import EarlyStopping"
      ]
    },
    {
      "cell_type": "code",
      "source": [
        "from numpy import array"
      ],
      "metadata": {
        "id": "hb6qAbYEJuDE"
      },
      "execution_count": null,
      "outputs": []
    },
    {
      "cell_type": "code",
      "source": [
        "from pandas import datetime"
      ],
      "metadata": {
        "colab": {
          "base_uri": "https://localhost:8080/"
        },
        "id": "fkOOsopad7H4",
        "outputId": "e5ac612a-aca1-4207-982b-74b291956136"
      },
      "execution_count": null,
      "outputs": [
        {
          "output_type": "stream",
          "name": "stderr",
          "text": [
            "<ipython-input-6-5d3ca00b7d92>:1: FutureWarning: The pandas.datetime class is deprecated and will be removed from pandas in a future version. Import from datetime module instead.\n",
            "  from pandas import datetime\n"
          ]
        }
      ]
    },
    {
      "cell_type": "code",
      "source": [
        "pip install tensorflow"
      ],
      "metadata": {
        "id": "1kgavvbb9lCn",
        "colab": {
          "base_uri": "https://localhost:8080/"
        },
        "outputId": "f9cbf4ca-b662-41e8-8a6a-53237ef6b22d"
      },
      "execution_count": null,
      "outputs": [
        {
          "output_type": "stream",
          "name": "stdout",
          "text": [
            "Looking in indexes: https://pypi.org/simple, https://us-python.pkg.dev/colab-wheels/public/simple/\n",
            "Requirement already satisfied: tensorflow in /usr/local/lib/python3.10/dist-packages (2.12.0)\n",
            "Requirement already satisfied: absl-py>=1.0.0 in /usr/local/lib/python3.10/dist-packages (from tensorflow) (1.4.0)\n",
            "Requirement already satisfied: astunparse>=1.6.0 in /usr/local/lib/python3.10/dist-packages (from tensorflow) (1.6.3)\n",
            "Requirement already satisfied: flatbuffers>=2.0 in /usr/local/lib/python3.10/dist-packages (from tensorflow) (23.3.3)\n",
            "Requirement already satisfied: gast<=0.4.0,>=0.2.1 in /usr/local/lib/python3.10/dist-packages (from tensorflow) (0.4.0)\n",
            "Requirement already satisfied: google-pasta>=0.1.1 in /usr/local/lib/python3.10/dist-packages (from tensorflow) (0.2.0)\n",
            "Requirement already satisfied: grpcio<2.0,>=1.24.3 in /usr/local/lib/python3.10/dist-packages (from tensorflow) (1.54.0)\n",
            "Requirement already satisfied: h5py>=2.9.0 in /usr/local/lib/python3.10/dist-packages (from tensorflow) (3.8.0)\n",
            "Requirement already satisfied: jax>=0.3.15 in /usr/local/lib/python3.10/dist-packages (from tensorflow) (0.4.10)\n",
            "Requirement already satisfied: keras<2.13,>=2.12.0 in /usr/local/lib/python3.10/dist-packages (from tensorflow) (2.12.0)\n",
            "Requirement already satisfied: libclang>=13.0.0 in /usr/local/lib/python3.10/dist-packages (from tensorflow) (16.0.0)\n",
            "Requirement already satisfied: numpy<1.24,>=1.22 in /usr/local/lib/python3.10/dist-packages (from tensorflow) (1.22.4)\n",
            "Requirement already satisfied: opt-einsum>=2.3.2 in /usr/local/lib/python3.10/dist-packages (from tensorflow) (3.3.0)\n",
            "Requirement already satisfied: packaging in /usr/local/lib/python3.10/dist-packages (from tensorflow) (23.1)\n",
            "Requirement already satisfied: protobuf!=4.21.0,!=4.21.1,!=4.21.2,!=4.21.3,!=4.21.4,!=4.21.5,<5.0.0dev,>=3.20.3 in /usr/local/lib/python3.10/dist-packages (from tensorflow) (3.20.3)\n",
            "Requirement already satisfied: setuptools in /usr/local/lib/python3.10/dist-packages (from tensorflow) (67.7.2)\n",
            "Requirement already satisfied: six>=1.12.0 in /usr/local/lib/python3.10/dist-packages (from tensorflow) (1.16.0)\n",
            "Requirement already satisfied: tensorboard<2.13,>=2.12 in /usr/local/lib/python3.10/dist-packages (from tensorflow) (2.12.2)\n",
            "Requirement already satisfied: tensorflow-estimator<2.13,>=2.12.0 in /usr/local/lib/python3.10/dist-packages (from tensorflow) (2.12.0)\n",
            "Requirement already satisfied: termcolor>=1.1.0 in /usr/local/lib/python3.10/dist-packages (from tensorflow) (2.3.0)\n",
            "Requirement already satisfied: typing-extensions>=3.6.6 in /usr/local/lib/python3.10/dist-packages (from tensorflow) (4.5.0)\n",
            "Requirement already satisfied: wrapt<1.15,>=1.11.0 in /usr/local/lib/python3.10/dist-packages (from tensorflow) (1.14.1)\n",
            "Requirement already satisfied: tensorflow-io-gcs-filesystem>=0.23.1 in /usr/local/lib/python3.10/dist-packages (from tensorflow) (0.32.0)\n",
            "Requirement already satisfied: wheel<1.0,>=0.23.0 in /usr/local/lib/python3.10/dist-packages (from astunparse>=1.6.0->tensorflow) (0.40.0)\n",
            "Requirement already satisfied: ml-dtypes>=0.1.0 in /usr/local/lib/python3.10/dist-packages (from jax>=0.3.15->tensorflow) (0.1.0)\n",
            "Requirement already satisfied: scipy>=1.7 in /usr/local/lib/python3.10/dist-packages (from jax>=0.3.15->tensorflow) (1.10.1)\n",
            "Requirement already satisfied: google-auth<3,>=1.6.3 in /usr/local/lib/python3.10/dist-packages (from tensorboard<2.13,>=2.12->tensorflow) (2.17.3)\n",
            "Requirement already satisfied: google-auth-oauthlib<1.1,>=0.5 in /usr/local/lib/python3.10/dist-packages (from tensorboard<2.13,>=2.12->tensorflow) (1.0.0)\n",
            "Requirement already satisfied: markdown>=2.6.8 in /usr/local/lib/python3.10/dist-packages (from tensorboard<2.13,>=2.12->tensorflow) (3.4.3)\n",
            "Requirement already satisfied: requests<3,>=2.21.0 in /usr/local/lib/python3.10/dist-packages (from tensorboard<2.13,>=2.12->tensorflow) (2.27.1)\n",
            "Requirement already satisfied: tensorboard-data-server<0.8.0,>=0.7.0 in /usr/local/lib/python3.10/dist-packages (from tensorboard<2.13,>=2.12->tensorflow) (0.7.0)\n",
            "Requirement already satisfied: tensorboard-plugin-wit>=1.6.0 in /usr/local/lib/python3.10/dist-packages (from tensorboard<2.13,>=2.12->tensorflow) (1.8.1)\n",
            "Requirement already satisfied: werkzeug>=1.0.1 in /usr/local/lib/python3.10/dist-packages (from tensorboard<2.13,>=2.12->tensorflow) (2.3.0)\n",
            "Requirement already satisfied: cachetools<6.0,>=2.0.0 in /usr/local/lib/python3.10/dist-packages (from google-auth<3,>=1.6.3->tensorboard<2.13,>=2.12->tensorflow) (5.3.0)\n",
            "Requirement already satisfied: pyasn1-modules>=0.2.1 in /usr/local/lib/python3.10/dist-packages (from google-auth<3,>=1.6.3->tensorboard<2.13,>=2.12->tensorflow) (0.3.0)\n",
            "Requirement already satisfied: rsa<5,>=3.1.4 in /usr/local/lib/python3.10/dist-packages (from google-auth<3,>=1.6.3->tensorboard<2.13,>=2.12->tensorflow) (4.9)\n",
            "Requirement already satisfied: requests-oauthlib>=0.7.0 in /usr/local/lib/python3.10/dist-packages (from google-auth-oauthlib<1.1,>=0.5->tensorboard<2.13,>=2.12->tensorflow) (1.3.1)\n",
            "Requirement already satisfied: urllib3<1.27,>=1.21.1 in /usr/local/lib/python3.10/dist-packages (from requests<3,>=2.21.0->tensorboard<2.13,>=2.12->tensorflow) (1.26.15)\n",
            "Requirement already satisfied: certifi>=2017.4.17 in /usr/local/lib/python3.10/dist-packages (from requests<3,>=2.21.0->tensorboard<2.13,>=2.12->tensorflow) (2022.12.7)\n",
            "Requirement already satisfied: charset-normalizer~=2.0.0 in /usr/local/lib/python3.10/dist-packages (from requests<3,>=2.21.0->tensorboard<2.13,>=2.12->tensorflow) (2.0.12)\n",
            "Requirement already satisfied: idna<4,>=2.5 in /usr/local/lib/python3.10/dist-packages (from requests<3,>=2.21.0->tensorboard<2.13,>=2.12->tensorflow) (3.4)\n",
            "Requirement already satisfied: MarkupSafe>=2.1.1 in /usr/local/lib/python3.10/dist-packages (from werkzeug>=1.0.1->tensorboard<2.13,>=2.12->tensorflow) (2.1.2)\n",
            "Requirement already satisfied: pyasn1<0.6.0,>=0.4.6 in /usr/local/lib/python3.10/dist-packages (from pyasn1-modules>=0.2.1->google-auth<3,>=1.6.3->tensorboard<2.13,>=2.12->tensorflow) (0.5.0)\n",
            "Requirement already satisfied: oauthlib>=3.0.0 in /usr/local/lib/python3.10/dist-packages (from requests-oauthlib>=0.7.0->google-auth-oauthlib<1.1,>=0.5->tensorboard<2.13,>=2.12->tensorflow) (3.2.2)\n"
          ]
        }
      ]
    },
    {
      "cell_type": "code",
      "source": [
        "import tensorflow as tf\n"
      ],
      "metadata": {
        "id": "HSADDTFPAtS6"
      },
      "execution_count": null,
      "outputs": []
    },
    {
      "cell_type": "code",
      "source": [
        "print(tf. __version__)"
      ],
      "metadata": {
        "id": "nuF5IMiF_10q",
        "outputId": "221ae6f6-5b4a-4657-9f94-2ac412cd4f1c",
        "colab": {
          "base_uri": "https://localhost:8080/"
        }
      },
      "execution_count": null,
      "outputs": [
        {
          "output_type": "stream",
          "name": "stdout",
          "text": [
            "2.12.0\n"
          ]
        }
      ]
    },
    {
      "cell_type": "code",
      "source": [
        "import tensorflow as tf\n",
        "from tensorflow.keras.models import Sequential"
      ],
      "metadata": {
        "id": "O8LRv-W78LM6"
      },
      "execution_count": null,
      "outputs": []
    },
    {
      "cell_type": "code",
      "source": [
        "from tensorflow.keras.models import Sequential\n",
        "from tensorflow.keras.layers import LSTM\n",
        "from tensorflow.keras.layers import Dense\n",
        "from tensorflow.keras.layers import Flatten"
      ],
      "metadata": {
        "id": "s7xbcZep8TWJ"
      },
      "execution_count": null,
      "outputs": []
    },
    {
      "cell_type": "code",
      "source": [
        "from sklearn.metrics import mean_squared_error\n",
        "from sklearn.preprocessing import MinMaxScaler\n",
        "from keras.models import Sequential\n",
        "from keras.layers import Dense\n",
        "from keras.layers import LSTM\n",
        "from math import sqrt"
      ],
      "metadata": {
        "id": "hccGVb_BeI0N"
      },
      "execution_count": null,
      "outputs": []
    },
    {
      "cell_type": "code",
      "source": [
        "import seaborn as sns\n",
        "import datetime as dt\n",
        "from IPython.core.display import Image, display\n",
        "import pickle\n",
        "from sklearn.model_selection import TimeSeriesSplit\n",
        "from sklearn.metrics import mean_squared_error, mean_absolute_error\n",
        "from sklearn.ensemble import GradientBoostingRegressor"
      ],
      "metadata": {
        "id": "oKA3c5tqeuvv"
      },
      "execution_count": null,
      "outputs": []
    },
    {
      "cell_type": "code",
      "source": [
        "from keras.callbacks import History\n",
        "history = History()"
      ],
      "metadata": {
        "id": "_cWfPvuFcuUc"
      },
      "execution_count": null,
      "outputs": []
    },
    {
      "cell_type": "code",
      "source": [
        "from google.colab import drive\n",
        "drive.mount('/content/drive')"
      ],
      "metadata": {
        "id": "5WTYwON1BkFE",
        "colab": {
          "base_uri": "https://localhost:8080/"
        },
        "outputId": "5e0f6f87-8a59-4767-b737-1b89e977c400"
      },
      "execution_count": null,
      "outputs": [
        {
          "output_type": "stream",
          "name": "stdout",
          "text": [
            "Mounted at /content/drive\n"
          ]
        }
      ]
    },
    {
      "cell_type": "code",
      "source": [
        "path =  \"/content/drive/MyDrive/cvix.csv\""
      ],
      "metadata": {
        "id": "btavyoXWBs6Y"
      },
      "execution_count": null,
      "outputs": []
    },
    {
      "cell_type": "code",
      "source": [
        "vix = pd.read_csv(path)\n",
        "type(vix)"
      ],
      "metadata": {
        "id": "INVy2wodCQRr",
        "colab": {
          "base_uri": "https://localhost:8080/"
        },
        "outputId": "4c9e02b9-9882-4a0a-efbb-99c7f0492197"
      },
      "execution_count": null,
      "outputs": [
        {
          "output_type": "execute_result",
          "data": {
            "text/plain": [
              "pandas.core.frame.DataFrame"
            ]
          },
          "metadata": {},
          "execution_count": 16
        }
      ]
    },
    {
      "cell_type": "code",
      "source": [
        "vix.head(3)\n"
      ],
      "metadata": {
        "id": "84YCOY8-C1ls",
        "colab": {
          "base_uri": "https://localhost:8080/",
          "height": 143
        },
        "outputId": "8fe261de-f809-4b2a-be3c-cb1b8b94bd4e"
      },
      "execution_count": null,
      "outputs": [
        {
          "output_type": "execute_result",
          "data": {
            "text/plain": [
              "         date    cvs\n",
              "0  02-01-1990  17.24\n",
              "1  03-01-1990  18.19\n",
              "2  04-01-1990  19.22"
            ],
            "text/html": [
              "\n",
              "  <div id=\"df-10093f60-3b66-40d3-a8e2-9fda9799bd22\">\n",
              "    <div class=\"colab-df-container\">\n",
              "      <div>\n",
              "<style scoped>\n",
              "    .dataframe tbody tr th:only-of-type {\n",
              "        vertical-align: middle;\n",
              "    }\n",
              "\n",
              "    .dataframe tbody tr th {\n",
              "        vertical-align: top;\n",
              "    }\n",
              "\n",
              "    .dataframe thead th {\n",
              "        text-align: right;\n",
              "    }\n",
              "</style>\n",
              "<table border=\"1\" class=\"dataframe\">\n",
              "  <thead>\n",
              "    <tr style=\"text-align: right;\">\n",
              "      <th></th>\n",
              "      <th>date</th>\n",
              "      <th>cvs</th>\n",
              "    </tr>\n",
              "  </thead>\n",
              "  <tbody>\n",
              "    <tr>\n",
              "      <th>0</th>\n",
              "      <td>02-01-1990</td>\n",
              "      <td>17.24</td>\n",
              "    </tr>\n",
              "    <tr>\n",
              "      <th>1</th>\n",
              "      <td>03-01-1990</td>\n",
              "      <td>18.19</td>\n",
              "    </tr>\n",
              "    <tr>\n",
              "      <th>2</th>\n",
              "      <td>04-01-1990</td>\n",
              "      <td>19.22</td>\n",
              "    </tr>\n",
              "  </tbody>\n",
              "</table>\n",
              "</div>\n",
              "      <button class=\"colab-df-convert\" onclick=\"convertToInteractive('df-10093f60-3b66-40d3-a8e2-9fda9799bd22')\"\n",
              "              title=\"Convert this dataframe to an interactive table.\"\n",
              "              style=\"display:none;\">\n",
              "        \n",
              "  <svg xmlns=\"http://www.w3.org/2000/svg\" height=\"24px\"viewBox=\"0 0 24 24\"\n",
              "       width=\"24px\">\n",
              "    <path d=\"M0 0h24v24H0V0z\" fill=\"none\"/>\n",
              "    <path d=\"M18.56 5.44l.94 2.06.94-2.06 2.06-.94-2.06-.94-.94-2.06-.94 2.06-2.06.94zm-11 1L8.5 8.5l.94-2.06 2.06-.94-2.06-.94L8.5 2.5l-.94 2.06-2.06.94zm10 10l.94 2.06.94-2.06 2.06-.94-2.06-.94-.94-2.06-.94 2.06-2.06.94z\"/><path d=\"M17.41 7.96l-1.37-1.37c-.4-.4-.92-.59-1.43-.59-.52 0-1.04.2-1.43.59L10.3 9.45l-7.72 7.72c-.78.78-.78 2.05 0 2.83L4 21.41c.39.39.9.59 1.41.59.51 0 1.02-.2 1.41-.59l7.78-7.78 2.81-2.81c.8-.78.8-2.07 0-2.86zM5.41 20L4 18.59l7.72-7.72 1.47 1.35L5.41 20z\"/>\n",
              "  </svg>\n",
              "      </button>\n",
              "      \n",
              "  <style>\n",
              "    .colab-df-container {\n",
              "      display:flex;\n",
              "      flex-wrap:wrap;\n",
              "      gap: 12px;\n",
              "    }\n",
              "\n",
              "    .colab-df-convert {\n",
              "      background-color: #E8F0FE;\n",
              "      border: none;\n",
              "      border-radius: 50%;\n",
              "      cursor: pointer;\n",
              "      display: none;\n",
              "      fill: #1967D2;\n",
              "      height: 32px;\n",
              "      padding: 0 0 0 0;\n",
              "      width: 32px;\n",
              "    }\n",
              "\n",
              "    .colab-df-convert:hover {\n",
              "      background-color: #E2EBFA;\n",
              "      box-shadow: 0px 1px 2px rgba(60, 64, 67, 0.3), 0px 1px 3px 1px rgba(60, 64, 67, 0.15);\n",
              "      fill: #174EA6;\n",
              "    }\n",
              "\n",
              "    [theme=dark] .colab-df-convert {\n",
              "      background-color: #3B4455;\n",
              "      fill: #D2E3FC;\n",
              "    }\n",
              "\n",
              "    [theme=dark] .colab-df-convert:hover {\n",
              "      background-color: #434B5C;\n",
              "      box-shadow: 0px 1px 3px 1px rgba(0, 0, 0, 0.15);\n",
              "      filter: drop-shadow(0px 1px 2px rgba(0, 0, 0, 0.3));\n",
              "      fill: #FFFFFF;\n",
              "    }\n",
              "  </style>\n",
              "\n",
              "      <script>\n",
              "        const buttonEl =\n",
              "          document.querySelector('#df-10093f60-3b66-40d3-a8e2-9fda9799bd22 button.colab-df-convert');\n",
              "        buttonEl.style.display =\n",
              "          google.colab.kernel.accessAllowed ? 'block' : 'none';\n",
              "\n",
              "        async function convertToInteractive(key) {\n",
              "          const element = document.querySelector('#df-10093f60-3b66-40d3-a8e2-9fda9799bd22');\n",
              "          const dataTable =\n",
              "            await google.colab.kernel.invokeFunction('convertToInteractive',\n",
              "                                                     [key], {});\n",
              "          if (!dataTable) return;\n",
              "\n",
              "          const docLinkHtml = 'Like what you see? Visit the ' +\n",
              "            '<a target=\"_blank\" href=https://colab.research.google.com/notebooks/data_table.ipynb>data table notebook</a>'\n",
              "            + ' to learn more about interactive tables.';\n",
              "          element.innerHTML = '';\n",
              "          dataTable['output_type'] = 'display_data';\n",
              "          await google.colab.output.renderOutput(dataTable, element);\n",
              "          const docLink = document.createElement('div');\n",
              "          docLink.innerHTML = docLinkHtml;\n",
              "          element.appendChild(docLink);\n",
              "        }\n",
              "      </script>\n",
              "    </div>\n",
              "  </div>\n",
              "  "
            ]
          },
          "metadata": {},
          "execution_count": 17
        }
      ]
    },
    {
      "cell_type": "code",
      "source": [
        "vix.describe()"
      ],
      "metadata": {
        "id": "Velughb-DerP",
        "colab": {
          "base_uri": "https://localhost:8080/",
          "height": 300
        },
        "outputId": "2ab0b8bf-f71f-4dc0-fc4d-09eb16c6f16b"
      },
      "execution_count": null,
      "outputs": [
        {
          "output_type": "execute_result",
          "data": {
            "text/plain": [
              "               cvs\n",
              "count  8374.000000\n",
              "mean     19.675254\n",
              "std       7.969064\n",
              "min       9.140000\n",
              "25%      13.910000\n",
              "50%      17.880000\n",
              "75%      23.140000\n",
              "max      82.690000"
            ],
            "text/html": [
              "\n",
              "  <div id=\"df-e7977094-6175-4cb9-8fde-ec19abee2bf1\">\n",
              "    <div class=\"colab-df-container\">\n",
              "      <div>\n",
              "<style scoped>\n",
              "    .dataframe tbody tr th:only-of-type {\n",
              "        vertical-align: middle;\n",
              "    }\n",
              "\n",
              "    .dataframe tbody tr th {\n",
              "        vertical-align: top;\n",
              "    }\n",
              "\n",
              "    .dataframe thead th {\n",
              "        text-align: right;\n",
              "    }\n",
              "</style>\n",
              "<table border=\"1\" class=\"dataframe\">\n",
              "  <thead>\n",
              "    <tr style=\"text-align: right;\">\n",
              "      <th></th>\n",
              "      <th>cvs</th>\n",
              "    </tr>\n",
              "  </thead>\n",
              "  <tbody>\n",
              "    <tr>\n",
              "      <th>count</th>\n",
              "      <td>8374.000000</td>\n",
              "    </tr>\n",
              "    <tr>\n",
              "      <th>mean</th>\n",
              "      <td>19.675254</td>\n",
              "    </tr>\n",
              "    <tr>\n",
              "      <th>std</th>\n",
              "      <td>7.969064</td>\n",
              "    </tr>\n",
              "    <tr>\n",
              "      <th>min</th>\n",
              "      <td>9.140000</td>\n",
              "    </tr>\n",
              "    <tr>\n",
              "      <th>25%</th>\n",
              "      <td>13.910000</td>\n",
              "    </tr>\n",
              "    <tr>\n",
              "      <th>50%</th>\n",
              "      <td>17.880000</td>\n",
              "    </tr>\n",
              "    <tr>\n",
              "      <th>75%</th>\n",
              "      <td>23.140000</td>\n",
              "    </tr>\n",
              "    <tr>\n",
              "      <th>max</th>\n",
              "      <td>82.690000</td>\n",
              "    </tr>\n",
              "  </tbody>\n",
              "</table>\n",
              "</div>\n",
              "      <button class=\"colab-df-convert\" onclick=\"convertToInteractive('df-e7977094-6175-4cb9-8fde-ec19abee2bf1')\"\n",
              "              title=\"Convert this dataframe to an interactive table.\"\n",
              "              style=\"display:none;\">\n",
              "        \n",
              "  <svg xmlns=\"http://www.w3.org/2000/svg\" height=\"24px\"viewBox=\"0 0 24 24\"\n",
              "       width=\"24px\">\n",
              "    <path d=\"M0 0h24v24H0V0z\" fill=\"none\"/>\n",
              "    <path d=\"M18.56 5.44l.94 2.06.94-2.06 2.06-.94-2.06-.94-.94-2.06-.94 2.06-2.06.94zm-11 1L8.5 8.5l.94-2.06 2.06-.94-2.06-.94L8.5 2.5l-.94 2.06-2.06.94zm10 10l.94 2.06.94-2.06 2.06-.94-2.06-.94-.94-2.06-.94 2.06-2.06.94z\"/><path d=\"M17.41 7.96l-1.37-1.37c-.4-.4-.92-.59-1.43-.59-.52 0-1.04.2-1.43.59L10.3 9.45l-7.72 7.72c-.78.78-.78 2.05 0 2.83L4 21.41c.39.39.9.59 1.41.59.51 0 1.02-.2 1.41-.59l7.78-7.78 2.81-2.81c.8-.78.8-2.07 0-2.86zM5.41 20L4 18.59l7.72-7.72 1.47 1.35L5.41 20z\"/>\n",
              "  </svg>\n",
              "      </button>\n",
              "      \n",
              "  <style>\n",
              "    .colab-df-container {\n",
              "      display:flex;\n",
              "      flex-wrap:wrap;\n",
              "      gap: 12px;\n",
              "    }\n",
              "\n",
              "    .colab-df-convert {\n",
              "      background-color: #E8F0FE;\n",
              "      border: none;\n",
              "      border-radius: 50%;\n",
              "      cursor: pointer;\n",
              "      display: none;\n",
              "      fill: #1967D2;\n",
              "      height: 32px;\n",
              "      padding: 0 0 0 0;\n",
              "      width: 32px;\n",
              "    }\n",
              "\n",
              "    .colab-df-convert:hover {\n",
              "      background-color: #E2EBFA;\n",
              "      box-shadow: 0px 1px 2px rgba(60, 64, 67, 0.3), 0px 1px 3px 1px rgba(60, 64, 67, 0.15);\n",
              "      fill: #174EA6;\n",
              "    }\n",
              "\n",
              "    [theme=dark] .colab-df-convert {\n",
              "      background-color: #3B4455;\n",
              "      fill: #D2E3FC;\n",
              "    }\n",
              "\n",
              "    [theme=dark] .colab-df-convert:hover {\n",
              "      background-color: #434B5C;\n",
              "      box-shadow: 0px 1px 3px 1px rgba(0, 0, 0, 0.15);\n",
              "      filter: drop-shadow(0px 1px 2px rgba(0, 0, 0, 0.3));\n",
              "      fill: #FFFFFF;\n",
              "    }\n",
              "  </style>\n",
              "\n",
              "      <script>\n",
              "        const buttonEl =\n",
              "          document.querySelector('#df-e7977094-6175-4cb9-8fde-ec19abee2bf1 button.colab-df-convert');\n",
              "        buttonEl.style.display =\n",
              "          google.colab.kernel.accessAllowed ? 'block' : 'none';\n",
              "\n",
              "        async function convertToInteractive(key) {\n",
              "          const element = document.querySelector('#df-e7977094-6175-4cb9-8fde-ec19abee2bf1');\n",
              "          const dataTable =\n",
              "            await google.colab.kernel.invokeFunction('convertToInteractive',\n",
              "                                                     [key], {});\n",
              "          if (!dataTable) return;\n",
              "\n",
              "          const docLinkHtml = 'Like what you see? Visit the ' +\n",
              "            '<a target=\"_blank\" href=https://colab.research.google.com/notebooks/data_table.ipynb>data table notebook</a>'\n",
              "            + ' to learn more about interactive tables.';\n",
              "          element.innerHTML = '';\n",
              "          dataTable['output_type'] = 'display_data';\n",
              "          await google.colab.output.renderOutput(dataTable, element);\n",
              "          const docLink = document.createElement('div');\n",
              "          docLink.innerHTML = docLinkHtml;\n",
              "          element.appendChild(docLink);\n",
              "        }\n",
              "      </script>\n",
              "    </div>\n",
              "  </div>\n",
              "  "
            ]
          },
          "metadata": {},
          "execution_count": 18
        }
      ]
    },
    {
      "cell_type": "code",
      "source": [
        "vix.info()"
      ],
      "metadata": {
        "id": "Sxom-_n6BGTy",
        "colab": {
          "base_uri": "https://localhost:8080/"
        },
        "outputId": "7649a749-02a1-4766-c053-8f1456ee4ca2"
      },
      "execution_count": null,
      "outputs": [
        {
          "output_type": "stream",
          "name": "stdout",
          "text": [
            "<class 'pandas.core.frame.DataFrame'>\n",
            "RangeIndex: 8374 entries, 0 to 8373\n",
            "Data columns (total 2 columns):\n",
            " #   Column  Non-Null Count  Dtype  \n",
            "---  ------  --------------  -----  \n",
            " 0   date    8374 non-null   object \n",
            " 1   cvs     8374 non-null   float64\n",
            "dtypes: float64(1), object(1)\n",
            "memory usage: 131.0+ KB\n"
          ]
        }
      ]
    },
    {
      "cell_type": "code",
      "source": [
        "# checking for Null values\n",
        "pd.isna(vix)"
      ],
      "metadata": {
        "id": "_yvyJAWzGI2F",
        "colab": {
          "base_uri": "https://localhost:8080/",
          "height": 423
        },
        "outputId": "fba926b0-6c35-4976-c091-322a7ef834f2"
      },
      "execution_count": null,
      "outputs": [
        {
          "output_type": "execute_result",
          "data": {
            "text/plain": [
              "       date    cvs\n",
              "0     False  False\n",
              "1     False  False\n",
              "2     False  False\n",
              "3     False  False\n",
              "4     False  False\n",
              "...     ...    ...\n",
              "8369  False  False\n",
              "8370  False  False\n",
              "8371  False  False\n",
              "8372  False  False\n",
              "8373  False  False\n",
              "\n",
              "[8374 rows x 2 columns]"
            ],
            "text/html": [
              "\n",
              "  <div id=\"df-690b7c8c-6948-49a5-8b62-9bd590ed1b65\">\n",
              "    <div class=\"colab-df-container\">\n",
              "      <div>\n",
              "<style scoped>\n",
              "    .dataframe tbody tr th:only-of-type {\n",
              "        vertical-align: middle;\n",
              "    }\n",
              "\n",
              "    .dataframe tbody tr th {\n",
              "        vertical-align: top;\n",
              "    }\n",
              "\n",
              "    .dataframe thead th {\n",
              "        text-align: right;\n",
              "    }\n",
              "</style>\n",
              "<table border=\"1\" class=\"dataframe\">\n",
              "  <thead>\n",
              "    <tr style=\"text-align: right;\">\n",
              "      <th></th>\n",
              "      <th>date</th>\n",
              "      <th>cvs</th>\n",
              "    </tr>\n",
              "  </thead>\n",
              "  <tbody>\n",
              "    <tr>\n",
              "      <th>0</th>\n",
              "      <td>False</td>\n",
              "      <td>False</td>\n",
              "    </tr>\n",
              "    <tr>\n",
              "      <th>1</th>\n",
              "      <td>False</td>\n",
              "      <td>False</td>\n",
              "    </tr>\n",
              "    <tr>\n",
              "      <th>2</th>\n",
              "      <td>False</td>\n",
              "      <td>False</td>\n",
              "    </tr>\n",
              "    <tr>\n",
              "      <th>3</th>\n",
              "      <td>False</td>\n",
              "      <td>False</td>\n",
              "    </tr>\n",
              "    <tr>\n",
              "      <th>4</th>\n",
              "      <td>False</td>\n",
              "      <td>False</td>\n",
              "    </tr>\n",
              "    <tr>\n",
              "      <th>...</th>\n",
              "      <td>...</td>\n",
              "      <td>...</td>\n",
              "    </tr>\n",
              "    <tr>\n",
              "      <th>8369</th>\n",
              "      <td>False</td>\n",
              "      <td>False</td>\n",
              "    </tr>\n",
              "    <tr>\n",
              "      <th>8370</th>\n",
              "      <td>False</td>\n",
              "      <td>False</td>\n",
              "    </tr>\n",
              "    <tr>\n",
              "      <th>8371</th>\n",
              "      <td>False</td>\n",
              "      <td>False</td>\n",
              "    </tr>\n",
              "    <tr>\n",
              "      <th>8372</th>\n",
              "      <td>False</td>\n",
              "      <td>False</td>\n",
              "    </tr>\n",
              "    <tr>\n",
              "      <th>8373</th>\n",
              "      <td>False</td>\n",
              "      <td>False</td>\n",
              "    </tr>\n",
              "  </tbody>\n",
              "</table>\n",
              "<p>8374 rows × 2 columns</p>\n",
              "</div>\n",
              "      <button class=\"colab-df-convert\" onclick=\"convertToInteractive('df-690b7c8c-6948-49a5-8b62-9bd590ed1b65')\"\n",
              "              title=\"Convert this dataframe to an interactive table.\"\n",
              "              style=\"display:none;\">\n",
              "        \n",
              "  <svg xmlns=\"http://www.w3.org/2000/svg\" height=\"24px\"viewBox=\"0 0 24 24\"\n",
              "       width=\"24px\">\n",
              "    <path d=\"M0 0h24v24H0V0z\" fill=\"none\"/>\n",
              "    <path d=\"M18.56 5.44l.94 2.06.94-2.06 2.06-.94-2.06-.94-.94-2.06-.94 2.06-2.06.94zm-11 1L8.5 8.5l.94-2.06 2.06-.94-2.06-.94L8.5 2.5l-.94 2.06-2.06.94zm10 10l.94 2.06.94-2.06 2.06-.94-2.06-.94-.94-2.06-.94 2.06-2.06.94z\"/><path d=\"M17.41 7.96l-1.37-1.37c-.4-.4-.92-.59-1.43-.59-.52 0-1.04.2-1.43.59L10.3 9.45l-7.72 7.72c-.78.78-.78 2.05 0 2.83L4 21.41c.39.39.9.59 1.41.59.51 0 1.02-.2 1.41-.59l7.78-7.78 2.81-2.81c.8-.78.8-2.07 0-2.86zM5.41 20L4 18.59l7.72-7.72 1.47 1.35L5.41 20z\"/>\n",
              "  </svg>\n",
              "      </button>\n",
              "      \n",
              "  <style>\n",
              "    .colab-df-container {\n",
              "      display:flex;\n",
              "      flex-wrap:wrap;\n",
              "      gap: 12px;\n",
              "    }\n",
              "\n",
              "    .colab-df-convert {\n",
              "      background-color: #E8F0FE;\n",
              "      border: none;\n",
              "      border-radius: 50%;\n",
              "      cursor: pointer;\n",
              "      display: none;\n",
              "      fill: #1967D2;\n",
              "      height: 32px;\n",
              "      padding: 0 0 0 0;\n",
              "      width: 32px;\n",
              "    }\n",
              "\n",
              "    .colab-df-convert:hover {\n",
              "      background-color: #E2EBFA;\n",
              "      box-shadow: 0px 1px 2px rgba(60, 64, 67, 0.3), 0px 1px 3px 1px rgba(60, 64, 67, 0.15);\n",
              "      fill: #174EA6;\n",
              "    }\n",
              "\n",
              "    [theme=dark] .colab-df-convert {\n",
              "      background-color: #3B4455;\n",
              "      fill: #D2E3FC;\n",
              "    }\n",
              "\n",
              "    [theme=dark] .colab-df-convert:hover {\n",
              "      background-color: #434B5C;\n",
              "      box-shadow: 0px 1px 3px 1px rgba(0, 0, 0, 0.15);\n",
              "      filter: drop-shadow(0px 1px 2px rgba(0, 0, 0, 0.3));\n",
              "      fill: #FFFFFF;\n",
              "    }\n",
              "  </style>\n",
              "\n",
              "      <script>\n",
              "        const buttonEl =\n",
              "          document.querySelector('#df-690b7c8c-6948-49a5-8b62-9bd590ed1b65 button.colab-df-convert');\n",
              "        buttonEl.style.display =\n",
              "          google.colab.kernel.accessAllowed ? 'block' : 'none';\n",
              "\n",
              "        async function convertToInteractive(key) {\n",
              "          const element = document.querySelector('#df-690b7c8c-6948-49a5-8b62-9bd590ed1b65');\n",
              "          const dataTable =\n",
              "            await google.colab.kernel.invokeFunction('convertToInteractive',\n",
              "                                                     [key], {});\n",
              "          if (!dataTable) return;\n",
              "\n",
              "          const docLinkHtml = 'Like what you see? Visit the ' +\n",
              "            '<a target=\"_blank\" href=https://colab.research.google.com/notebooks/data_table.ipynb>data table notebook</a>'\n",
              "            + ' to learn more about interactive tables.';\n",
              "          element.innerHTML = '';\n",
              "          dataTable['output_type'] = 'display_data';\n",
              "          await google.colab.output.renderOutput(dataTable, element);\n",
              "          const docLink = document.createElement('div');\n",
              "          docLink.innerHTML = docLinkHtml;\n",
              "          element.appendChild(docLink);\n",
              "        }\n",
              "      </script>\n",
              "    </div>\n",
              "  </div>\n",
              "  "
            ]
          },
          "metadata": {},
          "execution_count": 20
        }
      ]
    },
    {
      "cell_type": "code",
      "source": [
        "vix['cvret'] = vix['cvs'].pct_change()\n",
        "vix.fillna(0, inplace=True)"
      ],
      "metadata": {
        "id": "FEu16yMvI0Cr"
      },
      "execution_count": null,
      "outputs": []
    },
    {
      "cell_type": "code",
      "source": [
        "vix['cvar'] = vix['cvret']**2"
      ],
      "metadata": {
        "id": "Eapo33P1JRkj"
      },
      "execution_count": null,
      "outputs": []
    },
    {
      "cell_type": "code",
      "source": [
        "plt.plot(vix['cvar'])"
      ],
      "metadata": {
        "id": "AIHmAn8_PhgZ",
        "colab": {
          "base_uri": "https://localhost:8080/",
          "height": 452
        },
        "outputId": "bff4c86d-bffc-4ad4-a4e2-6afef35384fa"
      },
      "execution_count": null,
      "outputs": [
        {
          "output_type": "execute_result",
          "data": {
            "text/plain": [
              "[<matplotlib.lines.Line2D at 0x7f8fbdb15630>]"
            ]
          },
          "metadata": {},
          "execution_count": 23
        },
        {
          "output_type": "display_data",
          "data": {
            "text/plain": [
              "<Figure size 640x480 with 1 Axes>"
            ],
            "image/png": "[encoded data removed]"
          },
          "metadata": {}
        }
      ]
    },
    {
      "cell_type": "code",
      "source": [
        "vix.info()"
      ],
      "metadata": {
        "id": "qrONEQL0JzG3",
        "colab": {
          "base_uri": "https://localhost:8080/"
        },
        "outputId": "5ee4df92-c413-4d8d-fed4-794017a371f1"
      },
      "execution_count": null,
      "outputs": [
        {
          "output_type": "stream",
          "name": "stdout",
          "text": [
            "<class 'pandas.core.frame.DataFrame'>\n",
            "RangeIndex: 8374 entries, 0 to 8373\n",
            "Data columns (total 4 columns):\n",
            " #   Column  Non-Null Count  Dtype  \n",
            "---  ------  --------------  -----  \n",
            " 0   date    8374 non-null   object \n",
            " 1   cvs     8374 non-null   float64\n",
            " 2   cvret   8374 non-null   float64\n",
            " 3   cvar    8374 non-null   float64\n",
            "dtypes: float64(3), object(1)\n",
            "memory usage: 261.8+ KB\n"
          ]
        }
      ]
    },
    {
      "cell_type": "code",
      "source": [
        "vix_cvar = vix['cvar']\n",
        "vix_cvar.head(10)"
      ],
      "metadata": {
        "id": "1a23fYDYQg0P",
        "colab": {
          "base_uri": "https://localhost:8080/"
        },
        "outputId": "40a5d0af-b747-42ea-8a4e-9f9f00722233"
      },
      "execution_count": null,
      "outputs": [
        {
          "output_type": "execute_result",
          "data": {
            "text/plain": [
              "0    0.000000\n",
              "1    0.003036\n",
              "2    0.003206\n",
              "3    0.002144\n",
              "4    0.000056\n",
              "5    0.009169\n",
              "6    0.000117\n",
              "7    0.011344\n",
              "8    0.052408\n",
              "9    0.004760\n",
              "Name: cvar, dtype: float64"
            ]
          },
          "metadata": {},
          "execution_count": 25
        }
      ]
    },
    {
      "cell_type": "markdown",
      "source": [
        "Preparing the data for LSTM algorithm"
      ],
      "metadata": {
        "id": "E5MchNVuf9sa"
      }
    },
    {
      "cell_type": "code",
      "source": [
        "vix['cvar_t_1'] = vix['cvar'].shift(1)\n",
        "vix.fillna(0, inplace=True)\n",
        "vix"
      ],
      "metadata": {
        "id": "TakjcwOQpltP",
        "colab": {
          "base_uri": "https://localhost:8080/",
          "height": 423
        },
        "outputId": "c8c46570-6b84-4caa-9f7e-1641d75cfcf3"
      },
      "execution_count": null,
      "outputs": [
        {
          "output_type": "execute_result",
          "data": {
            "text/plain": [
              "            date    cvs     cvret      cvar  cvar_t_1\n",
              "0     02-01-1990  17.24  0.000000  0.000000  0.000000\n",
              "1     03-01-1990  18.19  0.055104  0.003036  0.000000\n",
              "2     04-01-1990  19.22  0.056625  0.003206  0.003036\n",
              "3     05-01-1990  20.11  0.046306  0.002144  0.003206\n",
              "4     06-01-1990  20.26  0.007459  0.000056  0.002144\n",
              "...          ...    ...       ...       ...       ...\n",
              "8369  01-12-2012  25.51  0.109613  0.012015  0.014521\n",
              "8370  02-12-2012  24.15 -0.053312  0.002842  0.012015\n",
              "8371  03-12-2012  21.38 -0.114700  0.013156  0.002842\n",
              "8372  04-12-2012  22.26  0.041160  0.001694  0.013156\n",
              "8373  05-12-2012  22.61  0.015723  0.000247  0.001694\n",
              "\n",
              "[8374 rows x 5 columns]"
            ],
            "text/html": [
              "\n",
              "  <div id=\"df-bed2f648-d2ee-4c49-b452-24c6e68955fa\">\n",
              "    <div class=\"colab-df-container\">\n",
              "      <div>\n",
              "<style scoped>\n",
              "    .dataframe tbody tr th:only-of-type {\n",
              "        vertical-align: middle;\n",
              "    }\n",
              "\n",
              "    .dataframe tbody tr th {\n",
              "        vertical-align: top;\n",
              "    }\n",
              "\n",
              "    .dataframe thead th {\n",
              "        text-align: right;\n",
              "    }\n",
              "</style>\n",
              "<table border=\"1\" class=\"dataframe\">\n",
              "  <thead>\n",
              "    <tr style=\"text-align: right;\">\n",
              "      <th></th>\n",
              "      <th>date</th>\n",
              "      <th>cvs</th>\n",
              "      <th>cvret</th>\n",
              "      <th>cvar</th>\n",
              "      <th>cvar_t_1</th>\n",
              "    </tr>\n",
              "  </thead>\n",
              "  <tbody>\n",
              "    <tr>\n",
              "      <th>0</th>\n",
              "      <td>02-01-1990</td>\n",
              "      <td>17.24</td>\n",
              "      <td>0.000000</td>\n",
              "      <td>0.000000</td>\n",
              "      <td>0.000000</td>\n",
              "    </tr>\n",
              "    <tr>\n",
              "      <th>1</th>\n",
              "      <td>03-01-1990</td>\n",
              "      <td>18.19</td>\n",
              "      <td>0.055104</td>\n",
              "      <td>0.003036</td>\n",
              "      <td>0.000000</td>\n",
              "    </tr>\n",
              "    <tr>\n",
              "      <th>2</th>\n",
              "      <td>04-01-1990</td>\n",
              "      <td>19.22</td>\n",
              "      <td>0.056625</td>\n",
              "      <td>0.003206</td>\n",
              "      <td>0.003036</td>\n",
              "    </tr>\n",
              "    <tr>\n",
              "      <th>3</th>\n",
              "      <td>05-01-1990</td>\n",
              "      <td>20.11</td>\n",
              "      <td>0.046306</td>\n",
              "      <td>0.002144</td>\n",
              "      <td>0.003206</td>\n",
              "    </tr>\n",
              "    <tr>\n",
              "      <th>4</th>\n",
              "      <td>06-01-1990</td>\n",
              "      <td>20.26</td>\n",
              "      <td>0.007459</td>\n",
              "      <td>0.000056</td>\n",
              "      <td>0.002144</td>\n",
              "    </tr>\n",
              "    <tr>\n",
              "      <th>...</th>\n",
              "      <td>...</td>\n",
              "      <td>...</td>\n",
              "      <td>...</td>\n",
              "      <td>...</td>\n",
              "      <td>...</td>\n",
              "    </tr>\n",
              "    <tr>\n",
              "      <th>8369</th>\n",
              "      <td>01-12-2012</td>\n",
              "      <td>25.51</td>\n",
              "      <td>0.109613</td>\n",
              "      <td>0.012015</td>\n",
              "      <td>0.014521</td>\n",
              "    </tr>\n",
              "    <tr>\n",
              "      <th>8370</th>\n",
              "      <td>02-12-2012</td>\n",
              "      <td>24.15</td>\n",
              "      <td>-0.053312</td>\n",
              "      <td>0.002842</td>\n",
              "      <td>0.012015</td>\n",
              "    </tr>\n",
              "    <tr>\n",
              "      <th>8371</th>\n",
              "      <td>03-12-2012</td>\n",
              "      <td>21.38</td>\n",
              "      <td>-0.114700</td>\n",
              "      <td>0.013156</td>\n",
              "      <td>0.002842</td>\n",
              "    </tr>\n",
              "    <tr>\n",
              "      <th>8372</th>\n",
              "      <td>04-12-2012</td>\n",
              "      <td>22.26</td>\n",
              "      <td>0.041160</td>\n",
              "      <td>0.001694</td>\n",
              "      <td>0.013156</td>\n",
              "    </tr>\n",
              "    <tr>\n",
              "      <th>8373</th>\n",
              "      <td>05-12-2012</td>\n",
              "      <td>22.61</td>\n",
              "      <td>0.015723</td>\n",
              "      <td>0.000247</td>\n",
              "      <td>0.001694</td>\n",
              "    </tr>\n",
              "  </tbody>\n",
              "</table>\n",
              "<p>8374 rows × 5 columns</p>\n",
              "</div>\n",
              "      <button class=\"colab-df-convert\" onclick=\"convertToInteractive('df-bed2f648-d2ee-4c49-b452-24c6e68955fa')\"\n",
              "              title=\"Convert this dataframe to an interactive table.\"\n",
              "              style=\"display:none;\">\n",
              "        \n",
              "  <svg xmlns=\"http://www.w3.org/2000/svg\" height=\"24px\"viewBox=\"0 0 24 24\"\n",
              "       width=\"24px\">\n",
              "    <path d=\"M0 0h24v24H0V0z\" fill=\"none\"/>\n",
              "    <path d=\"M18.56 5.44l.94 2.06.94-2.06 2.06-.94-2.06-.94-.94-2.06-.94 2.06-2.06.94zm-11 1L8.5 8.5l.94-2.06 2.06-.94-2.06-.94L8.5 2.5l-.94 2.06-2.06.94zm10 10l.94 2.06.94-2.06 2.06-.94-2.06-.94-.94-2.06-.94 2.06-2.06.94z\"/><path d=\"M17.41 7.96l-1.37-1.37c-.4-.4-.92-.59-1.43-.59-.52 0-1.04.2-1.43.59L10.3 9.45l-7.72 7.72c-.78.78-.78 2.05 0 2.83L4 21.41c.39.39.9.59 1.41.59.51 0 1.02-.2 1.41-.59l7.78-7.78 2.81-2.81c.8-.78.8-2.07 0-2.86zM5.41 20L4 18.59l7.72-7.72 1.47 1.35L5.41 20z\"/>\n",
              "  </svg>\n",
              "      </button>\n",
              "      \n",
              "  <style>\n",
              "    .colab-df-container {\n",
              "      display:flex;\n",
              "      flex-wrap:wrap;\n",
              "      gap: 12px;\n",
              "    }\n",
              "\n",
              "    .colab-df-convert {\n",
              "      background-color: #E8F0FE;\n",
              "      border: none;\n",
              "      border-radius: 50%;\n",
              "      cursor: pointer;\n",
              "      display: none;\n",
              "      fill: #1967D2;\n",
              "      height: 32px;\n",
              "      padding: 0 0 0 0;\n",
              "      width: 32px;\n",
              "    }\n",
              "\n",
              "    .colab-df-convert:hover {\n",
              "      background-color: #E2EBFA;\n",
              "      box-shadow: 0px 1px 2px rgba(60, 64, 67, 0.3), 0px 1px 3px 1px rgba(60, 64, 67, 0.15);\n",
              "      fill: #174EA6;\n",
              "    }\n",
              "\n",
              "    [theme=dark] .colab-df-convert {\n",
              "      background-color: #3B4455;\n",
              "      fill: #D2E3FC;\n",
              "    }\n",
              "\n",
              "    [theme=dark] .colab-df-convert:hover {\n",
              "      background-color: #434B5C;\n",
              "      box-shadow: 0px 1px 3px 1px rgba(0, 0, 0, 0.15);\n",
              "      filter: drop-shadow(0px 1px 2px rgba(0, 0, 0, 0.3));\n",
              "      fill: #FFFFFF;\n",
              "    }\n",
              "  </style>\n",
              "\n",
              "      <script>\n",
              "        const buttonEl =\n",
              "          document.querySelector('#df-bed2f648-d2ee-4c49-b452-24c6e68955fa button.colab-df-convert');\n",
              "        buttonEl.style.display =\n",
              "          google.colab.kernel.accessAllowed ? 'block' : 'none';\n",
              "\n",
              "        async function convertToInteractive(key) {\n",
              "          const element = document.querySelector('#df-bed2f648-d2ee-4c49-b452-24c6e68955fa');\n",
              "          const dataTable =\n",
              "            await google.colab.kernel.invokeFunction('convertToInteractive',\n",
              "                                                     [key], {});\n",
              "          if (!dataTable) return;\n",
              "\n",
              "          const docLinkHtml = 'Like what you see? Visit the ' +\n",
              "            '<a target=\"_blank\" href=https://colab.research.google.com/notebooks/data_table.ipynb>data table notebook</a>'\n",
              "            + ' to learn more about interactive tables.';\n",
              "          element.innerHTML = '';\n",
              "          dataTable['output_type'] = 'display_data';\n",
              "          await google.colab.output.renderOutput(dataTable, element);\n",
              "          const docLink = document.createElement('div');\n",
              "          docLink.innerHTML = docLinkHtml;\n",
              "          element.appendChild(docLink);\n",
              "        }\n",
              "      </script>\n",
              "    </div>\n",
              "  </div>\n",
              "  "
            ]
          },
          "metadata": {},
          "execution_count": 26
        }
      ]
    },
    {
      "cell_type": "code",
      "source": [
        "# we are concerned with the variance of VIX index which is the square of the returns of VIX index prices.\n",
        "vixvol= vix['cvar']\n",
        "\n",
        "plt.plot(vixvol)"
      ],
      "metadata": {
        "colab": {
          "base_uri": "https://localhost:8080/",
          "height": 452
        },
        "id": "4m_hTgkXdo4J",
        "outputId": "b2a6233d-2c9f-4a76-e5a9-3b577d3af675"
      },
      "execution_count": null,
      "outputs": [
        {
          "output_type": "execute_result",
          "data": {
            "text/plain": [
              "[<matplotlib.lines.Line2D at 0x7f8fbda21420>]"
            ]
          },
          "metadata": {},
          "execution_count": 27
        },
        {
          "output_type": "display_data",
          "data": {
            "text/plain": [
              "<Figure size 640x480 with 1 Axes>"
            ],
            "image/png": "[encoded data removed]"
          },
          "metadata": {}
        }
      ]
    },
    {
      "cell_type": "code",
      "source": [
        "vixvol.head(10)\n",
        "vixvol.info()"
      ],
      "metadata": {
        "colab": {
          "base_uri": "https://localhost:8080/"
        },
        "id": "9my55DwzmZZz",
        "outputId": "23393dda-ddea-42f7-9b92-3f24f275b214"
      },
      "execution_count": null,
      "outputs": [
        {
          "output_type": "stream",
          "name": "stdout",
          "text": [
            "<class 'pandas.core.series.Series'>\n",
            "RangeIndex: 8374 entries, 0 to 8373\n",
            "Series name: cvar\n",
            "Non-Null Count  Dtype  \n",
            "--------------  -----  \n",
            "8374 non-null   float64\n",
            "dtypes: float64(1)\n",
            "memory usage: 65.5 KB\n"
          ]
        }
      ]
    },
    {
      "cell_type": "code",
      "source": [
        "type(vixvol)"
      ],
      "metadata": {
        "colab": {
          "base_uri": "https://localhost:8080/"
        },
        "id": "5QiuTvK4rDe3",
        "outputId": "a187d956-cc4e-47e3-ad7c-6039eb4d183c"
      },
      "execution_count": null,
      "outputs": [
        {
          "output_type": "execute_result",
          "data": {
            "text/plain": [
              "pandas.core.series.Series"
            ]
          },
          "metadata": {},
          "execution_count": 29
        }
      ]
    },
    {
      "cell_type": "markdown",
      "source": [
        "below we define a function that helps us to convert the univariate series into X and Y variables where X is a lagged series and Y is a series that looks back hence the look back parameter"
      ],
      "metadata": {
        "id": "z_qID-amxO4O"
      }
    },
    {
      "cell_type": "code",
      "source": [
        "type(vixvol)"
      ],
      "metadata": {
        "colab": {
          "base_uri": "https://localhost:8080/"
        },
        "id": "IouE2USE5B7r",
        "outputId": "151b992b-bc08-4fcd-8ad1-c482ad79167d"
      },
      "execution_count": null,
      "outputs": [
        {
          "output_type": "execute_result",
          "data": {
            "text/plain": [
              "pandas.core.series.Series"
            ]
          },
          "metadata": {},
          "execution_count": 30
        }
      ]
    },
    {
      "cell_type": "code",
      "source": [
        "\n",
        "def data_to_lagseries(vixvol_arr, look_back):\n",
        "   X, Y =[], []\n",
        "   for i in range(len(vixvol_arr)-look_back):\n",
        "    d=i+look_back\n",
        "    X.append(vixvol_arr[i:d,])\n",
        "    Y.append(vixvol_arr[d,])\n",
        "    return np.array(X), np.array(Y)"
      ],
      "metadata": {
        "id": "cOt8EmptvmMQ"
      },
      "execution_count": null,
      "outputs": []
    },
    {
      "cell_type": "code",
      "source": [
        "from sklearn.preprocessing import MinMaxScaler\n",
        "#create numpy.ndarray\n",
        "vixvol_arr = vixvol.to_numpy()\n",
        "vixvol_arr.shape, print(vixvol_arr)"
      ],
      "metadata": {
        "colab": {
          "base_uri": "https://localhost:8080/"
        },
        "id": "yBjc390GxazO",
        "outputId": "ca2a1308-aecb-424d-89eb-16227adf962f"
      },
      "execution_count": null,
      "outputs": [
        {
          "output_type": "stream",
          "name": "stdout",
          "text": [
            "[0.         0.0030365  0.00320634 ... 0.01315604 0.00169414 0.00024722]\n"
          ]
        },
        {
          "output_type": "execute_result",
          "data": {
            "text/plain": [
              "((8374,), None)"
            ]
          },
          "metadata": {},
          "execution_count": 95
        }
      ]
    },
    {
      "cell_type": "code",
      "source": [
        "vixvol_arr = np.reshape(vixvol_arr, (-1, 1)) #LTSM requires more input features compared to RNN or DNN\n",
        "vixvol_arr.shape, print(vixvol_arr)"
      ],
      "metadata": {
        "colab": {
          "base_uri": "https://localhost:8080/"
        },
        "id": "F1H6_Bz66gka",
        "outputId": "4c305c0c-3f83-43bf-a84b-a1f614d8b0b0"
      },
      "execution_count": null,
      "outputs": [
        {
          "output_type": "stream",
          "name": "stdout",
          "text": [
            "[[0.        ]\n",
            " [0.0030365 ]\n",
            " [0.00320634]\n",
            " ...\n",
            " [0.01315604]\n",
            " [0.00169414]\n",
            " [0.00024722]]\n"
          ]
        },
        {
          "output_type": "execute_result",
          "data": {
            "text/plain": [
              "((8374, 1), None)"
            ]
          },
          "metadata": {},
          "execution_count": 96
        }
      ]
    },
    {
      "cell_type": "code",
      "source": [
        "plt.plot(vixvol_arr)"
      ],
      "metadata": {
        "colab": {
          "base_uri": "https://localhost:8080/",
          "height": 452
        },
        "id": "Ild8Yr7V7skv",
        "outputId": "d6f94f55-2d09-410c-8af7-b27cc4665eff"
      },
      "execution_count": null,
      "outputs": [
        {
          "output_type": "execute_result",
          "data": {
            "text/plain": [
              "[<matplotlib.lines.Line2D at 0x7f8fb0627640>]"
            ]
          },
          "metadata": {},
          "execution_count": 97
        },
        {
          "output_type": "display_data",
          "data": {
            "text/plain": [
              "<Figure size 640x480 with 1 Axes>"
            ],
            "image/png": "[encoded data removed]"
          },
          "metadata": {}
        }
      ]
    },
    {
      "cell_type": "code",
      "source": [
        "scaler = MinMaxScaler(feature_range=(0, 1))#LTSM is senstive to the scale of features\n"
      ],
      "metadata": {
        "id": "JOpIJ4ro63ge"
      },
      "execution_count": null,
      "outputs": []
    },
    {
      "cell_type": "code",
      "source": [
        "vixvol_arr = scaler.fit_transform(vixvol_arr)\n",
        "print(vixvol_arr),vixvol_arr.shape,plt.plot(vixvol_arr)"
      ],
      "metadata": {
        "colab": {
          "base_uri": "https://localhost:8080/",
          "height": 569
        },
        "id": "Nx1eYGJu706v",
        "outputId": "cf595d7e-a7d5-4863-ef82-d8e1933caa78"
      },
      "execution_count": null,
      "outputs": [
        {
          "output_type": "stream",
          "name": "stdout",
          "text": [
            "[[0.        ]\n",
            " [0.00227234]\n",
            " [0.00239944]\n",
            " ...\n",
            " [0.00984522]\n",
            " [0.0012678 ]\n",
            " [0.00018501]]\n"
          ]
        },
        {
          "output_type": "execute_result",
          "data": {
            "text/plain": [
              "(None, (8374, 1), [<matplotlib.lines.Line2D at 0x7f8fb06d2170>])"
            ]
          },
          "metadata": {},
          "execution_count": 99
        },
        {
          "output_type": "display_data",
          "data": {
            "text/plain": [
              "<Figure size 640x480 with 1 Axes>"
            ],
            "image/png": "[encoded data removed]"
          },
          "metadata": {}
        }
      ]
    },
    {
      "cell_type": "code",
      "source": [
        "train_size = 8000\n",
        "test_size = len(vixvol_arr)-train_size\n",
        "train, test = vixvol_arr[0:train_size,:], vixvol_arr[train_size:len(vixvol_arr),:]\n",
        "look_back = 1\n",
        "trainX, trainY = data_to_lagseries(train, look_back)\n",
        "testX, testY = data_to_lagseries(test, look_back)\n",
        "# reshape input to be [samples, time steps, features]\n",
        "trainX = np.reshape(trainX, (trainX.shape[0], 1, trainX.shape[1]))\n",
        "testX = np.reshape(testX, (testX.shape[0], 1, testX.shape[1]))"
      ],
      "metadata": {
        "id": "UNrHjAdx8YIs"
      },
      "execution_count": null,
      "outputs": []
    },
    {
      "cell_type": "code",
      "source": [
        "print(train.shape)"
      ],
      "metadata": {
        "colab": {
          "base_uri": "https://localhost:8080/"
        },
        "id": "8HwieSvl_ucv",
        "outputId": "0aec7c22-b9ba-4e16-af95-fe7c29b49c79"
      },
      "execution_count": null,
      "outputs": [
        {
          "output_type": "stream",
          "name": "stdout",
          "text": [
            "(8000, 1)\n"
          ]
        }
      ]
    },
    {
      "cell_type": "code",
      "source": [
        "print(test.shape)"
      ],
      "metadata": {
        "colab": {
          "base_uri": "https://localhost:8080/"
        },
        "id": "oxXG5CEu_LRX",
        "outputId": "1cf1296f-64a5-4f52-b642-43b755e4b721"
      },
      "execution_count": null,
      "outputs": [
        {
          "output_type": "stream",
          "name": "stdout",
          "text": [
            "(374, 1)\n"
          ]
        }
      ]
    },
    {
      "cell_type": "markdown",
      "source": [
        "The reshaping of the train and test series ensures that the program will read onevalue at every time step taking into account the look back which is the lag. So the first look back will be 30 values and the 31st value which is the Y value which needs to be regressed against the past 30 values of the train seriess which is the lagged series"
      ],
      "metadata": {
        "id": "1k7kzfKyAa79"
      }
    },
    {
      "cell_type": "code",
      "source": [
        "print(trainX.shape) # one sample in the curren position , one time step , one columnar feature"
      ],
      "metadata": {
        "colab": {
          "base_uri": "https://localhost:8080/"
        },
        "id": "E-MK6o4N_-zW",
        "outputId": "c2784b78-de9f-47a9-9679-b4548bc95692"
      },
      "execution_count": null,
      "outputs": [
        {
          "output_type": "stream",
          "name": "stdout",
          "text": [
            "(1, 1, 1)\n"
          ]
        }
      ]
    },
    {
      "cell_type": "code",
      "source": [
        "print(testX.shape)# one sample in the curren position , one time step , one columnar feature ."
      ],
      "metadata": {
        "colab": {
          "base_uri": "https://localhost:8080/"
        },
        "id": "MgpNS_VL_y7U",
        "outputId": "d99b2d83-1f6a-41b7-a4fd-bf780e73fa87"
      },
      "execution_count": null,
      "outputs": [
        {
          "output_type": "stream",
          "name": "stdout",
          "text": [
            "(1, 1, 1)\n"
          ]
        }
      ]
    },
    {
      "cell_type": "code",
      "source": [
        "#scaler = MinMaxScaler(feature_range=(0, 1))#LTSM is senstive to the scale of features\n",
        "#vixvol_arr = scaler.fit_transform(vixvol)"
      ],
      "metadata": {
        "id": "r2T82Sdc4q9o"
      },
      "execution_count": null,
      "outputs": []
    },
    {
      "cell_type": "markdown",
      "source": [
        "Defining the fitting of LSTM model so that the problem can be set for solving"
      ],
      "metadata": {
        "id": "eQcsD82VERIP"
      }
    },
    {
      "cell_type": "code",
      "source": [
        "\n",
        "def model_lstm(look_back):\n",
        "  model=Sequential()\n",
        "  model.add(LSTM(100, input_shape=(1, look_back), activation='relu'))\n",
        "  model.add(Dense(1))\n",
        "  model.compile(loss='mean_squared_error',  optimizer='adam',metrics = ['mse', 'mae'])\n",
        "  return model"
      ],
      "metadata": {
        "id": "1gVezYHdCxsx"
      },
      "execution_count": null,
      "outputs": []
    },
    {
      "cell_type": "code",
      "source": [
        "from keras.callbacks import History\n",
        "history = History()"
      ],
      "metadata": {
        "id": "nyaN0Vgdcztz"
      },
      "execution_count": null,
      "outputs": []
    },
    {
      "cell_type": "code",
      "source": [
        "vixvolmodel  = model_lstm(look_back)\n",
        "history = vixvolmodel.fit(trainX,trainY,epochs = 50,batch_size = 50, validation_data = (testX,testY),callbacks = [history],shuffle =False)"
      ],
      "metadata": {
        "colab": {
          "base_uri": "https://localhost:8080/"
        },
        "id": "Ndx0CocuFVEI",
        "outputId": "1e2806b1-e0b0-470d-f68e-1476012e032b"
      },
      "execution_count": null,
      "outputs": [
        {
          "output_type": "stream",
          "name": "stdout",
          "text": [
            "Epoch 1/50\n",
            "1/1 [==============================] - 2s 2s/step - loss: 1.6464e-05 - mse: 1.6464e-05 - mae: 0.0041 - val_loss: 1.1562e-06 - val_mse: 1.1562e-06 - val_mae: 0.0011\n",
            "Epoch 2/50\n",
            "1/1 [==============================] - 0s 43ms/step - loss: 9.3515e-06 - mse: 9.3515e-06 - mae: 0.0031 - val_loss: 8.5693e-09 - val_mse: 8.5693e-09 - val_mae: 9.2571e-05\n",
            "Epoch 3/50\n",
            "1/1 [==============================] - 0s 45ms/step - loss: 4.3070e-06 - mse: 4.3070e-06 - mae: 0.0021 - val_loss: 7.2634e-07 - val_mse: 7.2634e-07 - val_mae: 8.5225e-04\n",
            "Epoch 4/50\n",
            "1/1 [==============================] - 0s 61ms/step - loss: 1.2780e-06 - mse: 1.2780e-06 - mae: 0.0011 - val_loss: 2.9846e-06 - val_mse: 2.9846e-06 - val_mae: 0.0017\n",
            "Epoch 5/50\n",
            "1/1 [==============================] - 0s 59ms/step - loss: 6.5109e-08 - mse: 6.5109e-08 - mae: 2.5517e-04 - val_loss: 6.2077e-06 - val_mse: 6.2077e-06 - val_mae: 0.0025\n",
            "Epoch 6/50\n",
            "1/1 [==============================] - 0s 57ms/step - loss: 2.5885e-07 - mse: 2.5885e-07 - mae: 5.0877e-04 - val_loss: 9.6099e-06 - val_mse: 9.6099e-06 - val_mae: 0.0031\n",
            "Epoch 7/50\n",
            "1/1 [==============================] - 0s 57ms/step - loss: 1.2482e-06 - mse: 1.2482e-06 - mae: 0.0011 - val_loss: 1.2407e-05 - val_mse: 1.2407e-05 - val_mae: 0.0035\n",
            "Epoch 8/50\n",
            "1/1 [==============================] - 0s 40ms/step - loss: 2.3705e-06 - mse: 2.3705e-06 - mae: 0.0015 - val_loss: 1.4087e-05 - val_mse: 1.4087e-05 - val_mae: 0.0038\n",
            "Epoch 9/50\n",
            "1/1 [==============================] - 0s 43ms/step - loss: 3.1349e-06 - mse: 3.1349e-06 - mae: 0.0018 - val_loss: 1.4515e-05 - val_mse: 1.4515e-05 - val_mae: 0.0038\n",
            "Epoch 10/50\n",
            "1/1 [==============================] - 0s 59ms/step - loss: 3.3381e-06 - mse: 3.3381e-06 - mae: 0.0018 - val_loss: 1.3845e-05 - val_mse: 1.3845e-05 - val_mae: 0.0037\n",
            "Epoch 11/50\n",
            "1/1 [==============================] - 0s 55ms/step - loss: 3.0211e-06 - mse: 3.0211e-06 - mae: 0.0017 - val_loss: 1.2379e-05 - val_mse: 1.2379e-05 - val_mae: 0.0035\n",
            "Epoch 12/50\n",
            "1/1 [==============================] - 0s 63ms/step - loss: 2.3582e-06 - mse: 2.3582e-06 - mae: 0.0015 - val_loss: 1.0452e-05 - val_mse: 1.0452e-05 - val_mae: 0.0032\n",
            "Epoch 13/50\n",
            "1/1 [==============================] - 0s 41ms/step - loss: 1.5630e-06 - mse: 1.5630e-06 - mae: 0.0013 - val_loss: 8.3705e-06 - val_mse: 8.3705e-06 - val_mae: 0.0029\n",
            "Epoch 14/50\n",
            "1/1 [==============================] - 0s 39ms/step - loss: 8.2888e-07 - mse: 8.2888e-07 - mae: 9.1043e-04 - val_loss: 6.3809e-06 - val_mse: 6.3809e-06 - val_mae: 0.0025\n",
            "Epoch 15/50\n",
            "1/1 [==============================] - 0s 54ms/step - loss: 2.9516e-07 - mse: 2.9516e-07 - mae: 5.4329e-04 - val_loss: 4.6535e-06 - val_mse: 4.6535e-06 - val_mae: 0.0022\n",
            "Epoch 16/50\n",
            "1/1 [==============================] - 0s 56ms/step - loss: 3.0435e-08 - mse: 3.0435e-08 - mae: 1.7446e-04 - val_loss: 3.2794e-06 - val_mse: 3.2794e-06 - val_mae: 0.0018\n",
            "Epoch 17/50\n",
            "1/1 [==============================] - 0s 54ms/step - loss: 2.9528e-08 - mse: 2.9528e-08 - mae: 1.7184e-04 - val_loss: 2.2767e-06 - val_mse: 2.2767e-06 - val_mae: 0.0015\n",
            "Epoch 18/50\n",
            "1/1 [==============================] - 0s 55ms/step - loss: 2.2456e-07 - mse: 2.2456e-07 - mae: 4.7388e-04 - val_loss: 1.6095e-06 - val_mse: 1.6095e-06 - val_mae: 0.0013\n",
            "Epoch 19/50\n",
            "1/1 [==============================] - 0s 58ms/step - loss: 5.0992e-07 - mse: 5.0992e-07 - mae: 7.1409e-04 - val_loss: 1.2147e-06 - val_mse: 1.2147e-06 - val_mae: 0.0011\n",
            "Epoch 20/50\n",
            "1/1 [==============================] - 0s 39ms/step - loss: 7.7549e-07 - mse: 7.7549e-07 - mae: 8.8062e-04 - val_loss: 1.0292e-06 - val_mse: 1.0292e-06 - val_mae: 0.0010\n",
            "Epoch 21/50\n",
            "1/1 [==============================] - 0s 57ms/step - loss: 9.3751e-07 - mse: 9.3751e-07 - mae: 9.6825e-04 - val_loss: 1.0090e-06 - val_mse: 1.0090e-06 - val_mae: 0.0010\n",
            "Epoch 22/50\n",
            "1/1 [==============================] - 0s 39ms/step - loss: 9.5697e-07 - mse: 9.5697e-07 - mae: 9.7825e-04 - val_loss: 1.1350e-06 - val_mse: 1.1350e-06 - val_mae: 0.0011\n",
            "Epoch 23/50\n",
            "1/1 [==============================] - 0s 46ms/step - loss: 8.4163e-07 - mse: 8.4163e-07 - mae: 9.1740e-04 - val_loss: 1.4068e-06 - val_mse: 1.4068e-06 - val_mae: 0.0012\n",
            "Epoch 24/50\n",
            "1/1 [==============================] - 0s 55ms/step - loss: 6.3471e-07 - mse: 6.3471e-07 - mae: 7.9668e-04 - val_loss: 1.8301e-06 - val_mse: 1.8301e-06 - val_mae: 0.0014\n",
            "Epoch 25/50\n",
            "1/1 [==============================] - 0s 59ms/step - loss: 3.9683e-07 - mse: 3.9683e-07 - mae: 6.2995e-04 - val_loss: 2.4023e-06 - val_mse: 2.4023e-06 - val_mae: 0.0015\n",
            "Epoch 26/50\n",
            "1/1 [==============================] - 0s 57ms/step - loss: 1.8733e-07 - mse: 1.8733e-07 - mae: 4.3282e-04 - val_loss: 3.1012e-06 - val_mse: 3.1012e-06 - val_mae: 0.0018\n",
            "Epoch 27/50\n",
            "1/1 [==============================] - 0s 46ms/step - loss: 4.9169e-08 - mse: 4.9169e-08 - mae: 2.2174e-04 - val_loss: 3.8798e-06 - val_mse: 3.8798e-06 - val_mae: 0.0020\n",
            "Epoch 28/50\n",
            "1/1 [==============================] - 0s 58ms/step - loss: 1.6995e-10 - mse: 1.6995e-10 - mae: 1.3037e-05 - val_loss: 4.6693e-06 - val_mse: 4.6693e-06 - val_mae: 0.0022\n",
            "Epoch 29/50\n",
            "1/1 [==============================] - 0s 57ms/step - loss: 3.1719e-08 - mse: 3.1719e-08 - mae: 1.7810e-04 - val_loss: 5.3888e-06 - val_mse: 5.3888e-06 - val_mae: 0.0023\n",
            "Epoch 30/50\n",
            "1/1 [==============================] - 0s 45ms/step - loss: 1.1467e-07 - mse: 1.1467e-07 - mae: 3.3863e-04 - val_loss: 5.9605e-06 - val_mse: 5.9605e-06 - val_mae: 0.0024\n",
            "Epoch 31/50\n",
            "1/1 [==============================] - 0s 58ms/step - loss: 2.1037e-07 - mse: 2.1037e-07 - mae: 4.5866e-04 - val_loss: 6.3245e-06 - val_mse: 6.3245e-06 - val_mae: 0.0025\n",
            "Epoch 32/50\n",
            "1/1 [==============================] - 0s 60ms/step - loss: 2.8313e-07 - mse: 2.8313e-07 - mae: 5.3210e-04 - val_loss: 6.4505e-06 - val_mse: 6.4505e-06 - val_mae: 0.0025\n",
            "Epoch 33/50\n",
            "1/1 [==============================] - 0s 56ms/step - loss: 3.1028e-07 - mse: 3.1028e-07 - mae: 5.5703e-04 - val_loss: 6.3416e-06 - val_mse: 6.3416e-06 - val_mae: 0.0025\n",
            "Epoch 34/50\n",
            "1/1 [==============================] - 0s 56ms/step - loss: 2.8675e-07 - mse: 2.8675e-07 - mae: 5.3549e-04 - val_loss: 6.0310e-06 - val_mse: 6.0310e-06 - val_mae: 0.0025\n",
            "Epoch 35/50\n",
            "1/1 [==============================] - 0s 57ms/step - loss: 2.2379e-07 - mse: 2.2379e-07 - mae: 4.7306e-04 - val_loss: 5.5735e-06 - val_mse: 5.5735e-06 - val_mae: 0.0024\n",
            "Epoch 36/50\n",
            "1/1 [==============================] - 0s 42ms/step - loss: 1.4294e-07 - mse: 1.4294e-07 - mae: 3.7807e-04 - val_loss: 5.0335e-06 - val_mse: 5.0335e-06 - val_mae: 0.0022\n",
            "Epoch 37/50\n",
            "1/1 [==============================] - 0s 44ms/step - loss: 6.8010e-08 - mse: 6.8010e-08 - mae: 2.6079e-04 - val_loss: 4.4744e-06 - val_mse: 4.4744e-06 - val_mae: 0.0021\n",
            "Epoch 38/50\n",
            "1/1 [==============================] - 0s 58ms/step - loss: 1.7562e-08 - mse: 1.7562e-08 - mae: 1.3252e-04 - val_loss: 3.9499e-06 - val_mse: 3.9499e-06 - val_mae: 0.0020\n",
            "Epoch 39/50\n",
            "1/1 [==============================] - 0s 55ms/step - loss: 2.1989e-11 - mse: 2.1989e-11 - mae: 4.6892e-06 - val_loss: 3.4994e-06 - val_mse: 3.4994e-06 - val_mae: 0.0019\n",
            "Epoch 40/50\n",
            "1/1 [==============================] - 0s 40ms/step - loss: 1.2560e-08 - mse: 1.2560e-08 - mae: 1.1207e-04 - val_loss: 3.1471e-06 - val_mse: 3.1471e-06 - val_mae: 0.0018\n",
            "Epoch 41/50\n",
            "1/1 [==============================] - 0s 67ms/step - loss: 4.3580e-08 - mse: 4.3580e-08 - mae: 2.0876e-04 - val_loss: 2.9039e-06 - val_mse: 2.9039e-06 - val_mae: 0.0017\n",
            "Epoch 42/50\n",
            "1/1 [==============================] - 0s 52ms/step - loss: 7.7662e-08 - mse: 7.7662e-08 - mae: 2.7868e-04 - val_loss: 2.7716e-06 - val_mse: 2.7716e-06 - val_mae: 0.0017\n",
            "Epoch 43/50\n",
            "1/1 [==============================] - 0s 71ms/step - loss: 1.0109e-07 - mse: 1.0109e-07 - mae: 3.1794e-04 - val_loss: 2.7461e-06 - val_mse: 2.7461e-06 - val_mae: 0.0017\n",
            "Epoch 44/50\n",
            "1/1 [==============================] - 0s 72ms/step - loss: 1.0602e-07 - mse: 1.0602e-07 - mae: 3.2560e-04 - val_loss: 2.8196e-06 - val_mse: 2.8196e-06 - val_mae: 0.0017\n",
            "Epoch 45/50\n",
            "1/1 [==============================] - 0s 54ms/step - loss: 9.2171e-08 - mse: 9.2171e-08 - mae: 3.0360e-04 - val_loss: 2.9806e-06 - val_mse: 2.9806e-06 - val_mae: 0.0017\n",
            "Epoch 46/50\n",
            "1/1 [==============================] - 0s 67ms/step - loss: 6.5698e-08 - mse: 6.5698e-08 - mae: 2.5632e-04 - val_loss: 3.2136e-06 - val_mse: 3.2136e-06 - val_mae: 0.0018\n",
            "Epoch 47/50\n",
            "1/1 [==============================] - 0s 74ms/step - loss: 3.6134e-08 - mse: 3.6134e-08 - mae: 1.9009e-04 - val_loss: 3.4979e-06 - val_mse: 3.4979e-06 - val_mae: 0.0019\n",
            "Epoch 48/50\n",
            "1/1 [==============================] - 0s 68ms/step - loss: 1.2650e-08 - mse: 1.2650e-08 - mae: 1.1247e-04 - val_loss: 3.8073e-06 - val_mse: 3.8073e-06 - val_mae: 0.0020\n",
            "Epoch 49/50\n",
            "1/1 [==============================] - 0s 69ms/step - loss: 9.9296e-10 - mse: 9.9296e-10 - mae: 3.1511e-05 - val_loss: 4.1119e-06 - val_mse: 4.1119e-06 - val_mae: 0.0020\n",
            "Epoch 50/50\n",
            "1/1 [==============================] - 0s 70ms/step - loss: 2.0274e-09 - mse: 2.0274e-09 - mae: 4.5027e-05 - val_loss: 4.3810e-06 - val_mse: 4.3810e-06 - val_mae: 0.0021\n"
          ]
        }
      ]
    },
    {
      "cell_type": "code",
      "source": [
        "vixvolmodel.save_weights('LSTMBasic1.h5')\n",
        "W = vixvolmodel.layers[1].get_weights()\n",
        "U = vixvolmodel.layers[1].get_weights()\n",
        "b = vixvolmodel.layers[1].get_weights()"
      ],
      "metadata": {
        "id": "UT0d4nAeL54z"
      },
      "execution_count": null,
      "outputs": []
    },
    {
      "cell_type": "code",
      "source": [
        "vixvolmodel.summary()"
      ],
      "metadata": {
        "colab": {
          "base_uri": "https://localhost:8080/"
        },
        "id": "KwytWB7cN1iA",
        "outputId": "2f7a3e8a-3eb0-4228-cb92-2b234efb50ab"
      },
      "execution_count": null,
      "outputs": [
        {
          "output_type": "stream",
          "name": "stdout",
          "text": [
            "Model: \"sequential_7\"\n",
            "_________________________________________________________________\n",
            " Layer (type)                Output Shape              Param #   \n",
            "=================================================================\n",
            " lstm_7 (LSTM)               (None, 100)               40800     \n",
            "                                                                 \n",
            " dense_7 (Dense)             (None, 1)                 101       \n",
            "                                                                 \n",
            "=================================================================\n",
            "Total params: 40,901\n",
            "Trainable params: 40,901\n",
            "Non-trainable params: 0\n",
            "_________________________________________________________________\n"
          ]
        }
      ]
    },
    {
      "cell_type": "code",
      "source": [
        "train_predict = vixvolmodel.predict(trainX)\n"
      ],
      "metadata": {
        "colab": {
          "base_uri": "https://localhost:8080/"
        },
        "id": "FtifdRt2PLG-",
        "outputId": "acea447f-6a3e-4e56-9494-e9c48cfa3ae3"
      },
      "execution_count": null,
      "outputs": [
        {
          "output_type": "stream",
          "name": "stdout",
          "text": [
            "1/1 [==============================] - 0s 190ms/step\n"
          ]
        }
      ]
    },
    {
      "cell_type": "code",
      "source": [
        "test_predict = vixvolmodel.predict(testX)"
      ],
      "metadata": {
        "colab": {
          "base_uri": "https://localhost:8080/"
        },
        "id": "OoOGU8J3Qeo2",
        "outputId": "4544eb22-513c-4b10-ff7b-8320d93a7456"
      },
      "execution_count": null,
      "outputs": [
        {
          "output_type": "stream",
          "name": "stdout",
          "text": [
            "1/1 [==============================] - 0s 23ms/step\n"
          ]
        }
      ]
    },
    {
      "cell_type": "markdown",
      "source": [
        "inverting the predictions to original values as in the train and test data that is before mini max transformation"
      ],
      "metadata": {
        "id": "PpUOAV6KQ41n"
      }
    },
    {
      "cell_type": "code",
      "source": [
        "train_predict = scaler.inverse_transform(train_predict)\n",
        "test_predict = scaler.inverse_transform(test_predict)"
      ],
      "metadata": {
        "id": "UpyUmQDfQwzz"
      },
      "execution_count": null,
      "outputs": []
    },
    {
      "cell_type": "code",
      "source": [
        "type(train_predict)\n",
        "type(test_predict)"
      ],
      "metadata": {
        "colab": {
          "base_uri": "https://localhost:8080/"
        },
        "id": "jn12iUDyRUIT",
        "outputId": "92d168b2-11b7-4d07-c5fd-9e0155da75a3"
      },
      "execution_count": null,
      "outputs": [
        {
          "output_type": "execute_result",
          "data": {
            "text/plain": [
              "numpy.ndarray"
            ]
          },
          "metadata": {},
          "execution_count": 124
        }
      ]
    },
    {
      "cell_type": "code",
      "source": [
        "trainY = scaler.inverse_transform(trainY)\n",
        "testY = scaler.inverse_transform(testY)"
      ],
      "metadata": {
        "id": "aD4-mppLSXr_"
      },
      "execution_count": null,
      "outputs": []
    },
    {
      "cell_type": "code",
      "source": [
        "type(trainY)\n",
        "type(testY)"
      ],
      "metadata": {
        "colab": {
          "base_uri": "https://localhost:8080/"
        },
        "id": "XVQIDjRmVora",
        "outputId": "58370ceb-a578-44d1-9045-a91ba7b458fd"
      },
      "execution_count": null,
      "outputs": [
        {
          "output_type": "execute_result",
          "data": {
            "text/plain": [
              "numpy.ndarray"
            ]
          },
          "metadata": {},
          "execution_count": 126
        }
      ]
    },
    {
      "cell_type": "code",
      "source": [
        "print('Train Root Mean Squared Error(RMSE): %.2f; Train Mean Absolute Error(MAE) : %.2f '% (np.sqrt(mean_squared_error(trainY[0], train_predict[:,0])),(mean_absolute_error(trainY[0], train_predict[:,0]))))\n",
        "print('Test Root Mean Squared Error(RMSE): %.2f; Test Mean Absolute Error(MAE) : %.2f '% (np.sqrt(mean_squared_error(testY[0], test_predict[:,0])),(mean_absolute_error(testY[0], test_predict[:,0]))))\n",
        "vixvolmodel.history"
      ],
      "metadata": {
        "colab": {
          "base_uri": "https://localhost:8080/"
        },
        "id": "fQFfMItpWWM4",
        "outputId": "ba4aff47-690c-43ed-f1d6-e887912185e3"
      },
      "execution_count": null,
      "outputs": [
        {
          "output_type": "stream",
          "name": "stdout",
          "text": [
            "Train Root Mean Squared Error(RMSE): 0.00; Train Mean Absolute Error(MAE) : 0.00 \n",
            "Test Root Mean Squared Error(RMSE): 0.00; Test Mean Absolute Error(MAE) : 0.00 \n"
          ]
        },
        {
          "output_type": "execute_result",
          "data": {
            "text/plain": [
              "<keras.callbacks.History at 0x7f8fbda217e0>"
            ]
          },
          "metadata": {},
          "execution_count": 129
        }
      ]
    },
    {
      "cell_type": "code",
      "source": [
        "print(np.sqrt(mean_squared_error(trainY[0], train_predict[:,0])),(mean_absolute_error(trainY[0], train_predict[:,0])))"
      ],
      "metadata": {
        "colab": {
          "base_uri": "https://localhost:8080/"
        },
        "id": "-oKOR4JKZsmI",
        "outputId": "73755fd2-a52d-4398-eeae-f7915ae2bdb6"
      },
      "execution_count": null,
      "outputs": [
        {
          "output_type": "stream",
          "name": "stdout",
          "text": [
            "1.1257277297168494e-05 1.1257277297168494e-05\n"
          ]
        }
      ]
    },
    {
      "cell_type": "code",
      "source": [
        "print(np.sqrt(mean_squared_error(testY[0], test_predict[:,0])),(mean_absolute_error(testY[0], test_predict[:,0])))"
      ],
      "metadata": {
        "colab": {
          "base_uri": "https://localhost:8080/"
        },
        "id": "dfiyK6QzcCNa",
        "outputId": "9fd59c18-f519-4a76-869e-c8c2386862d2"
      },
      "execution_count": null,
      "outputs": [
        {
          "output_type": "stream",
          "name": "stdout",
          "text": [
            "0.0020353714894671606 0.0020353714894671606\n"
          ]
        }
      ]
    },
    {
      "cell_type": "code",
      "source": [
        "print(history.history.keys())"
      ],
      "metadata": {
        "colab": {
          "base_uri": "https://localhost:8080/"
        },
        "id": "bPskyzIrcTLA",
        "outputId": "adb4f989-4927-47fb-d316-0fd55fe61ae7"
      },
      "execution_count": null,
      "outputs": [
        {
          "output_type": "stream",
          "name": "stdout",
          "text": [
            "dict_keys(['loss', 'mse', 'mae', 'val_loss', 'val_mse', 'val_mae'])\n"
          ]
        }
      ]
    },
    {
      "cell_type": "code",
      "source": [
        "history.history"
      ],
      "metadata": {
        "id": "bhPSDZr8hXQ6"
      },
      "execution_count": null,
      "outputs": []
    },
    {
      "cell_type": "code",
      "source": [
        "loss_metrics = pd.DataFrame.from_dict(history.history)\n",
        "loss_metrics.head(50)"
      ],
      "metadata": {
        "colab": {
          "base_uri": "https://localhost:8080/",
          "height": 1000
        },
        "id": "a5gndhnehzPM",
        "outputId": "f52731e9-fc3a-4aaa-dc1b-1b00ebd336c8"
      },
      "execution_count": null,
      "outputs": [
        {
          "output_type": "execute_result",
          "data": {
            "text/plain": [
              "            loss           mse       mae      val_loss       val_mse   val_mae\n",
              "0   1.646438e-05  1.646438e-05  0.004058  1.156221e-06  1.156221e-06  0.001075\n",
              "1   9.351541e-06  9.351541e-06  0.003058  8.569329e-09  8.569329e-09  0.000093\n",
              "2   4.306962e-06  4.306962e-06  0.002075  7.263376e-07  7.263376e-07  0.000852\n",
              "3   1.278024e-06  1.278024e-06  0.001130  2.984555e-06  2.984555e-06  0.001728\n",
              "4   6.510925e-08  6.510925e-08  0.000255  6.207678e-06  6.207678e-06  0.002492\n",
              "5   2.588463e-07  2.588463e-07  0.000509  9.609909e-06  9.609909e-06  0.003100\n",
              "6   1.248211e-06  1.248211e-06  0.001117  1.240737e-05  1.240737e-05  0.003522\n",
              "7   2.370545e-06  2.370545e-06  0.001540  1.408731e-05  1.408731e-05  0.003753\n",
              "8   3.134864e-06  3.134864e-06  0.001771  1.451464e-05  1.451464e-05  0.003810\n",
              "9   3.338134e-06  3.338134e-06  0.001827  1.384497e-05  1.384497e-05  0.003721\n",
              "10  3.021101e-06  3.021101e-06  0.001738  1.237901e-05  1.237901e-05  0.003518\n",
              "11  2.358158e-06  2.358158e-06  0.001536  1.045195e-05  1.045195e-05  0.003233\n",
              "12  1.562988e-06  1.562988e-06  0.001250  8.370504e-06  8.370504e-06  0.002893\n",
              "13  8.288840e-07  8.288840e-07  0.000910  6.380867e-06  6.380867e-06  0.002526\n",
              "14  2.951598e-07  2.951598e-07  0.000543  4.653545e-06  4.653545e-06  0.002157\n",
              "15  3.043483e-08  3.043483e-08  0.000174  3.279409e-06  3.279409e-06  0.001811\n",
              "16  2.952817e-08  2.952817e-08  0.000172  2.276693e-06  2.276693e-06  0.001509\n",
              "17  2.245622e-07  2.245622e-07  0.000474  1.609503e-06  1.609503e-06  0.001269\n",
              "18  5.099238e-07  5.099238e-07  0.000714  1.214696e-06  1.214696e-06  0.001102\n",
              "19  7.754903e-07  7.754903e-07  0.000881  1.029214e-06  1.029214e-06  0.001015\n",
              "20  9.375076e-07  9.375076e-07  0.000968  1.009025e-06  1.009025e-06  0.001005\n",
              "21  9.569718e-07  9.569718e-07  0.000978  1.134965e-06  1.134965e-06  0.001065\n",
              "22  8.416300e-07  8.416300e-07  0.000917  1.406756e-06  1.406756e-06  0.001186\n",
              "23  6.347055e-07  6.347055e-07  0.000797  1.830084e-06  1.830084e-06  0.001353\n",
              "24  3.968312e-07  3.968312e-07  0.000630  2.402295e-06  2.402295e-06  0.001550\n",
              "25  1.873310e-07  1.873310e-07  0.000433  3.101155e-06  3.101155e-06  0.001761\n",
              "26  4.916945e-08  4.916945e-08  0.000222  3.879778e-06  3.879778e-06  0.001970\n",
              "27  1.699543e-10  1.699543e-10  0.000013  4.669278e-06  4.669278e-06  0.002161\n",
              "28  3.171947e-08  3.171947e-08  0.000178  5.388825e-06  5.388825e-06  0.002321\n",
              "29  1.146720e-07  1.146720e-07  0.000339  5.960478e-06  5.960478e-06  0.002441\n",
              "30  2.103665e-07  2.103665e-07  0.000459  6.324487e-06  6.324487e-06  0.002515\n",
              "31  2.831319e-07  2.831319e-07  0.000532  6.450475e-06  6.450475e-06  0.002540\n",
              "32  3.102789e-07  3.102789e-07  0.000557  6.341555e-06  6.341555e-06  0.002518\n",
              "33  2.867525e-07  2.867525e-07  0.000535  6.031017e-06  6.031017e-06  0.002456\n",
              "34  2.237868e-07  2.237868e-07  0.000473  5.573477e-06  5.573477e-06  0.002361\n",
              "35  1.429365e-07  1.429365e-07  0.000378  5.033471e-06  5.033471e-06  0.002244\n",
              "36  6.801039e-08  6.801039e-08  0.000261  4.474377e-06  4.474377e-06  0.002115\n",
              "37  1.756173e-08  1.756173e-08  0.000133  3.949922e-06  3.949922e-06  0.001987\n",
              "38  2.198868e-11  2.198868e-11  0.000005  3.499441e-06  3.499441e-06  0.001871\n",
              "39  1.256026e-08  1.256026e-08  0.000112  3.147056e-06  3.147056e-06  0.001774\n",
              "40  4.357954e-08  4.357954e-08  0.000209  2.903863e-06  2.903863e-06  0.001704\n",
              "41  7.766196e-08  7.766196e-08  0.000279  2.771601e-06  2.771601e-06  0.001665\n",
              "42  1.010853e-07  1.010853e-07  0.000318  2.746135e-06  2.746135e-06  0.001657\n",
              "43  1.060185e-07  1.060185e-07  0.000326  2.819563e-06  2.819563e-06  0.001679\n",
              "44  9.217054e-08  9.217054e-08  0.000304  2.980579e-06  2.980579e-06  0.001726\n",
              "45  6.569803e-08  6.569803e-08  0.000256  3.213637e-06  3.213637e-06  0.001793\n",
              "46  3.613409e-08  3.613409e-08  0.000190  3.497939e-06  3.497939e-06  0.001870\n",
              "47  1.265039e-08  1.265039e-08  0.000112  3.807339e-06  3.807339e-06  0.001951\n",
              "48  9.929619e-10  9.929619e-10  0.000032  4.111885e-06  4.111885e-06  0.002028\n",
              "49  2.027399e-09  2.027399e-09  0.000045  4.381017e-06  4.381017e-06  0.002093"
            ],
            "text/html": [
              "\n",
              "  <div id=\"df-d558bbbd-bb3e-43bc-beb1-f377eef64421\">\n",
              "    <div class=\"colab-df-container\">\n",
              "      <div>\n",
              "<style scoped>\n",
              "    .dataframe tbody tr th:only-of-type {\n",
              "        vertical-align: middle;\n",
              "    }\n",
              "\n",
              "    .dataframe tbody tr th {\n",
              "        vertical-align: top;\n",
              "    }\n",
              "\n",
              "    .dataframe thead th {\n",
              "        text-align: right;\n",
              "    }\n",
              "</style>\n",
              "<table border=\"1\" class=\"dataframe\">\n",
              "  <thead>\n",
              "    <tr style=\"text-align: right;\">\n",
              "      <th></th>\n",
              "      <th>loss</th>\n",
              "      <th>mse</th>\n",
              "      <th>mae</th>\n",
              "      <th>val_loss</th>\n",
              "      <th>val_mse</th>\n",
              "      <th>val_mae</th>\n",
              "    </tr>\n",
              "  </thead>\n",
              "  <tbody>\n",
              "    <tr>\n",
              "      <th>0</th>\n",
              "      <td>1.646438e-05</td>\n",
              "      <td>1.646438e-05</td>\n",
              "      <td>0.004058</td>\n",
              "      <td>1.156221e-06</td>\n",
              "      <td>1.156221e-06</td>\n",
              "      <td>0.001075</td>\n",
              "    </tr>\n",
              "    <tr>\n",
              "      <th>1</th>\n",
              "      <td>9.351541e-06</td>\n",
              "      <td>9.351541e-06</td>\n",
              "      <td>0.003058</td>\n",
              "      <td>8.569329e-09</td>\n",
              "      <td>8.569329e-09</td>\n",
              "      <td>0.000093</td>\n",
              "    </tr>\n",
              "    <tr>\n",
              "      <th>2</th>\n",
              "      <td>4.306962e-06</td>\n",
              "      <td>4.306962e-06</td>\n",
              "      <td>0.002075</td>\n",
              "      <td>7.263376e-07</td>\n",
              "      <td>7.263376e-07</td>\n",
              "      <td>0.000852</td>\n",
              "    </tr>\n",
              "    <tr>\n",
              "      <th>3</th>\n",
              "      <td>1.278024e-06</td>\n",
              "      <td>1.278024e-06</td>\n",
              "      <td>0.001130</td>\n",
              "      <td>2.984555e-06</td>\n",
              "      <td>2.984555e-06</td>\n",
              "      <td>0.001728</td>\n",
              "    </tr>\n",
              "    <tr>\n",
              "      <th>4</th>\n",
              "      <td>6.510925e-08</td>\n",
              "      <td>6.510925e-08</td>\n",
              "      <td>0.000255</td>\n",
              "      <td>6.207678e-06</td>\n",
              "      <td>6.207678e-06</td>\n",
              "      <td>0.002492</td>\n",
              "    </tr>\n",
              "    <tr>\n",
              "      <th>5</th>\n",
              "      <td>2.588463e-07</td>\n",
              "      <td>2.588463e-07</td>\n",
              "      <td>0.000509</td>\n",
              "      <td>9.609909e-06</td>\n",
              "      <td>9.609909e-06</td>\n",
              "      <td>0.003100</td>\n",
              "    </tr>\n",
              "    <tr>\n",
              "      <th>6</th>\n",
              "      <td>1.248211e-06</td>\n",
              "      <td>1.248211e-06</td>\n",
              "      <td>0.001117</td>\n",
              "      <td>1.240737e-05</td>\n",
              "      <td>1.240737e-05</td>\n",
              "      <td>0.003522</td>\n",
              "    </tr>\n",
              "    <tr>\n",
              "      <th>7</th>\n",
              "      <td>2.370545e-06</td>\n",
              "      <td>2.370545e-06</td>\n",
              "      <td>0.001540</td>\n",
              "      <td>1.408731e-05</td>\n",
              "      <td>1.408731e-05</td>\n",
              "      <td>0.003753</td>\n",
              "    </tr>\n",
              "    <tr>\n",
              "      <th>8</th>\n",
              "      <td>3.134864e-06</td>\n",
              "      <td>3.134864e-06</td>\n",
              "      <td>0.001771</td>\n",
              "      <td>1.451464e-05</td>\n",
              "      <td>1.451464e-05</td>\n",
              "      <td>0.003810</td>\n",
              "    </tr>\n",
              "    <tr>\n",
              "      <th>9</th>\n",
              "      <td>3.338134e-06</td>\n",
              "      <td>3.338134e-06</td>\n",
              "      <td>0.001827</td>\n",
              "      <td>1.384497e-05</td>\n",
              "      <td>1.384497e-05</td>\n",
              "      <td>0.003721</td>\n",
              "    </tr>\n",
              "    <tr>\n",
              "      <th>10</th>\n",
              "      <td>3.021101e-06</td>\n",
              "      <td>3.021101e-06</td>\n",
              "      <td>0.001738</td>\n",
              "      <td>1.237901e-05</td>\n",
              "      <td>1.237901e-05</td>\n",
              "      <td>0.003518</td>\n",
              "    </tr>\n",
              "    <tr>\n",
              "      <th>11</th>\n",
              "      <td>2.358158e-06</td>\n",
              "      <td>2.358158e-06</td>\n",
              "      <td>0.001536</td>\n",
              "      <td>1.045195e-05</td>\n",
              "      <td>1.045195e-05</td>\n",
              "      <td>0.003233</td>\n",
              "    </tr>\n",
              "    <tr>\n",
              "      <th>12</th>\n",
              "      <td>1.562988e-06</td>\n",
              "      <td>1.562988e-06</td>\n",
              "      <td>0.001250</td>\n",
              "      <td>8.370504e-06</td>\n",
              "      <td>8.370504e-06</td>\n",
              "      <td>0.002893</td>\n",
              "    </tr>\n",
              "    <tr>\n",
              "      <th>13</th>\n",
              "      <td>8.288840e-07</td>\n",
              "      <td>8.288840e-07</td>\n",
              "      <td>0.000910</td>\n",
              "      <td>6.380867e-06</td>\n",
              "      <td>6.380867e-06</td>\n",
              "      <td>0.002526</td>\n",
              "    </tr>\n",
              "    <tr>\n",
              "      <th>14</th>\n",
              "      <td>2.951598e-07</td>\n",
              "      <td>2.951598e-07</td>\n",
              "      <td>0.000543</td>\n",
              "      <td>4.653545e-06</td>\n",
              "      <td>4.653545e-06</td>\n",
              "      <td>0.002157</td>\n",
              "    </tr>\n",
              "    <tr>\n",
              "      <th>15</th>\n",
              "      <td>3.043483e-08</td>\n",
              "      <td>3.043483e-08</td>\n",
              "      <td>0.000174</td>\n",
              "      <td>3.279409e-06</td>\n",
              "      <td>3.279409e-06</td>\n",
              "      <td>0.001811</td>\n",
              "    </tr>\n",
              "    <tr>\n",
              "      <th>16</th>\n",
              "      <td>2.952817e-08</td>\n",
              "      <td>2.952817e-08</td>\n",
              "      <td>0.000172</td>\n",
              "      <td>2.276693e-06</td>\n",
              "      <td>2.276693e-06</td>\n",
              "      <td>0.001509</td>\n",
              "    </tr>\n",
              "    <tr>\n",
              "      <th>17</th>\n",
              "      <td>2.245622e-07</td>\n",
              "      <td>2.245622e-07</td>\n",
              "      <td>0.000474</td>\n",
              "      <td>1.609503e-06</td>\n",
              "      <td>1.609503e-06</td>\n",
              "      <td>0.001269</td>\n",
              "    </tr>\n",
              "    <tr>\n",
              "      <th>18</th>\n",
              "      <td>5.099238e-07</td>\n",
              "      <td>5.099238e-07</td>\n",
              "      <td>0.000714</td>\n",
              "      <td>1.214696e-06</td>\n",
              "      <td>1.214696e-06</td>\n",
              "      <td>0.001102</td>\n",
              "    </tr>\n",
              "    <tr>\n",
              "      <th>19</th>\n",
              "      <td>7.754903e-07</td>\n",
              "      <td>7.754903e-07</td>\n",
              "      <td>0.000881</td>\n",
              "      <td>1.029214e-06</td>\n",
              "      <td>1.029214e-06</td>\n",
              "      <td>0.001015</td>\n",
              "    </tr>\n",
              "    <tr>\n",
              "      <th>20</th>\n",
              "      <td>9.375076e-07</td>\n",
              "      <td>9.375076e-07</td>\n",
              "      <td>0.000968</td>\n",
              "      <td>1.009025e-06</td>\n",
              "      <td>1.009025e-06</td>\n",
              "      <td>0.001005</td>\n",
              "    </tr>\n",
              "    <tr>\n",
              "      <th>21</th>\n",
              "      <td>9.569718e-07</td>\n",
              "      <td>9.569718e-07</td>\n",
              "      <td>0.000978</td>\n",
              "      <td>1.134965e-06</td>\n",
              "      <td>1.134965e-06</td>\n",
              "      <td>0.001065</td>\n",
              "    </tr>\n",
              "    <tr>\n",
              "      <th>22</th>\n",
              "      <td>8.416300e-07</td>\n",
              "      <td>8.416300e-07</td>\n",
              "      <td>0.000917</td>\n",
              "      <td>1.406756e-06</td>\n",
              "      <td>1.406756e-06</td>\n",
              "      <td>0.001186</td>\n",
              "    </tr>\n",
              "    <tr>\n",
              "      <th>23</th>\n",
              "      <td>6.347055e-07</td>\n",
              "      <td>6.347055e-07</td>\n",
              "      <td>0.000797</td>\n",
              "      <td>1.830084e-06</td>\n",
              "      <td>1.830084e-06</td>\n",
              "      <td>0.001353</td>\n",
              "    </tr>\n",
              "    <tr>\n",
              "      <th>24</th>\n",
              "      <td>3.968312e-07</td>\n",
              "      <td>3.968312e-07</td>\n",
              "      <td>0.000630</td>\n",
              "      <td>2.402295e-06</td>\n",
              "      <td>2.402295e-06</td>\n",
              "      <td>0.001550</td>\n",
              "    </tr>\n",
              "    <tr>\n",
              "      <th>25</th>\n",
              "      <td>1.873310e-07</td>\n",
              "      <td>1.873310e-07</td>\n",
              "      <td>0.000433</td>\n",
              "      <td>3.101155e-06</td>\n",
              "      <td>3.101155e-06</td>\n",
              "      <td>0.001761</td>\n",
              "    </tr>\n",
              "    <tr>\n",
              "      <th>26</th>\n",
              "      <td>4.916945e-08</td>\n",
              "      <td>4.916945e-08</td>\n",
              "      <td>0.000222</td>\n",
              "      <td>3.879778e-06</td>\n",
              "      <td>3.879778e-06</td>\n",
              "      <td>0.001970</td>\n",
              "    </tr>\n",
              "    <tr>\n",
              "      <th>27</th>\n",
              "      <td>1.699543e-10</td>\n",
              "      <td>1.699543e-10</td>\n",
              "      <td>0.000013</td>\n",
              "      <td>4.669278e-06</td>\n",
              "      <td>4.669278e-06</td>\n",
              "      <td>0.002161</td>\n",
              "    </tr>\n",
              "    <tr>\n",
              "      <th>28</th>\n",
              "      <td>3.171947e-08</td>\n",
              "      <td>3.171947e-08</td>\n",
              "      <td>0.000178</td>\n",
              "      <td>5.388825e-06</td>\n",
              "      <td>5.388825e-06</td>\n",
              "      <td>0.002321</td>\n",
              "    </tr>\n",
              "    <tr>\n",
              "      <th>29</th>\n",
              "      <td>1.146720e-07</td>\n",
              "      <td>1.146720e-07</td>\n",
              "      <td>0.000339</td>\n",
              "      <td>5.960478e-06</td>\n",
              "      <td>5.960478e-06</td>\n",
              "      <td>0.002441</td>\n",
              "    </tr>\n",
              "    <tr>\n",
              "      <th>30</th>\n",
              "      <td>2.103665e-07</td>\n",
              "      <td>2.103665e-07</td>\n",
              "      <td>0.000459</td>\n",
              "      <td>6.324487e-06</td>\n",
              "      <td>6.324487e-06</td>\n",
              "      <td>0.002515</td>\n",
              "    </tr>\n",
              "    <tr>\n",
              "      <th>31</th>\n",
              "      <td>2.831319e-07</td>\n",
              "      <td>2.831319e-07</td>\n",
              "      <td>0.000532</td>\n",
              "      <td>6.450475e-06</td>\n",
              "      <td>6.450475e-06</td>\n",
              "      <td>0.002540</td>\n",
              "    </tr>\n",
              "    <tr>\n",
              "      <th>32</th>\n",
              "      <td>3.102789e-07</td>\n",
              "      <td>3.102789e-07</td>\n",
              "      <td>0.000557</td>\n",
              "      <td>6.341555e-06</td>\n",
              "      <td>6.341555e-06</td>\n",
              "      <td>0.002518</td>\n",
              "    </tr>\n",
              "    <tr>\n",
              "      <th>33</th>\n",
              "      <td>2.867525e-07</td>\n",
              "      <td>2.867525e-07</td>\n",
              "      <td>0.000535</td>\n",
              "      <td>6.031017e-06</td>\n",
              "      <td>6.031017e-06</td>\n",
              "      <td>0.002456</td>\n",
              "    </tr>\n",
              "    <tr>\n",
              "      <th>34</th>\n",
              "      <td>2.237868e-07</td>\n",
              "      <td>2.237868e-07</td>\n",
              "      <td>0.000473</td>\n",
              "      <td>5.573477e-06</td>\n",
              "      <td>5.573477e-06</td>\n",
              "      <td>0.002361</td>\n",
              "    </tr>\n",
              "    <tr>\n",
              "      <th>35</th>\n",
              "      <td>1.429365e-07</td>\n",
              "      <td>1.429365e-07</td>\n",
              "      <td>0.000378</td>\n",
              "      <td>5.033471e-06</td>\n",
              "      <td>5.033471e-06</td>\n",
              "      <td>0.002244</td>\n",
              "    </tr>\n",
              "    <tr>\n",
              "      <th>36</th>\n",
              "      <td>6.801039e-08</td>\n",
              "      <td>6.801039e-08</td>\n",
              "      <td>0.000261</td>\n",
              "      <td>4.474377e-06</td>\n",
              "      <td>4.474377e-06</td>\n",
              "      <td>0.002115</td>\n",
              "    </tr>\n",
              "    <tr>\n",
              "      <th>37</th>\n",
              "      <td>1.756173e-08</td>\n",
              "      <td>1.756173e-08</td>\n",
              "      <td>0.000133</td>\n",
              "      <td>3.949922e-06</td>\n",
              "      <td>3.949922e-06</td>\n",
              "      <td>0.001987</td>\n",
              "    </tr>\n",
              "    <tr>\n",
              "      <th>38</th>\n",
              "      <td>2.198868e-11</td>\n",
              "      <td>2.198868e-11</td>\n",
              "      <td>0.000005</td>\n",
              "      <td>3.499441e-06</td>\n",
              "      <td>3.499441e-06</td>\n",
              "      <td>0.001871</td>\n",
              "    </tr>\n",
              "    <tr>\n",
              "      <th>39</th>\n",
              "      <td>1.256026e-08</td>\n",
              "      <td>1.256026e-08</td>\n",
              "      <td>0.000112</td>\n",
              "      <td>3.147056e-06</td>\n",
              "      <td>3.147056e-06</td>\n",
              "      <td>0.001774</td>\n",
              "    </tr>\n",
              "    <tr>\n",
              "      <th>40</th>\n",
              "      <td>4.357954e-08</td>\n",
              "      <td>4.357954e-08</td>\n",
              "      <td>0.000209</td>\n",
              "      <td>2.903863e-06</td>\n",
              "      <td>2.903863e-06</td>\n",
              "      <td>0.001704</td>\n",
              "    </tr>\n",
              "    <tr>\n",
              "      <th>41</th>\n",
              "      <td>7.766196e-08</td>\n",
              "      <td>7.766196e-08</td>\n",
              "      <td>0.000279</td>\n",
              "      <td>2.771601e-06</td>\n",
              "      <td>2.771601e-06</td>\n",
              "      <td>0.001665</td>\n",
              "    </tr>\n",
              "    <tr>\n",
              "      <th>42</th>\n",
              "      <td>1.010853e-07</td>\n",
              "      <td>1.010853e-07</td>\n",
              "      <td>0.000318</td>\n",
              "      <td>2.746135e-06</td>\n",
              "      <td>2.746135e-06</td>\n",
              "      <td>0.001657</td>\n",
              "    </tr>\n",
              "    <tr>\n",
              "      <th>43</th>\n",
              "      <td>1.060185e-07</td>\n",
              "      <td>1.060185e-07</td>\n",
              "      <td>0.000326</td>\n",
              "      <td>2.819563e-06</td>\n",
              "      <td>2.819563e-06</td>\n",
              "      <td>0.001679</td>\n",
              "    </tr>\n",
              "    <tr>\n",
              "      <th>44</th>\n",
              "      <td>9.217054e-08</td>\n",
              "      <td>9.217054e-08</td>\n",
              "      <td>0.000304</td>\n",
              "      <td>2.980579e-06</td>\n",
              "      <td>2.980579e-06</td>\n",
              "      <td>0.001726</td>\n",
              "    </tr>\n",
              "    <tr>\n",
              "      <th>45</th>\n",
              "      <td>6.569803e-08</td>\n",
              "      <td>6.569803e-08</td>\n",
              "      <td>0.000256</td>\n",
              "      <td>3.213637e-06</td>\n",
              "      <td>3.213637e-06</td>\n",
              "      <td>0.001793</td>\n",
              "    </tr>\n",
              "    <tr>\n",
              "      <th>46</th>\n",
              "      <td>3.613409e-08</td>\n",
              "      <td>3.613409e-08</td>\n",
              "      <td>0.000190</td>\n",
              "      <td>3.497939e-06</td>\n",
              "      <td>3.497939e-06</td>\n",
              "      <td>0.001870</td>\n",
              "    </tr>\n",
              "    <tr>\n",
              "      <th>47</th>\n",
              "      <td>1.265039e-08</td>\n",
              "      <td>1.265039e-08</td>\n",
              "      <td>0.000112</td>\n",
              "      <td>3.807339e-06</td>\n",
              "      <td>3.807339e-06</td>\n",
              "      <td>0.001951</td>\n",
              "    </tr>\n",
              "    <tr>\n",
              "      <th>48</th>\n",
              "      <td>9.929619e-10</td>\n",
              "      <td>9.929619e-10</td>\n",
              "      <td>0.000032</td>\n",
              "      <td>4.111885e-06</td>\n",
              "      <td>4.111885e-06</td>\n",
              "      <td>0.002028</td>\n",
              "    </tr>\n",
              "    <tr>\n",
              "      <th>49</th>\n",
              "      <td>2.027399e-09</td>\n",
              "      <td>2.027399e-09</td>\n",
              "      <td>0.000045</td>\n",
              "      <td>4.381017e-06</td>\n",
              "      <td>4.381017e-06</td>\n",
              "      <td>0.002093</td>\n",
              "    </tr>\n",
              "  </tbody>\n",
              "</table>\n",
              "</div>\n",
              "      <button class=\"colab-df-convert\" onclick=\"convertToInteractive('df-d558bbbd-bb3e-43bc-beb1-f377eef64421')\"\n",
              "              title=\"Convert this dataframe to an interactive table.\"\n",
              "              style=\"display:none;\">\n",
              "        \n",
              "  <svg xmlns=\"http://www.w3.org/2000/svg\" height=\"24px\"viewBox=\"0 0 24 24\"\n",
              "       width=\"24px\">\n",
              "    <path d=\"M0 0h24v24H0V0z\" fill=\"none\"/>\n",
              "    <path d=\"M18.56 5.44l.94 2.06.94-2.06 2.06-.94-2.06-.94-.94-2.06-.94 2.06-2.06.94zm-11 1L8.5 8.5l.94-2.06 2.06-.94-2.06-.94L8.5 2.5l-.94 2.06-2.06.94zm10 10l.94 2.06.94-2.06 2.06-.94-2.06-.94-.94-2.06-.94 2.06-2.06.94z\"/><path d=\"M17.41 7.96l-1.37-1.37c-.4-.4-.92-.59-1.43-.59-.52 0-1.04.2-1.43.59L10.3 9.45l-7.72 7.72c-.78.78-.78 2.05 0 2.83L4 21.41c.39.39.9.59 1.41.59.51 0 1.02-.2 1.41-.59l7.78-7.78 2.81-2.81c.8-.78.8-2.07 0-2.86zM5.41 20L4 18.59l7.72-7.72 1.47 1.35L5.41 20z\"/>\n",
              "  </svg>\n",
              "      </button>\n",
              "      \n",
              "  <style>\n",
              "    .colab-df-container {\n",
              "      display:flex;\n",
              "      flex-wrap:wrap;\n",
              "      gap: 12px;\n",
              "    }\n",
              "\n",
              "    .colab-df-convert {\n",
              "      background-color: #E8F0FE;\n",
              "      border: none;\n",
              "      border-radius: 50%;\n",
              "      cursor: pointer;\n",
              "      display: none;\n",
              "      fill: #1967D2;\n",
              "      height: 32px;\n",
              "      padding: 0 0 0 0;\n",
              "      width: 32px;\n",
              "    }\n",
              "\n",
              "    .colab-df-convert:hover {\n",
              "      background-color: #E2EBFA;\n",
              "      box-shadow: 0px 1px 2px rgba(60, 64, 67, 0.3), 0px 1px 3px 1px rgba(60, 64, 67, 0.15);\n",
              "      fill: #174EA6;\n",
              "    }\n",
              "\n",
              "    [theme=dark] .colab-df-convert {\n",
              "      background-color: #3B4455;\n",
              "      fill: #D2E3FC;\n",
              "    }\n",
              "\n",
              "    [theme=dark] .colab-df-convert:hover {\n",
              "      background-color: #434B5C;\n",
              "      box-shadow: 0px 1px 3px 1px rgba(0, 0, 0, 0.15);\n",
              "      filter: drop-shadow(0px 1px 2px rgba(0, 0, 0, 0.3));\n",
              "      fill: #FFFFFF;\n",
              "    }\n",
              "  </style>\n",
              "\n",
              "      <script>\n",
              "        const buttonEl =\n",
              "          document.querySelector('#df-d558bbbd-bb3e-43bc-beb1-f377eef64421 button.colab-df-convert');\n",
              "        buttonEl.style.display =\n",
              "          google.colab.kernel.accessAllowed ? 'block' : 'none';\n",
              "\n",
              "        async function convertToInteractive(key) {\n",
              "          const element = document.querySelector('#df-d558bbbd-bb3e-43bc-beb1-f377eef64421');\n",
              "          const dataTable =\n",
              "            await google.colab.kernel.invokeFunction('convertToInteractive',\n",
              "                                                     [key], {});\n",
              "          if (!dataTable) return;\n",
              "\n",
              "          const docLinkHtml = 'Like what you see? Visit the ' +\n",
              "            '<a target=\"_blank\" href=https://colab.research.google.com/notebooks/data_table.ipynb>data table notebook</a>'\n",
              "            + ' to learn more about interactive tables.';\n",
              "          element.innerHTML = '';\n",
              "          dataTable['output_type'] = 'display_data';\n",
              "          await google.colab.output.renderOutput(dataTable, element);\n",
              "          const docLink = document.createElement('div');\n",
              "          docLink.innerHTML = docLinkHtml;\n",
              "          element.appendChild(docLink);\n",
              "        }\n",
              "      </script>\n",
              "    </div>\n",
              "  </div>\n",
              "  "
            ]
          },
          "metadata": {},
          "execution_count": 171
        }
      ]
    },
    {
      "cell_type": "code",
      "source": [
        "plt.plot(loss_metrics['mse']), plt.plot(loss_metrics['val_mse'])\n"
      ],
      "metadata": {
        "colab": {
          "base_uri": "https://localhost:8080/",
          "height": 480
        },
        "id": "8Gx0cTXaiN-j",
        "outputId": "13df236f-2626-4032-816d-63dcdc0924c7"
      },
      "execution_count": null,
      "outputs": [
        {
          "output_type": "execute_result",
          "data": {
            "text/plain": [
              "([<matplotlib.lines.Line2D at 0x7f8fb045cd30>],\n",
              " [<matplotlib.lines.Line2D at 0x7f8fb045c790>])"
            ]
          },
          "metadata": {},
          "execution_count": 180
        },
        {
          "output_type": "display_data",
          "data": {
            "text/plain": [
              "<Figure size 640x480 with 1 Axes>"
            ],
            "image/png": "[encoded data removed]"
          },
          "metadata": {}
        }
      ]
    },
    {
      "cell_type": "code",
      "source": [
        "plt.plot(loss_metrics['loss']), plt.plot(loss_metrics['val_loss'])"
      ],
      "metadata": {
        "colab": {
          "base_uri": "https://localhost:8080/",
          "height": 480
        },
        "id": "TYopeg2anXwo",
        "outputId": "c0377b70-be60-4b2b-99a9-0d7b9f3ba9e3"
      },
      "execution_count": null,
      "outputs": [
        {
          "output_type": "execute_result",
          "data": {
            "text/plain": [
              "([<matplotlib.lines.Line2D at 0x7f8fb05269b0>],\n",
              " [<matplotlib.lines.Line2D at 0x7f8fb8bda800>])"
            ]
          },
          "metadata": {},
          "execution_count": 181
        },
        {
          "output_type": "display_data",
          "data": {
            "text/plain": [
              "<Figure size 640x480 with 1 Axes>"
            ],
            "image/png": "[encoded data removed]"
          },
          "metadata": {}
        }
      ]
    },
    {
      "cell_type": "code",
      "source": [
        "eval_results = vixvolmodel.evaluate(testX,testY, batch_size = 50)"
      ],
      "metadata": {
        "colab": {
          "base_uri": "https://localhost:8080/"
        },
        "id": "U3XOcdFrnd5v",
        "outputId": "b9386578-9c85-4400-c120-205c056bfaa3"
      },
      "execution_count": null,
      "outputs": [
        {
          "output_type": "stream",
          "name": "stdout",
          "text": [
            "1/1 [==============================] - 0s 31ms/step - loss: 4.3810e-06 - mse: 4.3810e-06 - mae: 0.0021\n"
          ]
        }
      ]
    },
    {
      "cell_type": "code",
      "source": [
        "print(eval_results)"
      ],
      "metadata": {
        "colab": {
          "base_uri": "https://localhost:8080/"
        },
        "id": "EZ_qaOU1oGc4",
        "outputId": "7c3ac1c6-901e-4688-81ce-bfbb3e117468"
      },
      "execution_count": null,
      "outputs": [
        {
          "output_type": "stream",
          "name": "stdout",
          "text": [
            "[4.381016879051458e-06, 4.381016879051458e-06, 0.0020930878818035126]\n"
          ]
        }
      ]
    },
    {
      "cell_type": "code",
      "source": [
        "predictions = vixvolmodel.predict(testY)"
      ],
      "metadata": {
        "colab": {
          "base_uri": "https://localhost:8080/"
        },
        "id": "lgpki4ABo-mb",
        "outputId": "8be713fd-8ff0-48c0-8c92-d910d0b717ed"
      },
      "execution_count": null,
      "outputs": [
        {
          "output_type": "stream",
          "name": "stdout",
          "text": [
            "1/1 [==============================] - 0s 37ms/step\n"
          ]
        }
      ]
    },
    {
      "cell_type": "code",
      "source": [
        "print(predictions)"
      ],
      "metadata": {
        "colab": {
          "base_uri": "https://localhost:8080/"
        },
        "id": "nWUXp_r6pa-W",
        "outputId": "c10b449c-e413-4840-c602-507df1c944e8"
      },
      "execution_count": null,
      "outputs": [
        {
          "output_type": "stream",
          "name": "stdout",
          "text": [
            "[[0.00416807]]\n"
          ]
        }
      ]
    },
    {
      "cell_type": "markdown",
      "source": [
        "Overall the fit of the LSTM model is inferior as compared to the ARCH model when residuals are compared"
      ],
      "metadata": {
        "id": "JGKlP6L3nZXn"
      }
    }
  ]
}