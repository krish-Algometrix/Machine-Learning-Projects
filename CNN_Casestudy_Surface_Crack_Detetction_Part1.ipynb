{
  "nbformat": 4,
  "nbformat_minor": 0,
  "metadata": {
    "colab": {
      "provenance": [],
      "mount_file_id": "1BDQIR7JKTSsTCKB4ODxYcNaB_qlIKAnI",
      "authorship_tag": "ABX9TyOnaZvQv/Wzq/x7JLuUFfei",
      "include_colab_link": true
    },
    "kernelspec": {
      "name": "python3",
      "display_name": "Python 3"
    },
    "language_info": {
      "name": "python"
    }
  },
  "cells": [
    {
      "cell_type": "markdown",
      "metadata": {
        "id": "view-in-github",
        "colab_type": "text"
      },
      "source": [
        "<a href=\"https://colab.research.google.com/github/krish-Algometrix/Machine-Learning-Projects/blob/main/CNN_Casestudy_Surface_Crack_Detetction_Part1.ipynb\" target=\"_parent\"><img src=\"https://colab.research.google.com/assets/colab-badge.svg\" alt=\"Open In Colab\"/></a>"
      ]
    },
    {
      "cell_type": "markdown",
      "source": [],
      "metadata": {
        "id": "HTuTtqvM8dFH"
      }
    },
    {
      "cell_type": "code",
      "source": [
        "from "
      ],
      "metadata": {
        "id": "XaFUvWHG06Yb"
      },
      "execution_count": null,
      "outputs": []
    },
    {
      "cell_type": "code",
      "execution_count": null,
      "metadata": {
        "id": "yg9t8ijw7b2H"
      },
      "outputs": [],
      "source": [
        "# Importing the necessary basic libraries to carry out the task \n",
        "import tensorflow as tf\n",
        "import matplotlib.pyplot as plt\n",
        "import pandas as pd\n",
        "import numpy as np\n",
        "import os "
      ]
    },
    {
      "cell_type": "code",
      "source": [
        "# importing the libraries that are required for the CNN task\n",
        "import tensorflow. keras"
      ],
      "metadata": {
        "id": "Q5GADmKltzFQ"
      },
      "execution_count": null,
      "outputs": []
    },
    {
      "cell_type": "code",
      "source": [
        "from keras.preprocessing.image import ImageDataGenerator\n",
        "from tensorflow.keras.optimizers import RMSprop\n",
        "from tensorflow.keras import Model,layers\n"
      ],
      "metadata": {
        "id": "aSXePECKuoJD"
      },
      "execution_count": null,
      "outputs": []
    },
    {
      "cell_type": "code",
      "source": [
        "from matplotlib.image import imread\n",
        "import cv2"
      ],
      "metadata": {
        "id": "mri3jXQ4vJAZ"
      },
      "execution_count": null,
      "outputs": []
    },
    {
      "cell_type": "code",
      "source": [
        "print(tensorflow.version)"
      ],
      "metadata": {
        "colab": {
          "base_uri": "https://localhost:8080/"
        },
        "id": "R19P0o-l22kb",
        "outputId": "a0a5955c-27e3-4436-d3fb-7f281db5c3c5"
      },
      "execution_count": null,
      "outputs": [
        {
          "output_type": "stream",
          "name": "stdout",
          "text": [
            "<module 'tensorflow._api.v2.version' from '/usr/local/lib/python3.8/dist-packages/tensorflow/_api/v2/version/__init__.py'>\n"
          ]
        }
      ]
    },
    {
      "cell_type": "code",
      "source": [
        "pip install opencv-python   "
      ],
      "metadata": {
        "colab": {
          "base_uri": "https://localhost:8080/"
        },
        "id": "HdINyIbc9Yy9",
        "outputId": "f6cf56bf-e81b-4066-b9fe-206e4d9037b0"
      },
      "execution_count": null,
      "outputs": [
        {
          "output_type": "stream",
          "name": "stdout",
          "text": [
            "Looking in indexes: https://pypi.org/simple, https://us-python.pkg.dev/colab-wheels/public/simple/\n",
            "Requirement already satisfied: opencv-python in /usr/local/lib/python3.8/dist-packages (4.6.0.66)\n",
            "Requirement already satisfied: numpy>=1.17.3 in /usr/local/lib/python3.8/dist-packages (from opencv-python) (1.21.6)\n"
          ]
        }
      ]
    },
    {
      "cell_type": "code",
      "source": [
        "pip install pillow  # installing python immaging library"
      ],
      "metadata": {
        "colab": {
          "base_uri": "https://localhost:8080/"
        },
        "id": "-UfMiJfQ9uiY",
        "outputId": "24dfb500-bb17-4c4b-da6b-3e15203a22de"
      },
      "execution_count": null,
      "outputs": [
        {
          "output_type": "stream",
          "name": "stdout",
          "text": [
            "Looking in indexes: https://pypi.org/simple, https://us-python.pkg.dev/colab-wheels/public/simple/\n",
            "Requirement already satisfied: pillow in /usr/local/lib/python3.8/dist-packages (7.1.2)\n"
          ]
        }
      ]
    },
    {
      "cell_type": "code",
      "source": [
        "def load_images_from_folder(folder):\n",
        "    images = []\n",
        "    for filename in os.listdir(folder):\n",
        "        img = cv2.imread(os.path.join(folder,filename))\n",
        "        if img is not None:\n",
        "            images.append(img)\n",
        "        if len(images)>3:\n",
        "            break\n",
        "    fig=plt.figure(figsize=(10,12))\n",
        "    xrange=range(1,5)\n",
        "    \n",
        "    for img,x in zip(images,xrange):\n",
        "        ax=fig.add_subplot(2,2,x)\n",
        "        ax.imshow(img)\n",
        "        ax.set_title(img.shape)"
      ],
      "metadata": {
        "id": "yb9ahipLyBbQ"
      },
      "execution_count": null,
      "outputs": []
    },
    {
      "cell_type": "code",
      "source": [
        "from google.colab import files\n",
        "negative_images  = files.upload()"
      ],
      "metadata": {
        "id": "yt8M98gB30Sv"
      },
      "execution_count": null,
      "outputs": []
    },
    {
      "cell_type": "markdown",
      "source": [],
      "metadata": {
        "id": "vQBveMV-4PId"
      }
    },
    {
      "cell_type": "code",
      "source": [
        "from google.colab import files\n",
        "positive_images = files.upload()"
      ],
      "metadata": {
        "id": "fuCZubqY9xI2"
      },
      "execution_count": null,
      "outputs": []
    },
    {
      "cell_type": "code",
      "source": [
        "  img = cv2.imread('/content/00001.jpg' )\n",
        "  "
      ],
      "metadata": {
        "id": "R2mInG78-LAv"
      },
      "execution_count": null,
      "outputs": []
    },
    {
      "cell_type": "markdown",
      "source": [
        "# New Section"
      ],
      "metadata": {
        "id": "t_cce21e4Btj"
      }
    },
    {
      "cell_type": "code",
      "source": [],
      "metadata": {
        "id": "C0b-iw7QOqbR"
      },
      "execution_count": null,
      "outputs": []
    }
  ]
}