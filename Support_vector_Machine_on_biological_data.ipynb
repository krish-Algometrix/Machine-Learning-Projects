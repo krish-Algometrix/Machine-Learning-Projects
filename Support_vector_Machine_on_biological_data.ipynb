{
  "nbformat": 4,
  "nbformat_minor": 0,
  "metadata": {
    "colab": {
      "name": "Support vector Machine on biological data",
      "provenance": [],
      "collapsed_sections": [],
      "authorship_tag": "ABX9TyMifkIqm5inYWyYOFNnGyQ5",
      "include_colab_link": true
    },
    "kernelspec": {
      "name": "python3",
      "display_name": "Python 3"
    },
    "language_info": {
      "name": "python"
    }
  },
  "cells": [
    {
      "cell_type": "markdown",
      "metadata": {
        "id": "view-in-github",
        "colab_type": "text"
      },
      "source": [
        "<a href=\"https://colab.research.google.com/github/krish-hayagriva/Machine-Learning-Projects/blob/main/Support_vector_Machine_on_biological_data.ipynb\" target=\"_parent\"><img src=\"https://colab.research.google.com/assets/colab-badge.svg\" alt=\"Open In Colab\"/></a>"
      ]
    },
    {
      "cell_type": "markdown",
      "source": [
        "Roll no AA.SC.P2MCA2107470"
      ],
      "metadata": {
        "id": "G2oQdBJWDCXi"
      }
    },
    {
      "cell_type": "code",
      "source": [
        "from google.colab import drive\n",
        "drive.mount('/content/drive')"
      ],
      "metadata": {
        "colab": {
          "base_uri": "https://localhost:8080/"
        },
        "id": "_p-B4ZymlUmu",
        "outputId": "afd4cb2d-93c4-4d55-c022-427b6713a07a"
      },
      "execution_count": null,
      "outputs": [
        {
          "output_type": "stream",
          "name": "stdout",
          "text": [
            "Drive already mounted at /content/drive; to attempt to forcibly remount, call drive.mount(\"/content/drive\", force_remount=True).\n"
          ]
        }
      ]
    },
    {
      "cell_type": "code",
      "source": [
        "import pandas as pd"
      ],
      "metadata": {
        "id": "u59ua86EnPYi"
      },
      "execution_count": null,
      "outputs": []
    },
    {
      "cell_type": "code",
      "source": [
        "pip install sklearn"
      ],
      "metadata": {
        "colab": {
          "base_uri": "https://localhost:8080/"
        },
        "id": "-D5i8YkMjoA7",
        "outputId": "3faa8a09-f3a4-49fd-f44a-62a6c9b9ba58"
      },
      "execution_count": null,
      "outputs": [
        {
          "output_type": "stream",
          "name": "stdout",
          "text": [
            "Requirement already satisfied: sklearn in /usr/local/lib/python3.7/dist-packages (0.0)\n",
            "Requirement already satisfied: scikit-learn in /usr/local/lib/python3.7/dist-packages (from sklearn) (1.0.2)\n",
            "Requirement already satisfied: threadpoolctl>=2.0.0 in /usr/local/lib/python3.7/dist-packages (from scikit-learn->sklearn) (3.1.0)\n",
            "Requirement already satisfied: joblib>=0.11 in /usr/local/lib/python3.7/dist-packages (from scikit-learn->sklearn) (1.1.0)\n",
            "Requirement already satisfied: scipy>=1.1.0 in /usr/local/lib/python3.7/dist-packages (from scikit-learn->sklearn) (1.4.1)\n",
            "Requirement already satisfied: numpy>=1.14.6 in /usr/local/lib/python3.7/dist-packages (from scikit-learn->sklearn) (1.21.6)\n"
          ]
        }
      ]
    },
    {
      "cell_type": "code",
      "source": [
        "frgd = pd.read_excel('/content/drive/My Drive/frg2.xlsx')"
      ],
      "metadata": {
        "id": "HYcO122dmMdf"
      },
      "execution_count": null,
      "outputs": []
    },
    {
      "cell_type": "code",
      "source": [
        "type(frgd)"
      ],
      "metadata": {
        "colab": {
          "base_uri": "https://localhost:8080/"
        },
        "id": "faXTQsbnYqlG",
        "outputId": "3f274b59-a970-4141-d1be-e9b3428237fa"
      },
      "execution_count": null,
      "outputs": [
        {
          "output_type": "execute_result",
          "data": {
            "text/plain": [
              "pandas.core.frame.DataFrame"
            ]
          },
          "metadata": {},
          "execution_count": 303
        }
      ]
    },
    {
      "cell_type": "code",
      "source": [
        "frgd.info()"
      ],
      "metadata": {
        "colab": {
          "base_uri": "https://localhost:8080/"
        },
        "id": "6jHpBZf_cB7U",
        "outputId": "867be5ab-dd04-4b1d-c469-5d518e413d6e"
      },
      "execution_count": null,
      "outputs": [
        {
          "output_type": "stream",
          "name": "stdout",
          "text": [
            "<class 'pandas.core.frame.DataFrame'>\n",
            "RangeIndex: 7195 entries, 0 to 7194\n",
            "Data columns (total 6 columns):\n",
            " #   Column    Non-Null Count  Dtype  \n",
            "---  ------    --------------  -----  \n",
            " 0   MFCCs_ 8  7195 non-null   float64\n",
            " 1   MFCCs_ 9  7195 non-null   float64\n",
            " 2   MFCCs_10  7195 non-null   float64\n",
            " 3   MFCCs_11  7195 non-null   float64\n",
            " 4   MFCCs_12  7195 non-null   float64\n",
            " 5   Family    7195 non-null   object \n",
            "dtypes: float64(5), object(1)\n",
            "memory usage: 337.4+ KB\n"
          ]
        }
      ]
    },
    {
      "cell_type": "code",
      "source": [
        "frgd = frgd.rename({'MFCCs_ 8': 'm8', 'MFCCs_ 9': 'm9','MFCCs_10':'m10','MFCCs_11':'m11','MFCCs_12':'m12','Family':'fm'}, axis='columns')"
      ],
      "metadata": {
        "id": "pFhEGPaqdiXy"
      },
      "execution_count": null,
      "outputs": []
    },
    {
      "cell_type": "code",
      "source": [
        "frgd['fm'].value_counts"
      ],
      "metadata": {
        "colab": {
          "base_uri": "https://localhost:8080/"
        },
        "id": "fire2j13ceFE",
        "outputId": "e1161481-4d85-45df-c3fa-698f332faf68"
      },
      "execution_count": null,
      "outputs": [
        {
          "output_type": "execute_result",
          "data": {
            "text/plain": [
              "<bound method IndexOpsMixin.value_counts of 0           Leptodactylidae\n",
              "1           Leptodactylidae\n",
              "2           Leptodactylidae\n",
              "3           Leptodactylidae\n",
              "4           Leptodactylidae\n",
              "               ...         \n",
              "7190    Non-Leptodactylidae\n",
              "7191    Non-Leptodactylidae\n",
              "7192    Non-Leptodactylidae\n",
              "7193    Non-Leptodactylidae\n",
              "7194    Non-Leptodactylidae\n",
              "Name: fm, Length: 7195, dtype: object>"
            ]
          },
          "metadata": {},
          "execution_count": 306
        }
      ]
    },
    {
      "cell_type": "code",
      "source": [
        "frgx = pd.DataFrame(frgd.iloc[:, 0:4])\n",
        "y = pd.DataFrame(frgd.iloc[:,5])\n"
      ],
      "metadata": {
        "id": "NX9urCaCmSA3"
      },
      "execution_count": null,
      "outputs": []
    },
    {
      "cell_type": "markdown",
      "source": [
        "The base data of features is already between +1 and -1 and hence is standarized . Therefore no further standardization is carried out "
      ],
      "metadata": {
        "id": "D5LW0QiOmn14"
      }
    },
    {
      "cell_type": "code",
      "source": [
        "import sklearn\n",
        "from sklearn.datasets import make_classification\n",
        "from sklearn.pipeline import make_pipeline"
      ],
      "metadata": {
        "id": "mxWW5qdxfOjO"
      },
      "execution_count": null,
      "outputs": []
    },
    {
      "cell_type": "code",
      "source": [
        "from sklearn.svm import LinearSVC\n",
        "from sklearn.model_selection import train_test_split"
      ],
      "metadata": {
        "id": "tgHO92BalNrG"
      },
      "execution_count": null,
      "outputs": []
    },
    {
      "cell_type": "code",
      "source": [
        "X_train, X_test, y_train, y_test = train_test_split(frgx, y, test_size=0.30, random_state=42)"
      ],
      "metadata": {
        "id": "aP2FDLlWlea1"
      },
      "execution_count": null,
      "outputs": []
    },
    {
      "cell_type": "code",
      "source": [
        "frgx.info()"
      ],
      "metadata": {
        "colab": {
          "base_uri": "https://localhost:8080/"
        },
        "id": "FIPw4Qvd5hCC",
        "outputId": "bd5a188a-d856-482e-8430-b3f45d6d5c8f"
      },
      "execution_count": null,
      "outputs": [
        {
          "output_type": "stream",
          "name": "stdout",
          "text": [
            "<class 'pandas.core.frame.DataFrame'>\n",
            "RangeIndex: 7195 entries, 0 to 7194\n",
            "Data columns (total 4 columns):\n",
            " #   Column  Non-Null Count  Dtype  \n",
            "---  ------  --------------  -----  \n",
            " 0   m8      7195 non-null   float64\n",
            " 1   m9      7195 non-null   float64\n",
            " 2   m10     7195 non-null   float64\n",
            " 3   m11     7195 non-null   float64\n",
            "dtypes: float64(4)\n",
            "memory usage: 225.0 KB\n"
          ]
        }
      ]
    },
    {
      "cell_type": "code",
      "source": [
        "X_train.info()"
      ],
      "metadata": {
        "colab": {
          "base_uri": "https://localhost:8080/"
        },
        "id": "sIbtx8x6nI8m",
        "outputId": "cb395ac4-b4e6-439e-b3e8-c2f226c83464"
      },
      "execution_count": null,
      "outputs": [
        {
          "output_type": "stream",
          "name": "stdout",
          "text": [
            "<class 'pandas.core.frame.DataFrame'>\n",
            "Int64Index: 5036 entries, 2004 to 860\n",
            "Data columns (total 4 columns):\n",
            " #   Column  Non-Null Count  Dtype  \n",
            "---  ------  --------------  -----  \n",
            " 0   m8      5036 non-null   float64\n",
            " 1   m9      5036 non-null   float64\n",
            " 2   m10     5036 non-null   float64\n",
            " 3   m11     5036 non-null   float64\n",
            "dtypes: float64(4)\n",
            "memory usage: 196.7 KB\n"
          ]
        }
      ]
    },
    {
      "cell_type": "code",
      "source": [
        "y_train.info()"
      ],
      "metadata": {
        "colab": {
          "base_uri": "https://localhost:8080/"
        },
        "id": "SMMqT_dynS-g",
        "outputId": "3a44f43e-cf45-4aa2-adc0-d48061e27985"
      },
      "execution_count": null,
      "outputs": [
        {
          "output_type": "stream",
          "name": "stdout",
          "text": [
            "<class 'pandas.core.frame.DataFrame'>\n",
            "Int64Index: 5036 entries, 2004 to 860\n",
            "Data columns (total 1 columns):\n",
            " #   Column  Non-Null Count  Dtype \n",
            "---  ------  --------------  ----- \n",
            " 0   fm      5036 non-null   object\n",
            "dtypes: object(1)\n",
            "memory usage: 78.7+ KB\n"
          ]
        }
      ]
    },
    {
      "cell_type": "code",
      "source": [
        "X_test.info()"
      ],
      "metadata": {
        "colab": {
          "base_uri": "https://localhost:8080/"
        },
        "id": "bmaGWQzbnVSR",
        "outputId": "a3c69838-884c-46f8-bbed-ca6dfe5dec26"
      },
      "execution_count": null,
      "outputs": [
        {
          "output_type": "stream",
          "name": "stdout",
          "text": [
            "<class 'pandas.core.frame.DataFrame'>\n",
            "Int64Index: 2159 entries, 3340 to 2653\n",
            "Data columns (total 4 columns):\n",
            " #   Column  Non-Null Count  Dtype  \n",
            "---  ------  --------------  -----  \n",
            " 0   m8      2159 non-null   float64\n",
            " 1   m9      2159 non-null   float64\n",
            " 2   m10     2159 non-null   float64\n",
            " 3   m11     2159 non-null   float64\n",
            "dtypes: float64(4)\n",
            "memory usage: 84.3 KB\n"
          ]
        }
      ]
    },
    {
      "cell_type": "code",
      "source": [
        "y_test.info()"
      ],
      "metadata": {
        "colab": {
          "base_uri": "https://localhost:8080/"
        },
        "id": "d5JfoUyLnXZU",
        "outputId": "5f68903a-fc82-453c-e06e-7abb85dc2b41"
      },
      "execution_count": null,
      "outputs": [
        {
          "output_type": "stream",
          "name": "stdout",
          "text": [
            "<class 'pandas.core.frame.DataFrame'>\n",
            "Int64Index: 2159 entries, 3340 to 2653\n",
            "Data columns (total 1 columns):\n",
            " #   Column  Non-Null Count  Dtype \n",
            "---  ------  --------------  ----- \n",
            " 0   fm      2159 non-null   object\n",
            "dtypes: object(1)\n",
            "memory usage: 33.7+ KB\n"
          ]
        }
      ]
    },
    {
      "cell_type": "code",
      "source": [
        "frgx,y = make_classification(n_features=4, random_state=100)\n",
        "clf = make_pipeline(LinearSVC(random_state=0, tol=0.0001, C= 1,intercept_scaling =1))\n",
        "frgTM = clf.fit(X_train, y_train)"
      ],
      "metadata": {
        "colab": {
          "base_uri": "https://localhost:8080/"
        },
        "id": "8JKfI5qSnl0J",
        "outputId": "f12b7243-e1ad-44a6-d452-d0699e38bd04"
      },
      "execution_count": null,
      "outputs": [
        {
          "output_type": "stream",
          "name": "stderr",
          "text": [
            "/usr/local/lib/python3.7/dist-packages/sklearn/utils/validation.py:993: DataConversionWarning: A column-vector y was passed when a 1d array was expected. Please change the shape of y to (n_samples, ), for example using ravel().\n",
            "  y = column_or_1d(y, warn=True)\n"
          ]
        }
      ]
    },
    {
      "cell_type": "code",
      "source": [
        "print(clf.named_steps['linearsvc'].coef_)"
      ],
      "metadata": {
        "colab": {
          "base_uri": "https://localhost:8080/"
        },
        "id": "9wgWioLzpgvk",
        "outputId": "01908fc5-1edb-4827-8c21-f0434613407f"
      },
      "execution_count": null,
      "outputs": [
        {
          "output_type": "stream",
          "name": "stdout",
          "text": [
            "[[-3.46478879  1.90606732 -3.75106338  4.27876521]]\n"
          ]
        }
      ]
    },
    {
      "cell_type": "markdown",
      "source": [
        "From the co efficents we see that the coeeficients of the first feature is less than 1 while that of the others are >30 but <50. These are the  coeeficients of the linear separator equations"
      ],
      "metadata": {
        "id": "lFexWE6Hp1r6"
      }
    },
    {
      "cell_type": "code",
      "source": [
        "print(clf.named_steps['linearsvc'].intercept_)"
      ],
      "metadata": {
        "colab": {
          "base_uri": "https://localhost:8080/"
        },
        "id": "mlHhgoO1pvKs",
        "outputId": "01601234-7ab1-4520-f97c-bdb4747ca394"
      },
      "execution_count": null,
      "outputs": [
        {
          "output_type": "stream",
          "name": "stdout",
          "text": [
            "[0.23718199]\n"
          ]
        }
      ]
    },
    {
      "cell_type": "code",
      "source": [
        "frgTMp = pd.DataFrame(clf.predict(X_train), columns = ['predicted frog type'])\n",
        "frgTMp['actual'] = y_train.values"
      ],
      "metadata": {
        "id": "h8NhOUyxsDBv"
      },
      "execution_count": null,
      "outputs": []
    },
    {
      "cell_type": "code",
      "source": [
        "frgTMp"
      ],
      "metadata": {
        "colab": {
          "base_uri": "https://localhost:8080/",
          "height": 424
        },
        "id": "qnyT1_DPzPXa",
        "outputId": "7fb8b94e-dad8-4788-891d-babecaa90f58"
      },
      "execution_count": null,
      "outputs": [
        {
          "output_type": "execute_result",
          "data": {
            "text/plain": [
              "      predicted frog type               actual\n",
              "0         Leptodactylidae      Leptodactylidae\n",
              "1         Leptodactylidae  Non-Leptodactylidae\n",
              "2     Non-Leptodactylidae  Non-Leptodactylidae\n",
              "3         Leptodactylidae      Leptodactylidae\n",
              "4         Leptodactylidae      Leptodactylidae\n",
              "...                   ...                  ...\n",
              "5031      Leptodactylidae      Leptodactylidae\n",
              "5032  Non-Leptodactylidae  Non-Leptodactylidae\n",
              "5033  Non-Leptodactylidae  Non-Leptodactylidae\n",
              "5034  Non-Leptodactylidae  Non-Leptodactylidae\n",
              "5035      Leptodactylidae  Non-Leptodactylidae\n",
              "\n",
              "[5036 rows x 2 columns]"
            ],
            "text/html": [
              "\n",
              "  <div id=\"df-237f24db-23e9-43e9-86ff-a26cb9135c57\">\n",
              "    <div class=\"colab-df-container\">\n",
              "      <div>\n",
              "<style scoped>\n",
              "    .dataframe tbody tr th:only-of-type {\n",
              "        vertical-align: middle;\n",
              "    }\n",
              "\n",
              "    .dataframe tbody tr th {\n",
              "        vertical-align: top;\n",
              "    }\n",
              "\n",
              "    .dataframe thead th {\n",
              "        text-align: right;\n",
              "    }\n",
              "</style>\n",
              "<table border=\"1\" class=\"dataframe\">\n",
              "  <thead>\n",
              "    <tr style=\"text-align: right;\">\n",
              "      <th></th>\n",
              "      <th>predicted frog type</th>\n",
              "      <th>actual</th>\n",
              "    </tr>\n",
              "  </thead>\n",
              "  <tbody>\n",
              "    <tr>\n",
              "      <th>0</th>\n",
              "      <td>Leptodactylidae</td>\n",
              "      <td>Leptodactylidae</td>\n",
              "    </tr>\n",
              "    <tr>\n",
              "      <th>1</th>\n",
              "      <td>Leptodactylidae</td>\n",
              "      <td>Non-Leptodactylidae</td>\n",
              "    </tr>\n",
              "    <tr>\n",
              "      <th>2</th>\n",
              "      <td>Non-Leptodactylidae</td>\n",
              "      <td>Non-Leptodactylidae</td>\n",
              "    </tr>\n",
              "    <tr>\n",
              "      <th>3</th>\n",
              "      <td>Leptodactylidae</td>\n",
              "      <td>Leptodactylidae</td>\n",
              "    </tr>\n",
              "    <tr>\n",
              "      <th>4</th>\n",
              "      <td>Leptodactylidae</td>\n",
              "      <td>Leptodactylidae</td>\n",
              "    </tr>\n",
              "    <tr>\n",
              "      <th>...</th>\n",
              "      <td>...</td>\n",
              "      <td>...</td>\n",
              "    </tr>\n",
              "    <tr>\n",
              "      <th>5031</th>\n",
              "      <td>Leptodactylidae</td>\n",
              "      <td>Leptodactylidae</td>\n",
              "    </tr>\n",
              "    <tr>\n",
              "      <th>5032</th>\n",
              "      <td>Non-Leptodactylidae</td>\n",
              "      <td>Non-Leptodactylidae</td>\n",
              "    </tr>\n",
              "    <tr>\n",
              "      <th>5033</th>\n",
              "      <td>Non-Leptodactylidae</td>\n",
              "      <td>Non-Leptodactylidae</td>\n",
              "    </tr>\n",
              "    <tr>\n",
              "      <th>5034</th>\n",
              "      <td>Non-Leptodactylidae</td>\n",
              "      <td>Non-Leptodactylidae</td>\n",
              "    </tr>\n",
              "    <tr>\n",
              "      <th>5035</th>\n",
              "      <td>Leptodactylidae</td>\n",
              "      <td>Non-Leptodactylidae</td>\n",
              "    </tr>\n",
              "  </tbody>\n",
              "</table>\n",
              "<p>5036 rows × 2 columns</p>\n",
              "</div>\n",
              "      <button class=\"colab-df-convert\" onclick=\"convertToInteractive('df-237f24db-23e9-43e9-86ff-a26cb9135c57')\"\n",
              "              title=\"Convert this dataframe to an interactive table.\"\n",
              "              style=\"display:none;\">\n",
              "        \n",
              "  <svg xmlns=\"http://www.w3.org/2000/svg\" height=\"24px\"viewBox=\"0 0 24 24\"\n",
              "       width=\"24px\">\n",
              "    <path d=\"M0 0h24v24H0V0z\" fill=\"none\"/>\n",
              "    <path d=\"M18.56 5.44l.94 2.06.94-2.06 2.06-.94-2.06-.94-.94-2.06-.94 2.06-2.06.94zm-11 1L8.5 8.5l.94-2.06 2.06-.94-2.06-.94L8.5 2.5l-.94 2.06-2.06.94zm10 10l.94 2.06.94-2.06 2.06-.94-2.06-.94-.94-2.06-.94 2.06-2.06.94z\"/><path d=\"M17.41 7.96l-1.37-1.37c-.4-.4-.92-.59-1.43-.59-.52 0-1.04.2-1.43.59L10.3 9.45l-7.72 7.72c-.78.78-.78 2.05 0 2.83L4 21.41c.39.39.9.59 1.41.59.51 0 1.02-.2 1.41-.59l7.78-7.78 2.81-2.81c.8-.78.8-2.07 0-2.86zM5.41 20L4 18.59l7.72-7.72 1.47 1.35L5.41 20z\"/>\n",
              "  </svg>\n",
              "      </button>\n",
              "      \n",
              "  <style>\n",
              "    .colab-df-container {\n",
              "      display:flex;\n",
              "      flex-wrap:wrap;\n",
              "      gap: 12px;\n",
              "    }\n",
              "\n",
              "    .colab-df-convert {\n",
              "      background-color: #E8F0FE;\n",
              "      border: none;\n",
              "      border-radius: 50%;\n",
              "      cursor: pointer;\n",
              "      display: none;\n",
              "      fill: #1967D2;\n",
              "      height: 32px;\n",
              "      padding: 0 0 0 0;\n",
              "      width: 32px;\n",
              "    }\n",
              "\n",
              "    .colab-df-convert:hover {\n",
              "      background-color: #E2EBFA;\n",
              "      box-shadow: 0px 1px 2px rgba(60, 64, 67, 0.3), 0px 1px 3px 1px rgba(60, 64, 67, 0.15);\n",
              "      fill: #174EA6;\n",
              "    }\n",
              "\n",
              "    [theme=dark] .colab-df-convert {\n",
              "      background-color: #3B4455;\n",
              "      fill: #D2E3FC;\n",
              "    }\n",
              "\n",
              "    [theme=dark] .colab-df-convert:hover {\n",
              "      background-color: #434B5C;\n",
              "      box-shadow: 0px 1px 3px 1px rgba(0, 0, 0, 0.15);\n",
              "      filter: drop-shadow(0px 1px 2px rgba(0, 0, 0, 0.3));\n",
              "      fill: #FFFFFF;\n",
              "    }\n",
              "  </style>\n",
              "\n",
              "      <script>\n",
              "        const buttonEl =\n",
              "          document.querySelector('#df-237f24db-23e9-43e9-86ff-a26cb9135c57 button.colab-df-convert');\n",
              "        buttonEl.style.display =\n",
              "          google.colab.kernel.accessAllowed ? 'block' : 'none';\n",
              "\n",
              "        async function convertToInteractive(key) {\n",
              "          const element = document.querySelector('#df-237f24db-23e9-43e9-86ff-a26cb9135c57');\n",
              "          const dataTable =\n",
              "            await google.colab.kernel.invokeFunction('convertToInteractive',\n",
              "                                                     [key], {});\n",
              "          if (!dataTable) return;\n",
              "\n",
              "          const docLinkHtml = 'Like what you see? Visit the ' +\n",
              "            '<a target=\"_blank\" href=https://colab.research.google.com/notebooks/data_table.ipynb>data table notebook</a>'\n",
              "            + ' to learn more about interactive tables.';\n",
              "          element.innerHTML = '';\n",
              "          dataTable['output_type'] = 'display_data';\n",
              "          await google.colab.output.renderOutput(dataTable, element);\n",
              "          const docLink = document.createElement('div');\n",
              "          docLink.innerHTML = docLinkHtml;\n",
              "          element.appendChild(docLink);\n",
              "        }\n",
              "      </script>\n",
              "    </div>\n",
              "  </div>\n",
              "  "
            ]
          },
          "metadata": {},
          "execution_count": 320
        }
      ]
    },
    {
      "cell_type": "code",
      "source": [
        "# performance of trainning model\n",
        "from sklearn import metrics\n",
        "from sklearn.metrics import confusion_matrix\n",
        "from sklearn.metrics import plot_confusion_matrix\n",
        "cf = plot_confusion_matrix(clf,X_train,y_train) "
      ],
      "metadata": {
        "colab": {
          "base_uri": "https://localhost:8080/",
          "height": 334
        },
        "id": "DU6AjQBX22Vp",
        "outputId": "a8f173ab-2e9b-45f1-992d-e5ec38916e9c"
      },
      "execution_count": null,
      "outputs": [
        {
          "output_type": "stream",
          "name": "stderr",
          "text": [
            "/usr/local/lib/python3.7/dist-packages/sklearn/utils/deprecation.py:87: FutureWarning: Function plot_confusion_matrix is deprecated; Function `plot_confusion_matrix` is deprecated in 1.0 and will be removed in 1.2. Use one of the class methods: ConfusionMatrixDisplay.from_predictions or ConfusionMatrixDisplay.from_estimator.\n",
            "  warnings.warn(msg, category=FutureWarning)\n"
          ]
        },
        {
          "output_type": "display_data",
          "data": {
            "text/plain": [
              "<Figure size 432x288 with 2 Axes>"
            ],
            "image/png": "[encoded data removed]"
          },
          "metadata": {
            "needs_background": "light"
          }
        }
      ]
    },
    {
      "cell_type": "code",
      "source": [
        "from sklearn.metrics import classification_report\n",
        "\n",
        "print(classification_report(frgTMp['actual'],frgTMp['predicted frog type']))"
      ],
      "metadata": {
        "colab": {
          "base_uri": "https://localhost:8080/"
        },
        "id": "Kchvc3_f_JqD",
        "outputId": "7bcdcc5c-fae6-45ef-b1fe-0d8a28d40490"
      },
      "execution_count": null,
      "outputs": [
        {
          "output_type": "stream",
          "name": "stdout",
          "text": [
            "                     precision    recall  f1-score   support\n",
            "\n",
            "    Leptodactylidae       0.83      0.90      0.86      3073\n",
            "Non-Leptodactylidae       0.82      0.70      0.75      1963\n",
            "\n",
            "           accuracy                           0.82      5036\n",
            "          macro avg       0.82      0.80      0.81      5036\n",
            "       weighted avg       0.82      0.82      0.82      5036\n",
            "\n"
          ]
        }
      ]
    },
    {
      "cell_type": "code",
      "source": [
        "frgTEMp = pd.DataFrame(clf.predict(X_test), columns = ['predicted frog type'])"
      ],
      "metadata": {
        "id": "qWkqfpu8-4GC"
      },
      "execution_count": null,
      "outputs": []
    },
    {
      "cell_type": "code",
      "source": [
        "frgTEMp['actual'] = y_test.values"
      ],
      "metadata": {
        "id": "QYd0chl8Cf_X"
      },
      "execution_count": null,
      "outputs": []
    },
    {
      "cell_type": "code",
      "source": [
        "cf = plot_confusion_matrix(clf,X_test,y_test) "
      ],
      "metadata": {
        "colab": {
          "base_uri": "https://localhost:8080/",
          "height": 334
        },
        "id": "rPqg8xZ-4Mpk",
        "outputId": "86312c40-5193-4c3f-bbb7-c54191393c49"
      },
      "execution_count": null,
      "outputs": [
        {
          "output_type": "stream",
          "name": "stderr",
          "text": [
            "/usr/local/lib/python3.7/dist-packages/sklearn/utils/deprecation.py:87: FutureWarning: Function plot_confusion_matrix is deprecated; Function `plot_confusion_matrix` is deprecated in 1.0 and will be removed in 1.2. Use one of the class methods: ConfusionMatrixDisplay.from_predictions or ConfusionMatrixDisplay.from_estimator.\n",
            "  warnings.warn(msg, category=FutureWarning)\n"
          ]
        },
        {
          "output_type": "display_data",
          "data": {
            "text/plain": [
              "<Figure size 432x288 with 2 Axes>"
            ],
            "image/png": "[encoded data removed]"
          },
          "metadata": {
            "needs_background": "light"
          }
        }
      ]
    },
    {
      "cell_type": "code",
      "source": [
        "from sklearn.metrics import classification_report\n",
        "\n",
        "print(classification_report(frgTEMp['actual'],frgTEMp['predicted frog type']))"
      ],
      "metadata": {
        "colab": {
          "base_uri": "https://localhost:8080/"
        },
        "id": "qWRS75qq_EKs",
        "outputId": "c89525fd-9ae2-4c68-fe32-471b4561c644"
      },
      "execution_count": null,
      "outputs": [
        {
          "output_type": "stream",
          "name": "stdout",
          "text": [
            "                     precision    recall  f1-score   support\n",
            "\n",
            "    Leptodactylidae       0.84      0.88      0.86      1347\n",
            "Non-Leptodactylidae       0.79      0.72      0.75       812\n",
            "\n",
            "           accuracy                           0.82      2159\n",
            "          macro avg       0.81      0.80      0.81      2159\n",
            "       weighted avg       0.82      0.82      0.82      2159\n",
            "\n"
          ]
        }
      ]
    }
  ]
}